{
 "cells": [
  {
   "cell_type": "markdown",
   "metadata": {},
   "source": [
    "### Introduction\n",
    "\n",
    "The aim of this project will be to predict the the payment default for the next months for the given credits based on different demographic variables. In order to achieve it, we are going to analyze the influence of each variable and we are going to use different machine learning algorithms to get the best possible predictions."
   ]
  },
  {
   "cell_type": "code",
   "execution_count": 105,
   "metadata": {},
   "outputs": [],
   "source": [
    "import pandas as pd\n",
    "\n",
    "import numpy as np\n",
    "import seaborn as sb\n",
    "import matplotlib.pyplot as plt\n",
    "from sklearn.preprocessing import StandardScaler\n",
    "from sklearn.preprocessing import OneHotEncoder\n",
    "from sklearn.linear_model import LogisticRegression\n",
    "from sklearn.tree import DecisionTreeClassifier\n",
    "from sklearn.model_selection import train_test_split\n",
    "from sklearn.metrics import r2_score , mean_squared_error,confusion_matrix , classification_report\n",
    "from sklearn.ensemble import RandomForestClassifier\n",
    "from imblearn.over_sampling import SMOTE\n",
    "from imblearn.under_sampling import TomekLinks\n",
    "from sklearn.model_selection import GridSearchCV\n",
    "import pickle\n",
    "import warnings\n",
    "warnings.filterwarnings('ignore')\n",
    "\n",
    "pd.set_option('display.max_columns', None)"
   ]
  },
  {
   "cell_type": "code",
   "execution_count": 106,
   "metadata": {},
   "outputs": [],
   "source": [
    "df_credit=pd.read_csv(\"default of credit card clients.csv\")"
   ]
  },
  {
   "cell_type": "markdown",
   "metadata": {},
   "source": [
    "#### INFORMATION ABOUT THE DATA\n",
    "\n",
    "*LIMIT_BAL*: Amount of the given credit (NT dollar): it includes both the individual consumer credit and his/her family (supplementary) credit.\n",
    "\n",
    "*SEX*: Gender (1 = male; 2 = female).\n",
    "\n",
    "*EDUCATION*: Education (1 = graduate school(Master or Doctor degree's); 2 = university; 3 = high school; 4 = others).\n",
    "\n",
    "*MARRIAGE*: Marital status (1 = married; 2 = single; 3 = others(Outlayers | Gays)).\n",
    "\n",
    "*AGE*: Age (year).\n",
    "\n",
    "*PAY_1-PAY_6*: History of past payment. We tracked the past monthly payment recordsfrom April to September, 2005 as follows:\n",
    "\n",
    "PAY_1 = the repayment status in September, 2005; PAY_2 = the repayment status in August, 2005; . . .;PAY_6 = the repayment status in April, 2005. The measurement scale for the repayment status is:\n",
    "\n",
    "-2: No consumption; -1: Paid in full; 0: The use of revolving credit; 1 = payment delay for one month; 2 = payment delay for two months; . . .; 8 = payment delay for eight months; 9 = payment delay for nine months and above.\n",
    "\n",
    "*BILL_AMT1–BILL_AMT6*: Amount of bill statement (NT dollar).\n",
    "\n",
    "BILL_AMT1 = amount of bill statement in September 2005, BILL_AMT2 = amount of bill statement in August 2005, BILL_AMT6 = amount of bill statement in April 2005.\n",
    "\n",
    "*PAY_AMT1-PAY_AMT6*: Amount of previous payment (NT dollar).\n",
    "\n",
    "PAY_AMT1 = amount paid in September 2005, PAY_AMT2 = amount paid in August 2005, PAY_AMT6 = amount paid in April 2005.\n",
    "\n",
    "**dpnm**: default payment next month. Our target variable (our *y*). The value we want to predict. y=0 then not default, y=1 then default."
   ]
  },
  {
   "cell_type": "code",
   "execution_count": 107,
   "metadata": {},
   "outputs": [
    {
     "name": "stdout",
     "output_type": "stream",
     "text": [
      "<class 'pandas.core.frame.DataFrame'>\n",
      "RangeIndex: 30000 entries, 0 to 29999\n",
      "Data columns (total 25 columns):\n",
      " #   Column     Non-Null Count  Dtype\n",
      "---  ------     --------------  -----\n",
      " 0   ID         30000 non-null  int64\n",
      " 1   LIMIT_BAL  30000 non-null  int64\n",
      " 2   SEX        30000 non-null  int64\n",
      " 3   EDUCATION  30000 non-null  int64\n",
      " 4   MARRIAGE   30000 non-null  int64\n",
      " 5   AGE        30000 non-null  int64\n",
      " 6   PAY_1      30000 non-null  int64\n",
      " 7   PAY_2      30000 non-null  int64\n",
      " 8   PAY_3      30000 non-null  int64\n",
      " 9   PAY_4      30000 non-null  int64\n",
      " 10  PAY_5      30000 non-null  int64\n",
      " 11  PAY_6      30000 non-null  int64\n",
      " 12  BILL_AMT1  30000 non-null  int64\n",
      " 13  BILL_AMT2  30000 non-null  int64\n",
      " 14  BILL_AMT3  30000 non-null  int64\n",
      " 15  BILL_AMT4  30000 non-null  int64\n",
      " 16  BILL_AMT5  30000 non-null  int64\n",
      " 17  BILL_AMT6  30000 non-null  int64\n",
      " 18  PAY_AMT1   30000 non-null  int64\n",
      " 19  PAY_AMT2   30000 non-null  int64\n",
      " 20  PAY_AMT3   30000 non-null  int64\n",
      " 21  PAY_AMT4   30000 non-null  int64\n",
      " 22  PAY_AMT5   30000 non-null  int64\n",
      " 23  PAY_AMT6   30000 non-null  int64\n",
      " 24  dpnm       30000 non-null  int64\n",
      "dtypes: int64(25)\n",
      "memory usage: 5.7 MB\n"
     ]
    }
   ],
   "source": [
    "df_credit.info() # as we can see in the information below, the data is already clean and we have no null values."
   ]
  },
  {
   "cell_type": "markdown",
   "metadata": {},
   "source": [
    "Even all the columns are shown as integers, \"SEX\", \"EDUCATION\", \"MARRIAGE\" and \"dpm\" are categorical variables.\n",
    "\n",
    "- For the \"SEX\" column the 1 values are for males and the 2 values are for females.\n",
    "- In the \"EDUCATION\" column 1 is for \"graduate school\", 2 for \"university\", 3 for \"high school\" , 4 for \"others\" and 5 and 6 values correspond to \"unknown\".\n",
    "- In \"MARRIAGE\" column the 1 is for married people, the 2 for single people and 3 is for the rest or \"other\".\n",
    "- \"dpnm\" column will be the target variable of this project, hence, the value we want to predict, which stands for \"default payment next month\". So the goal will be to predict if the payment will be executed properly and on time by each individual. The 1 values are equal to \"yes\" and the zero values mean \"no\"."
   ]
  },
  {
   "cell_type": "code",
   "execution_count": 108,
   "metadata": {},
   "outputs": [],
   "source": [
    "df_credit['SEX'] = df_credit['SEX'].replace([1,2],[\"male\",\"female\"])\n",
    "df_credit['dpnm'] = df_credit['dpnm'].replace([1,0],[\"yes\",\"no\"])\n",
    "df_credit['MARRIAGE'] = df_credit['MARRIAGE'].replace([1,2,3,0],[\"married\",\"single\",\"other\",'unknown'])\n",
    "df_credit['EDUCATION'] = df_credit['EDUCATION'].replace([1,2,3,4,5,6,0],[\"graduate_school\",\"university\",\"high_school\",\"other\",\"unknown\",\"unknown\",\"unknown\"])"
   ]
  },
  {
   "cell_type": "code",
   "execution_count": 109,
   "metadata": {},
   "outputs": [
    {
     "data": {
      "text/plain": [
       "ID           0\n",
       "LIMIT_BAL    0\n",
       "SEX          0\n",
       "EDUCATION    0\n",
       "MARRIAGE     0\n",
       "AGE          0\n",
       "PAY_1        0\n",
       "PAY_2        0\n",
       "PAY_3        0\n",
       "PAY_4        0\n",
       "PAY_5        0\n",
       "PAY_6        0\n",
       "BILL_AMT1    0\n",
       "BILL_AMT2    0\n",
       "BILL_AMT3    0\n",
       "BILL_AMT4    0\n",
       "BILL_AMT5    0\n",
       "BILL_AMT6    0\n",
       "PAY_AMT1     0\n",
       "PAY_AMT2     0\n",
       "PAY_AMT3     0\n",
       "PAY_AMT4     0\n",
       "PAY_AMT5     0\n",
       "PAY_AMT6     0\n",
       "dpnm         0\n",
       "dtype: int64"
      ]
     },
     "execution_count": 109,
     "metadata": {},
     "output_type": "execute_result"
    }
   ],
   "source": [
    "df_credit.isnull().sum() # check for null values"
   ]
  },
  {
   "cell_type": "code",
   "execution_count": 110,
   "metadata": {},
   "outputs": [],
   "source": [
    "df_credit.drop_duplicates(inplace=True)"
   ]
  },
  {
   "cell_type": "code",
   "execution_count": 111,
   "metadata": {},
   "outputs": [
    {
     "data": {
      "text/plain": [
       "30000"
      ]
     },
     "execution_count": 111,
     "metadata": {},
     "output_type": "execute_result"
    }
   ],
   "source": [
    "df_credit.shape[0] # we dropped 35 duplicated rows"
   ]
  },
  {
   "cell_type": "code",
   "execution_count": 112,
   "metadata": {},
   "outputs": [
    {
     "data": {
      "text/plain": [
       "no     23364\n",
       "yes     6636\n",
       "Name: dpnm, dtype: int64"
      ]
     },
     "execution_count": 112,
     "metadata": {},
     "output_type": "execute_result"
    }
   ],
   "source": [
    "df_credit['dpnm'].value_counts() # The data is imbalanced. We are going to use SMOTE to upsample the data."
   ]
  },
  {
   "cell_type": "code",
   "execution_count": 113,
   "metadata": {},
   "outputs": [
    {
     "data": {
      "text/plain": [
       "(22.12, 77.88)"
      ]
     },
     "execution_count": 113,
     "metadata": {},
     "output_type": "execute_result"
    }
   ],
   "source": [
    "# Percentage of \"yes\" and \"no\" in the target variable (\"dpnm\" column)\n",
    "\n",
    "yes_ptg=(df_credit[df_credit['dpnm']=='yes'].shape[0]/df_credit.shape[0])*100\n",
    "no_ptg=(df_credit[df_credit['dpnm']=='no'].shape[0]/df_credit.shape[0])*100\n",
    "\n",
    "round(yes_ptg,2), round(no_ptg,2)"
   ]
  },
  {
   "cell_type": "code",
   "execution_count": 114,
   "metadata": {},
   "outputs": [],
   "source": [
    "col_names=df_credit.columns.values.tolist()\n",
    "for col in range(len(col_names)):\n",
    "    col_names[col]=col_names[col].lower()\n",
    "    col_names[col]=col_names[col].replace(\" \", \"_\")\n",
    "    col_names[col]=col_names[col].replace(\"-\", \"_\")\n",
    "    col_names[col]=col_names[col].replace(\".\", \"\")\n",
    "\n",
    "for i in range(len(col_names)):\n",
    "    df_credit.rename(columns={df_credit.columns.values[i]:col_names[i]},inplace=True)"
   ]
  },
  {
   "cell_type": "code",
   "execution_count": 115,
   "metadata": {},
   "outputs": [
    {
     "name": "stdout",
     "output_type": "stream",
     "text": [
      "2047     1\n",
      "1322     1\n",
      "15629    1\n",
      "9486     1\n",
      "11535    1\n",
      "        ..\n",
      "17053    1\n",
      "23198    1\n",
      "21151    1\n",
      "10928    1\n",
      "2049     1\n",
      "Name: id, Length: 30000, dtype: int64\n",
      "50000      3365\n",
      "20000      1976\n",
      "30000      1610\n",
      "80000      1567\n",
      "200000     1528\n",
      "           ... \n",
      "800000        2\n",
      "760000        1\n",
      "690000        1\n",
      "1000000       1\n",
      "327680        1\n",
      "Name: limit_bal, Length: 81, dtype: int64\n",
      "female    18112\n",
      "male      11888\n",
      "Name: sex, dtype: int64\n",
      "university         14030\n",
      "graduate_school    10585\n",
      "high_school         4917\n",
      "unknown              345\n",
      "other                123\n",
      "Name: education, dtype: int64\n",
      "single     15964\n",
      "married    13659\n",
      "other        323\n",
      "unknown       54\n",
      "Name: marriage, dtype: int64\n",
      "29    1605\n",
      "27    1477\n",
      "28    1409\n",
      "30    1395\n",
      "26    1256\n",
      "31    1217\n",
      "25    1186\n",
      "34    1162\n",
      "32    1158\n",
      "33    1146\n",
      "24    1127\n",
      "35    1113\n",
      "36    1108\n",
      "37    1041\n",
      "39     954\n",
      "38     944\n",
      "23     931\n",
      "40     870\n",
      "41     824\n",
      "42     794\n",
      "44     700\n",
      "43     670\n",
      "45     617\n",
      "46     570\n",
      "22     560\n",
      "47     501\n",
      "48     466\n",
      "49     452\n",
      "50     411\n",
      "51     340\n",
      "53     325\n",
      "52     304\n",
      "54     247\n",
      "55     209\n",
      "56     178\n",
      "58     122\n",
      "57     122\n",
      "59      83\n",
      "60      67\n",
      "21      67\n",
      "61      56\n",
      "62      44\n",
      "63      31\n",
      "64      31\n",
      "66      25\n",
      "65      24\n",
      "67      16\n",
      "69      15\n",
      "70      10\n",
      "68       5\n",
      "73       4\n",
      "71       3\n",
      "72       3\n",
      "75       3\n",
      "74       1\n",
      "79       1\n",
      "Name: age, dtype: int64\n",
      " 0    14737\n",
      "-1     5686\n",
      " 1     3688\n",
      "-2     2759\n",
      " 2     2667\n",
      " 3      322\n",
      " 4       76\n",
      " 5       26\n",
      " 8       19\n",
      " 6       11\n",
      " 7        9\n",
      "Name: pay_1, dtype: int64\n",
      " 0    15730\n",
      "-1     6050\n",
      " 2     3927\n",
      "-2     3782\n",
      " 3      326\n",
      " 4       99\n",
      " 1       28\n",
      " 5       25\n",
      " 7       20\n",
      " 6       12\n",
      " 8        1\n",
      "Name: pay_2, dtype: int64\n",
      " 0    15764\n",
      "-1     5938\n",
      "-2     4085\n",
      " 2     3819\n",
      " 3      240\n",
      " 4       76\n",
      " 7       27\n",
      " 6       23\n",
      " 5       21\n",
      " 1        4\n",
      " 8        3\n",
      "Name: pay_3, dtype: int64\n",
      " 0    16455\n",
      "-1     5687\n",
      "-2     4348\n",
      " 2     3159\n",
      " 3      180\n",
      " 4       69\n",
      " 7       58\n",
      " 5       35\n",
      " 6        5\n",
      " 8        2\n",
      " 1        2\n",
      "Name: pay_4, dtype: int64\n",
      " 0    16947\n",
      "-1     5539\n",
      "-2     4546\n",
      " 2     2626\n",
      " 3      178\n",
      " 4       84\n",
      " 7       58\n",
      " 5       17\n",
      " 6        4\n",
      " 8        1\n",
      "Name: pay_5, dtype: int64\n",
      " 0    16286\n",
      "-1     5740\n",
      "-2     4895\n",
      " 2     2766\n",
      " 3      184\n",
      " 4       49\n",
      " 7       46\n",
      " 6       19\n",
      " 5       13\n",
      " 8        2\n",
      "Name: pay_6, dtype: int64\n",
      "0        2008\n",
      "390       244\n",
      "780        76\n",
      "326        72\n",
      "316        63\n",
      "         ... \n",
      "12466       1\n",
      "98874       1\n",
      "2619        1\n",
      "14909       1\n",
      "44984       1\n",
      "Name: bill_amt1, Length: 22723, dtype: int64\n",
      "0         2506\n",
      "390        231\n",
      "326         75\n",
      "780         75\n",
      "316         72\n",
      "          ... \n",
      "76348        1\n",
      "8765         1\n",
      "14910        1\n",
      "171889       1\n",
      "120499       1\n",
      "Name: bill_amt2, Length: 22346, dtype: int64\n",
      "0        2870\n",
      "390       275\n",
      "780        74\n",
      "326        63\n",
      "316        62\n",
      "         ... \n",
      "4651        1\n",
      "8749        1\n",
      "51760       1\n",
      "23090       1\n",
      "27390       1\n",
      "Name: bill_amt3, Length: 22026, dtype: int64\n",
      "0         3195\n",
      "390        246\n",
      "780        101\n",
      "316         68\n",
      "326         62\n",
      "          ... \n",
      "205454       1\n",
      "100508       1\n",
      "21136        1\n",
      "180882       1\n",
      "12350        1\n",
      "Name: bill_amt4, Length: 21548, dtype: int64\n",
      "0         3506\n",
      "390        235\n",
      "780         94\n",
      "316         79\n",
      "326         62\n",
      "          ... \n",
      "258484       1\n",
      "4536         1\n",
      "54450        1\n",
      "442          1\n",
      "3331         1\n",
      "Name: bill_amt5, Length: 21010, dtype: int64\n",
      "0        4020\n",
      "390       207\n",
      "780        86\n",
      "150        78\n",
      "316        77\n",
      "         ... \n",
      "6681        1\n",
      "2587        1\n",
      "52327       1\n",
      "47645       1\n",
      "10253       1\n",
      "Name: bill_amt6, Length: 20604, dtype: int64\n",
      "0        5249\n",
      "2000     1363\n",
      "3000      891\n",
      "5000      698\n",
      "1500      507\n",
      "         ... \n",
      "24125       1\n",
      "20031       1\n",
      "9019        1\n",
      "11066       1\n",
      "10850       1\n",
      "Name: pay_amt1, Length: 7943, dtype: int64\n",
      "0         5396\n",
      "2000      1290\n",
      "3000       857\n",
      "5000       717\n",
      "1000       594\n",
      "          ... \n",
      "393          1\n",
      "6538         1\n",
      "18832        1\n",
      "27318        1\n",
      "274526       1\n",
      "Name: pay_amt2, Length: 7899, dtype: int64\n",
      "0        5968\n",
      "2000     1285\n",
      "1000     1103\n",
      "3000      870\n",
      "5000      721\n",
      "         ... \n",
      "35752       1\n",
      "5035        1\n",
      "985         1\n",
      "5083        1\n",
      "8164        1\n",
      "Name: pay_amt3, Length: 7518, dtype: int64\n",
      "0        6408\n",
      "1000     1394\n",
      "2000     1214\n",
      "3000      887\n",
      "5000      810\n",
      "         ... \n",
      "2712        1\n",
      "15006       1\n",
      "2728        1\n",
      "15022       1\n",
      "4070        1\n",
      "Name: pay_amt4, Length: 6937, dtype: int64\n",
      "0        6703\n",
      "1000     1340\n",
      "2000     1323\n",
      "3000      947\n",
      "5000      814\n",
      "         ... \n",
      "10274       1\n",
      "24603       1\n",
      "19653       1\n",
      "4117        1\n",
      "3084        1\n",
      "Name: pay_amt5, Length: 6897, dtype: int64\n",
      "0        7173\n",
      "1000     1299\n",
      "2000     1295\n",
      "3000      914\n",
      "5000      808\n",
      "         ... \n",
      "6301        1\n",
      "6443        1\n",
      "20786       1\n",
      "31031       1\n",
      "3239        1\n",
      "Name: pay_amt6, Length: 6939, dtype: int64\n",
      "no     23364\n",
      "yes     6636\n",
      "Name: dpnm, dtype: int64\n"
     ]
    }
   ],
   "source": [
    "for col in df_credit.columns:\n",
    "    print(df_credit[col].value_counts())"
   ]
  },
  {
   "cell_type": "code",
   "execution_count": 116,
   "metadata": {},
   "outputs": [],
   "source": [
    "df_credit.set_index(keys=\"id\",inplace=True)"
   ]
  },
  {
   "cell_type": "code",
   "execution_count": 127,
   "metadata": {},
   "outputs": [
    {
     "data": {
      "text/html": [
       "<div>\n",
       "<style scoped>\n",
       "    .dataframe tbody tr th:only-of-type {\n",
       "        vertical-align: middle;\n",
       "    }\n",
       "\n",
       "    .dataframe tbody tr th {\n",
       "        vertical-align: top;\n",
       "    }\n",
       "\n",
       "    .dataframe thead th {\n",
       "        text-align: right;\n",
       "    }\n",
       "</style>\n",
       "<table border=\"1\" class=\"dataframe\">\n",
       "  <thead>\n",
       "    <tr style=\"text-align: right;\">\n",
       "      <th></th>\n",
       "      <th>limit_bal</th>\n",
       "      <th>sex</th>\n",
       "      <th>education</th>\n",
       "      <th>marriage</th>\n",
       "      <th>age</th>\n",
       "      <th>repay_sept</th>\n",
       "      <th>repay_aug</th>\n",
       "      <th>repay_july</th>\n",
       "      <th>repay_june</th>\n",
       "      <th>repay_may</th>\n",
       "      <th>repay_april</th>\n",
       "      <th>bill_amt_sept</th>\n",
       "      <th>bill_amt_aug</th>\n",
       "      <th>bill_amt_july</th>\n",
       "      <th>bill_amt_june</th>\n",
       "      <th>bill_amt_may</th>\n",
       "      <th>bill_amt_april</th>\n",
       "      <th>pay_amt_sept</th>\n",
       "      <th>pay_amt_aug</th>\n",
       "      <th>pay_amt_july</th>\n",
       "      <th>pay_amt_june</th>\n",
       "      <th>pay_amt_may</th>\n",
       "      <th>pay_amt_april</th>\n",
       "      <th>dpnm</th>\n",
       "    </tr>\n",
       "    <tr>\n",
       "      <th>id</th>\n",
       "      <th></th>\n",
       "      <th></th>\n",
       "      <th></th>\n",
       "      <th></th>\n",
       "      <th></th>\n",
       "      <th></th>\n",
       "      <th></th>\n",
       "      <th></th>\n",
       "      <th></th>\n",
       "      <th></th>\n",
       "      <th></th>\n",
       "      <th></th>\n",
       "      <th></th>\n",
       "      <th></th>\n",
       "      <th></th>\n",
       "      <th></th>\n",
       "      <th></th>\n",
       "      <th></th>\n",
       "      <th></th>\n",
       "      <th></th>\n",
       "      <th></th>\n",
       "      <th></th>\n",
       "      <th></th>\n",
       "      <th></th>\n",
       "    </tr>\n",
       "  </thead>\n",
       "  <tbody>\n",
       "    <tr>\n",
       "      <th>1</th>\n",
       "      <td>20000</td>\n",
       "      <td>female</td>\n",
       "      <td>university</td>\n",
       "      <td>married</td>\n",
       "      <td>24</td>\n",
       "      <td>2</td>\n",
       "      <td>2</td>\n",
       "      <td>-1</td>\n",
       "      <td>-1</td>\n",
       "      <td>-2</td>\n",
       "      <td>-2</td>\n",
       "      <td>3913</td>\n",
       "      <td>3102</td>\n",
       "      <td>689</td>\n",
       "      <td>0</td>\n",
       "      <td>0</td>\n",
       "      <td>0</td>\n",
       "      <td>0</td>\n",
       "      <td>689</td>\n",
       "      <td>0</td>\n",
       "      <td>0</td>\n",
       "      <td>0</td>\n",
       "      <td>0</td>\n",
       "      <td>yes</td>\n",
       "    </tr>\n",
       "    <tr>\n",
       "      <th>2</th>\n",
       "      <td>120000</td>\n",
       "      <td>female</td>\n",
       "      <td>university</td>\n",
       "      <td>single</td>\n",
       "      <td>26</td>\n",
       "      <td>-1</td>\n",
       "      <td>2</td>\n",
       "      <td>0</td>\n",
       "      <td>0</td>\n",
       "      <td>0</td>\n",
       "      <td>2</td>\n",
       "      <td>2682</td>\n",
       "      <td>1725</td>\n",
       "      <td>2682</td>\n",
       "      <td>3272</td>\n",
       "      <td>3455</td>\n",
       "      <td>3261</td>\n",
       "      <td>0</td>\n",
       "      <td>1000</td>\n",
       "      <td>1000</td>\n",
       "      <td>1000</td>\n",
       "      <td>0</td>\n",
       "      <td>2000</td>\n",
       "      <td>yes</td>\n",
       "    </tr>\n",
       "    <tr>\n",
       "      <th>3</th>\n",
       "      <td>90000</td>\n",
       "      <td>female</td>\n",
       "      <td>university</td>\n",
       "      <td>single</td>\n",
       "      <td>34</td>\n",
       "      <td>0</td>\n",
       "      <td>0</td>\n",
       "      <td>0</td>\n",
       "      <td>0</td>\n",
       "      <td>0</td>\n",
       "      <td>0</td>\n",
       "      <td>29239</td>\n",
       "      <td>14027</td>\n",
       "      <td>13559</td>\n",
       "      <td>14331</td>\n",
       "      <td>14948</td>\n",
       "      <td>15549</td>\n",
       "      <td>1518</td>\n",
       "      <td>1500</td>\n",
       "      <td>1000</td>\n",
       "      <td>1000</td>\n",
       "      <td>1000</td>\n",
       "      <td>5000</td>\n",
       "      <td>no</td>\n",
       "    </tr>\n",
       "    <tr>\n",
       "      <th>4</th>\n",
       "      <td>50000</td>\n",
       "      <td>female</td>\n",
       "      <td>university</td>\n",
       "      <td>married</td>\n",
       "      <td>37</td>\n",
       "      <td>0</td>\n",
       "      <td>0</td>\n",
       "      <td>0</td>\n",
       "      <td>0</td>\n",
       "      <td>0</td>\n",
       "      <td>0</td>\n",
       "      <td>46990</td>\n",
       "      <td>48233</td>\n",
       "      <td>49291</td>\n",
       "      <td>28314</td>\n",
       "      <td>28959</td>\n",
       "      <td>29547</td>\n",
       "      <td>2000</td>\n",
       "      <td>2019</td>\n",
       "      <td>1200</td>\n",
       "      <td>1100</td>\n",
       "      <td>1069</td>\n",
       "      <td>1000</td>\n",
       "      <td>no</td>\n",
       "    </tr>\n",
       "    <tr>\n",
       "      <th>5</th>\n",
       "      <td>50000</td>\n",
       "      <td>male</td>\n",
       "      <td>university</td>\n",
       "      <td>married</td>\n",
       "      <td>57</td>\n",
       "      <td>-1</td>\n",
       "      <td>0</td>\n",
       "      <td>-1</td>\n",
       "      <td>0</td>\n",
       "      <td>0</td>\n",
       "      <td>0</td>\n",
       "      <td>8617</td>\n",
       "      <td>5670</td>\n",
       "      <td>35835</td>\n",
       "      <td>20940</td>\n",
       "      <td>19146</td>\n",
       "      <td>19131</td>\n",
       "      <td>2000</td>\n",
       "      <td>36681</td>\n",
       "      <td>10000</td>\n",
       "      <td>9000</td>\n",
       "      <td>689</td>\n",
       "      <td>679</td>\n",
       "      <td>no</td>\n",
       "    </tr>\n",
       "    <tr>\n",
       "      <th>6</th>\n",
       "      <td>50000</td>\n",
       "      <td>male</td>\n",
       "      <td>graduate_school</td>\n",
       "      <td>single</td>\n",
       "      <td>37</td>\n",
       "      <td>0</td>\n",
       "      <td>0</td>\n",
       "      <td>0</td>\n",
       "      <td>0</td>\n",
       "      <td>0</td>\n",
       "      <td>0</td>\n",
       "      <td>64400</td>\n",
       "      <td>57069</td>\n",
       "      <td>57608</td>\n",
       "      <td>19394</td>\n",
       "      <td>19619</td>\n",
       "      <td>20024</td>\n",
       "      <td>2500</td>\n",
       "      <td>1815</td>\n",
       "      <td>657</td>\n",
       "      <td>1000</td>\n",
       "      <td>1000</td>\n",
       "      <td>800</td>\n",
       "      <td>no</td>\n",
       "    </tr>\n",
       "    <tr>\n",
       "      <th>7</th>\n",
       "      <td>500000</td>\n",
       "      <td>male</td>\n",
       "      <td>graduate_school</td>\n",
       "      <td>single</td>\n",
       "      <td>29</td>\n",
       "      <td>0</td>\n",
       "      <td>0</td>\n",
       "      <td>0</td>\n",
       "      <td>0</td>\n",
       "      <td>0</td>\n",
       "      <td>0</td>\n",
       "      <td>367965</td>\n",
       "      <td>412023</td>\n",
       "      <td>445007</td>\n",
       "      <td>542653</td>\n",
       "      <td>483003</td>\n",
       "      <td>473944</td>\n",
       "      <td>55000</td>\n",
       "      <td>40000</td>\n",
       "      <td>38000</td>\n",
       "      <td>20239</td>\n",
       "      <td>13750</td>\n",
       "      <td>13770</td>\n",
       "      <td>no</td>\n",
       "    </tr>\n",
       "    <tr>\n",
       "      <th>8</th>\n",
       "      <td>100000</td>\n",
       "      <td>female</td>\n",
       "      <td>university</td>\n",
       "      <td>single</td>\n",
       "      <td>23</td>\n",
       "      <td>0</td>\n",
       "      <td>-1</td>\n",
       "      <td>-1</td>\n",
       "      <td>0</td>\n",
       "      <td>0</td>\n",
       "      <td>-1</td>\n",
       "      <td>11876</td>\n",
       "      <td>380</td>\n",
       "      <td>601</td>\n",
       "      <td>221</td>\n",
       "      <td>-159</td>\n",
       "      <td>567</td>\n",
       "      <td>380</td>\n",
       "      <td>601</td>\n",
       "      <td>0</td>\n",
       "      <td>581</td>\n",
       "      <td>1687</td>\n",
       "      <td>1542</td>\n",
       "      <td>no</td>\n",
       "    </tr>\n",
       "    <tr>\n",
       "      <th>9</th>\n",
       "      <td>140000</td>\n",
       "      <td>female</td>\n",
       "      <td>high_school</td>\n",
       "      <td>married</td>\n",
       "      <td>28</td>\n",
       "      <td>0</td>\n",
       "      <td>0</td>\n",
       "      <td>2</td>\n",
       "      <td>0</td>\n",
       "      <td>0</td>\n",
       "      <td>0</td>\n",
       "      <td>11285</td>\n",
       "      <td>14096</td>\n",
       "      <td>12108</td>\n",
       "      <td>12211</td>\n",
       "      <td>11793</td>\n",
       "      <td>3719</td>\n",
       "      <td>3329</td>\n",
       "      <td>0</td>\n",
       "      <td>432</td>\n",
       "      <td>1000</td>\n",
       "      <td>1000</td>\n",
       "      <td>1000</td>\n",
       "      <td>no</td>\n",
       "    </tr>\n",
       "    <tr>\n",
       "      <th>10</th>\n",
       "      <td>20000</td>\n",
       "      <td>male</td>\n",
       "      <td>high_school</td>\n",
       "      <td>single</td>\n",
       "      <td>35</td>\n",
       "      <td>-2</td>\n",
       "      <td>-2</td>\n",
       "      <td>-2</td>\n",
       "      <td>-2</td>\n",
       "      <td>-1</td>\n",
       "      <td>-1</td>\n",
       "      <td>0</td>\n",
       "      <td>0</td>\n",
       "      <td>0</td>\n",
       "      <td>0</td>\n",
       "      <td>13007</td>\n",
       "      <td>13912</td>\n",
       "      <td>0</td>\n",
       "      <td>0</td>\n",
       "      <td>0</td>\n",
       "      <td>13007</td>\n",
       "      <td>1122</td>\n",
       "      <td>0</td>\n",
       "      <td>no</td>\n",
       "    </tr>\n",
       "    <tr>\n",
       "      <th>11</th>\n",
       "      <td>200000</td>\n",
       "      <td>female</td>\n",
       "      <td>high_school</td>\n",
       "      <td>single</td>\n",
       "      <td>34</td>\n",
       "      <td>0</td>\n",
       "      <td>0</td>\n",
       "      <td>2</td>\n",
       "      <td>0</td>\n",
       "      <td>0</td>\n",
       "      <td>-1</td>\n",
       "      <td>11073</td>\n",
       "      <td>9787</td>\n",
       "      <td>5535</td>\n",
       "      <td>2513</td>\n",
       "      <td>1828</td>\n",
       "      <td>3731</td>\n",
       "      <td>2306</td>\n",
       "      <td>12</td>\n",
       "      <td>50</td>\n",
       "      <td>300</td>\n",
       "      <td>3738</td>\n",
       "      <td>66</td>\n",
       "      <td>no</td>\n",
       "    </tr>\n",
       "    <tr>\n",
       "      <th>12</th>\n",
       "      <td>260000</td>\n",
       "      <td>female</td>\n",
       "      <td>graduate_school</td>\n",
       "      <td>single</td>\n",
       "      <td>51</td>\n",
       "      <td>-1</td>\n",
       "      <td>-1</td>\n",
       "      <td>-1</td>\n",
       "      <td>-1</td>\n",
       "      <td>-1</td>\n",
       "      <td>2</td>\n",
       "      <td>12261</td>\n",
       "      <td>21670</td>\n",
       "      <td>9966</td>\n",
       "      <td>8517</td>\n",
       "      <td>22287</td>\n",
       "      <td>13668</td>\n",
       "      <td>21818</td>\n",
       "      <td>9966</td>\n",
       "      <td>8583</td>\n",
       "      <td>22301</td>\n",
       "      <td>0</td>\n",
       "      <td>3640</td>\n",
       "      <td>no</td>\n",
       "    </tr>\n",
       "    <tr>\n",
       "      <th>13</th>\n",
       "      <td>630000</td>\n",
       "      <td>female</td>\n",
       "      <td>university</td>\n",
       "      <td>single</td>\n",
       "      <td>41</td>\n",
       "      <td>-1</td>\n",
       "      <td>0</td>\n",
       "      <td>-1</td>\n",
       "      <td>-1</td>\n",
       "      <td>-1</td>\n",
       "      <td>-1</td>\n",
       "      <td>12137</td>\n",
       "      <td>6500</td>\n",
       "      <td>6500</td>\n",
       "      <td>6500</td>\n",
       "      <td>6500</td>\n",
       "      <td>2870</td>\n",
       "      <td>1000</td>\n",
       "      <td>6500</td>\n",
       "      <td>6500</td>\n",
       "      <td>6500</td>\n",
       "      <td>2870</td>\n",
       "      <td>0</td>\n",
       "      <td>no</td>\n",
       "    </tr>\n",
       "    <tr>\n",
       "      <th>14</th>\n",
       "      <td>70000</td>\n",
       "      <td>male</td>\n",
       "      <td>university</td>\n",
       "      <td>single</td>\n",
       "      <td>30</td>\n",
       "      <td>1</td>\n",
       "      <td>2</td>\n",
       "      <td>2</td>\n",
       "      <td>0</td>\n",
       "      <td>0</td>\n",
       "      <td>2</td>\n",
       "      <td>65802</td>\n",
       "      <td>67369</td>\n",
       "      <td>65701</td>\n",
       "      <td>66782</td>\n",
       "      <td>36137</td>\n",
       "      <td>36894</td>\n",
       "      <td>3200</td>\n",
       "      <td>0</td>\n",
       "      <td>3000</td>\n",
       "      <td>3000</td>\n",
       "      <td>1500</td>\n",
       "      <td>0</td>\n",
       "      <td>yes</td>\n",
       "    </tr>\n",
       "    <tr>\n",
       "      <th>15</th>\n",
       "      <td>250000</td>\n",
       "      <td>male</td>\n",
       "      <td>graduate_school</td>\n",
       "      <td>single</td>\n",
       "      <td>29</td>\n",
       "      <td>0</td>\n",
       "      <td>0</td>\n",
       "      <td>0</td>\n",
       "      <td>0</td>\n",
       "      <td>0</td>\n",
       "      <td>0</td>\n",
       "      <td>70887</td>\n",
       "      <td>67060</td>\n",
       "      <td>63561</td>\n",
       "      <td>59696</td>\n",
       "      <td>56875</td>\n",
       "      <td>55512</td>\n",
       "      <td>3000</td>\n",
       "      <td>3000</td>\n",
       "      <td>3000</td>\n",
       "      <td>3000</td>\n",
       "      <td>3000</td>\n",
       "      <td>3000</td>\n",
       "      <td>no</td>\n",
       "    </tr>\n",
       "    <tr>\n",
       "      <th>16</th>\n",
       "      <td>50000</td>\n",
       "      <td>female</td>\n",
       "      <td>high_school</td>\n",
       "      <td>other</td>\n",
       "      <td>23</td>\n",
       "      <td>1</td>\n",
       "      <td>2</td>\n",
       "      <td>0</td>\n",
       "      <td>0</td>\n",
       "      <td>0</td>\n",
       "      <td>0</td>\n",
       "      <td>50614</td>\n",
       "      <td>29173</td>\n",
       "      <td>28116</td>\n",
       "      <td>28771</td>\n",
       "      <td>29531</td>\n",
       "      <td>30211</td>\n",
       "      <td>0</td>\n",
       "      <td>1500</td>\n",
       "      <td>1100</td>\n",
       "      <td>1200</td>\n",
       "      <td>1300</td>\n",
       "      <td>1100</td>\n",
       "      <td>no</td>\n",
       "    </tr>\n",
       "    <tr>\n",
       "      <th>17</th>\n",
       "      <td>20000</td>\n",
       "      <td>male</td>\n",
       "      <td>graduate_school</td>\n",
       "      <td>single</td>\n",
       "      <td>24</td>\n",
       "      <td>0</td>\n",
       "      <td>0</td>\n",
       "      <td>2</td>\n",
       "      <td>2</td>\n",
       "      <td>2</td>\n",
       "      <td>2</td>\n",
       "      <td>15376</td>\n",
       "      <td>18010</td>\n",
       "      <td>17428</td>\n",
       "      <td>18338</td>\n",
       "      <td>17905</td>\n",
       "      <td>19104</td>\n",
       "      <td>3200</td>\n",
       "      <td>0</td>\n",
       "      <td>1500</td>\n",
       "      <td>0</td>\n",
       "      <td>1650</td>\n",
       "      <td>0</td>\n",
       "      <td>yes</td>\n",
       "    </tr>\n",
       "    <tr>\n",
       "      <th>18</th>\n",
       "      <td>320000</td>\n",
       "      <td>male</td>\n",
       "      <td>graduate_school</td>\n",
       "      <td>married</td>\n",
       "      <td>49</td>\n",
       "      <td>0</td>\n",
       "      <td>0</td>\n",
       "      <td>0</td>\n",
       "      <td>-1</td>\n",
       "      <td>-1</td>\n",
       "      <td>-1</td>\n",
       "      <td>253286</td>\n",
       "      <td>246536</td>\n",
       "      <td>194663</td>\n",
       "      <td>70074</td>\n",
       "      <td>5856</td>\n",
       "      <td>195599</td>\n",
       "      <td>10358</td>\n",
       "      <td>10000</td>\n",
       "      <td>75940</td>\n",
       "      <td>20000</td>\n",
       "      <td>195599</td>\n",
       "      <td>50000</td>\n",
       "      <td>no</td>\n",
       "    </tr>\n",
       "    <tr>\n",
       "      <th>19</th>\n",
       "      <td>360000</td>\n",
       "      <td>female</td>\n",
       "      <td>graduate_school</td>\n",
       "      <td>married</td>\n",
       "      <td>49</td>\n",
       "      <td>1</td>\n",
       "      <td>-2</td>\n",
       "      <td>-2</td>\n",
       "      <td>-2</td>\n",
       "      <td>-2</td>\n",
       "      <td>-2</td>\n",
       "      <td>0</td>\n",
       "      <td>0</td>\n",
       "      <td>0</td>\n",
       "      <td>0</td>\n",
       "      <td>0</td>\n",
       "      <td>0</td>\n",
       "      <td>0</td>\n",
       "      <td>0</td>\n",
       "      <td>0</td>\n",
       "      <td>0</td>\n",
       "      <td>0</td>\n",
       "      <td>0</td>\n",
       "      <td>no</td>\n",
       "    </tr>\n",
       "    <tr>\n",
       "      <th>20</th>\n",
       "      <td>180000</td>\n",
       "      <td>female</td>\n",
       "      <td>graduate_school</td>\n",
       "      <td>single</td>\n",
       "      <td>29</td>\n",
       "      <td>1</td>\n",
       "      <td>-2</td>\n",
       "      <td>-2</td>\n",
       "      <td>-2</td>\n",
       "      <td>-2</td>\n",
       "      <td>-2</td>\n",
       "      <td>0</td>\n",
       "      <td>0</td>\n",
       "      <td>0</td>\n",
       "      <td>0</td>\n",
       "      <td>0</td>\n",
       "      <td>0</td>\n",
       "      <td>0</td>\n",
       "      <td>0</td>\n",
       "      <td>0</td>\n",
       "      <td>0</td>\n",
       "      <td>0</td>\n",
       "      <td>0</td>\n",
       "      <td>no</td>\n",
       "    </tr>\n",
       "  </tbody>\n",
       "</table>\n",
       "</div>"
      ],
      "text/plain": [
       "    limit_bal     sex        education marriage  age  repay_sept  repay_aug  \\\n",
       "id                                                                            \n",
       "1       20000  female       university  married   24           2          2   \n",
       "2      120000  female       university   single   26          -1          2   \n",
       "3       90000  female       university   single   34           0          0   \n",
       "4       50000  female       university  married   37           0          0   \n",
       "5       50000    male       university  married   57          -1          0   \n",
       "6       50000    male  graduate_school   single   37           0          0   \n",
       "7      500000    male  graduate_school   single   29           0          0   \n",
       "8      100000  female       university   single   23           0         -1   \n",
       "9      140000  female      high_school  married   28           0          0   \n",
       "10      20000    male      high_school   single   35          -2         -2   \n",
       "11     200000  female      high_school   single   34           0          0   \n",
       "12     260000  female  graduate_school   single   51          -1         -1   \n",
       "13     630000  female       university   single   41          -1          0   \n",
       "14      70000    male       university   single   30           1          2   \n",
       "15     250000    male  graduate_school   single   29           0          0   \n",
       "16      50000  female      high_school    other   23           1          2   \n",
       "17      20000    male  graduate_school   single   24           0          0   \n",
       "18     320000    male  graduate_school  married   49           0          0   \n",
       "19     360000  female  graduate_school  married   49           1         -2   \n",
       "20     180000  female  graduate_school   single   29           1         -2   \n",
       "\n",
       "    repay_july  repay_june  repay_may  repay_april  bill_amt_sept  \\\n",
       "id                                                                  \n",
       "1           -1          -1         -2           -2           3913   \n",
       "2            0           0          0            2           2682   \n",
       "3            0           0          0            0          29239   \n",
       "4            0           0          0            0          46990   \n",
       "5           -1           0          0            0           8617   \n",
       "6            0           0          0            0          64400   \n",
       "7            0           0          0            0         367965   \n",
       "8           -1           0          0           -1          11876   \n",
       "9            2           0          0            0          11285   \n",
       "10          -2          -2         -1           -1              0   \n",
       "11           2           0          0           -1          11073   \n",
       "12          -1          -1         -1            2          12261   \n",
       "13          -1          -1         -1           -1          12137   \n",
       "14           2           0          0            2          65802   \n",
       "15           0           0          0            0          70887   \n",
       "16           0           0          0            0          50614   \n",
       "17           2           2          2            2          15376   \n",
       "18           0          -1         -1           -1         253286   \n",
       "19          -2          -2         -2           -2              0   \n",
       "20          -2          -2         -2           -2              0   \n",
       "\n",
       "    bill_amt_aug  bill_amt_july  bill_amt_june  bill_amt_may  bill_amt_april  \\\n",
       "id                                                                             \n",
       "1           3102            689              0             0               0   \n",
       "2           1725           2682           3272          3455            3261   \n",
       "3          14027          13559          14331         14948           15549   \n",
       "4          48233          49291          28314         28959           29547   \n",
       "5           5670          35835          20940         19146           19131   \n",
       "6          57069          57608          19394         19619           20024   \n",
       "7         412023         445007         542653        483003          473944   \n",
       "8            380            601            221          -159             567   \n",
       "9          14096          12108          12211         11793            3719   \n",
       "10             0              0              0         13007           13912   \n",
       "11          9787           5535           2513          1828            3731   \n",
       "12         21670           9966           8517         22287           13668   \n",
       "13          6500           6500           6500          6500            2870   \n",
       "14         67369          65701          66782         36137           36894   \n",
       "15         67060          63561          59696         56875           55512   \n",
       "16         29173          28116          28771         29531           30211   \n",
       "17         18010          17428          18338         17905           19104   \n",
       "18        246536         194663          70074          5856          195599   \n",
       "19             0              0              0             0               0   \n",
       "20             0              0              0             0               0   \n",
       "\n",
       "    pay_amt_sept  pay_amt_aug  pay_amt_july  pay_amt_june  pay_amt_may  \\\n",
       "id                                                                       \n",
       "1              0          689             0             0            0   \n",
       "2              0         1000          1000          1000            0   \n",
       "3           1518         1500          1000          1000         1000   \n",
       "4           2000         2019          1200          1100         1069   \n",
       "5           2000        36681         10000          9000          689   \n",
       "6           2500         1815           657          1000         1000   \n",
       "7          55000        40000         38000         20239        13750   \n",
       "8            380          601             0           581         1687   \n",
       "9           3329            0           432          1000         1000   \n",
       "10             0            0             0         13007         1122   \n",
       "11          2306           12            50           300         3738   \n",
       "12         21818         9966          8583         22301            0   \n",
       "13          1000         6500          6500          6500         2870   \n",
       "14          3200            0          3000          3000         1500   \n",
       "15          3000         3000          3000          3000         3000   \n",
       "16             0         1500          1100          1200         1300   \n",
       "17          3200            0          1500             0         1650   \n",
       "18         10358        10000         75940         20000       195599   \n",
       "19             0            0             0             0            0   \n",
       "20             0            0             0             0            0   \n",
       "\n",
       "    pay_amt_april dpnm  \n",
       "id                      \n",
       "1               0  yes  \n",
       "2            2000  yes  \n",
       "3            5000   no  \n",
       "4            1000   no  \n",
       "5             679   no  \n",
       "6             800   no  \n",
       "7           13770   no  \n",
       "8            1542   no  \n",
       "9            1000   no  \n",
       "10              0   no  \n",
       "11             66   no  \n",
       "12           3640   no  \n",
       "13              0   no  \n",
       "14              0  yes  \n",
       "15           3000   no  \n",
       "16           1100   no  \n",
       "17              0  yes  \n",
       "18          50000   no  \n",
       "19              0   no  \n",
       "20              0   no  "
      ]
     },
     "execution_count": 127,
     "metadata": {},
     "output_type": "execute_result"
    }
   ],
   "source": [
    "df_credit.head(20)"
   ]
  },
  {
   "cell_type": "code",
   "execution_count": 118,
   "metadata": {},
   "outputs": [],
   "source": [
    "df_credit.rename(columns={\"pay_1\":'repay_sept',\"pay_2\":'repay_aug',\"pay_3\":'repay_july',\"pay_4\":'repay_june',\"pay_5\":'repay_may',\"pay_6\":'repay_april'},inplace=True)"
   ]
  },
  {
   "cell_type": "code",
   "execution_count": 119,
   "metadata": {},
   "outputs": [],
   "source": [
    "df_credit.rename(columns={\"pay_amt1\":'pay_amt_sept',\"pay_amt2\":'pay_amt_aug',\"pay_amt3\":'pay_amt_july',\"pay_amt4\":'pay_amt_june',\"pay_amt5\":'pay_amt_may',\"pay_amt6\":'pay_amt_april'},inplace=True)"
   ]
  },
  {
   "cell_type": "code",
   "execution_count": 120,
   "metadata": {},
   "outputs": [],
   "source": [
    "df_credit.rename(columns={\"bill_amt1\":'bill_amt_sept',\"bill_amt2\":'bill_amt_aug',\"bill_amt3\":'bill_amt_july',\"bill_amt4\":'bill_amt_june',\"bill_amt5\":'bill_amt_may',\"bill_amt6\":'bill_amt_april'},inplace=True)"
   ]
  },
  {
   "cell_type": "code",
   "execution_count": 128,
   "metadata": {},
   "outputs": [
    {
     "data": {
      "text/html": [
       "<div>\n",
       "<style scoped>\n",
       "    .dataframe tbody tr th:only-of-type {\n",
       "        vertical-align: middle;\n",
       "    }\n",
       "\n",
       "    .dataframe tbody tr th {\n",
       "        vertical-align: top;\n",
       "    }\n",
       "\n",
       "    .dataframe thead th {\n",
       "        text-align: right;\n",
       "    }\n",
       "</style>\n",
       "<table border=\"1\" class=\"dataframe\">\n",
       "  <thead>\n",
       "    <tr style=\"text-align: right;\">\n",
       "      <th></th>\n",
       "      <th>limit_bal</th>\n",
       "      <th>sex</th>\n",
       "      <th>education</th>\n",
       "      <th>marriage</th>\n",
       "      <th>age</th>\n",
       "      <th>repay_sept</th>\n",
       "      <th>repay_aug</th>\n",
       "      <th>repay_july</th>\n",
       "      <th>repay_june</th>\n",
       "      <th>repay_may</th>\n",
       "      <th>repay_april</th>\n",
       "      <th>bill_amt_sept</th>\n",
       "      <th>bill_amt_aug</th>\n",
       "      <th>bill_amt_july</th>\n",
       "      <th>bill_amt_june</th>\n",
       "      <th>bill_amt_may</th>\n",
       "      <th>bill_amt_april</th>\n",
       "      <th>pay_amt_sept</th>\n",
       "      <th>pay_amt_aug</th>\n",
       "      <th>pay_amt_july</th>\n",
       "      <th>pay_amt_june</th>\n",
       "      <th>pay_amt_may</th>\n",
       "      <th>pay_amt_april</th>\n",
       "      <th>dpnm</th>\n",
       "    </tr>\n",
       "    <tr>\n",
       "      <th>id</th>\n",
       "      <th></th>\n",
       "      <th></th>\n",
       "      <th></th>\n",
       "      <th></th>\n",
       "      <th></th>\n",
       "      <th></th>\n",
       "      <th></th>\n",
       "      <th></th>\n",
       "      <th></th>\n",
       "      <th></th>\n",
       "      <th></th>\n",
       "      <th></th>\n",
       "      <th></th>\n",
       "      <th></th>\n",
       "      <th></th>\n",
       "      <th></th>\n",
       "      <th></th>\n",
       "      <th></th>\n",
       "      <th></th>\n",
       "      <th></th>\n",
       "      <th></th>\n",
       "      <th></th>\n",
       "      <th></th>\n",
       "      <th></th>\n",
       "    </tr>\n",
       "  </thead>\n",
       "  <tbody>\n",
       "    <tr>\n",
       "      <th>76</th>\n",
       "      <td>20000</td>\n",
       "      <td>male</td>\n",
       "      <td>university</td>\n",
       "      <td>single</td>\n",
       "      <td>24</td>\n",
       "      <td>0</td>\n",
       "      <td>0</td>\n",
       "      <td>2</td>\n",
       "      <td>0</td>\n",
       "      <td>0</td>\n",
       "      <td>0</td>\n",
       "      <td>14619</td>\n",
       "      <td>17216</td>\n",
       "      <td>16642</td>\n",
       "      <td>16976</td>\n",
       "      <td>17332</td>\n",
       "      <td>18543</td>\n",
       "      <td>2850</td>\n",
       "      <td>0</td>\n",
       "      <td>610</td>\n",
       "      <td>630</td>\n",
       "      <td>1500</td>\n",
       "      <td>0</td>\n",
       "      <td>no</td>\n",
       "    </tr>\n",
       "  </tbody>\n",
       "</table>\n",
       "</div>"
      ],
      "text/plain": [
       "    limit_bal   sex   education marriage  age  repay_sept  repay_aug  \\\n",
       "id                                                                     \n",
       "76      20000  male  university   single   24           0          0   \n",
       "\n",
       "    repay_july  repay_june  repay_may  repay_april  bill_amt_sept  \\\n",
       "id                                                                  \n",
       "76           2           0          0            0          14619   \n",
       "\n",
       "    bill_amt_aug  bill_amt_july  bill_amt_june  bill_amt_may  bill_amt_april  \\\n",
       "id                                                                             \n",
       "76         17216          16642          16976         17332           18543   \n",
       "\n",
       "    pay_amt_sept  pay_amt_aug  pay_amt_july  pay_amt_june  pay_amt_may  \\\n",
       "id                                                                       \n",
       "76          2850            0           610           630         1500   \n",
       "\n",
       "    pay_amt_april dpnm  \n",
       "id                      \n",
       "76              0   no  "
      ]
     },
     "execution_count": 128,
     "metadata": {},
     "output_type": "execute_result"
    }
   ],
   "source": [
    "df_credit.iloc[75:76,:]"
   ]
  },
  {
   "cell_type": "code",
   "execution_count": 122,
   "metadata": {},
   "outputs": [
    {
     "data": {
      "text/plain": [
       "single     15964\n",
       "married    13659\n",
       "other        323\n",
       "unknown       54\n",
       "Name: marriage, dtype: int64"
      ]
     },
     "execution_count": 122,
     "metadata": {},
     "output_type": "execute_result"
    }
   ],
   "source": [
    "df_credit['marriage'].value_counts()"
   ]
  },
  {
   "cell_type": "code",
   "execution_count": 19,
   "metadata": {},
   "outputs": [],
   "source": [
    "all_cols=df_credit.columns.to_list()\n",
    "all_col_cont=['limit_bal','repay_sept',\n",
    " 'repay_aug',\n",
    " 'repay_july',\n",
    " 'repay_june',\n",
    " 'repay_may',\n",
    " 'repay_april',\n",
    " 'bill_amt_sept',\n",
    " 'bill_amt_aug',\n",
    " 'bill_amt_july',\n",
    " 'bill_amt_june',\n",
    " 'bill_amt_may',\n",
    " 'bill_amt_april',\n",
    " 'pay_amt_sept',\n",
    " 'pay_amt_aug',\n",
    " 'pay_amt_july',\n",
    " 'pay_amt_june',\n",
    " 'pay_amt_may',\n",
    " 'pay_amt_april'] "
   ]
  },
  {
   "cell_type": "code",
   "execution_count": 20,
   "metadata": {},
   "outputs": [],
   "source": [
    "age_cat_list=[]\n",
    "\n",
    "for i in df_credit['age']:\n",
    "    if i<36:\n",
    "        age_cat_list.append('junior')\n",
    "\n",
    "    elif i>=36 and i<51:\n",
    "        age_cat_list.append('senior')\n",
    "\n",
    "    elif i>=51 and i<66:\n",
    "        age_cat_list.append('post-senior')\n",
    "\n",
    "    else:\n",
    "        age_cat_list.append('retired')\n",
    "        \n",
    "df_credit['age_cat']=age_cat_list\n",
    "            \n",
    "            "
   ]
  },
  {
   "cell_type": "markdown",
   "metadata": {},
   "source": [
    "- We select the continuous variables of the \"all_cols\" list in order to plot the corresponding distribution plots."
   ]
  },
  {
   "cell_type": "code",
   "execution_count": 21,
   "metadata": {},
   "outputs": [
    {
     "data": {
      "text/html": [
       "<div>\n",
       "<style scoped>\n",
       "    .dataframe tbody tr th:only-of-type {\n",
       "        vertical-align: middle;\n",
       "    }\n",
       "\n",
       "    .dataframe tbody tr th {\n",
       "        vertical-align: top;\n",
       "    }\n",
       "\n",
       "    .dataframe thead th {\n",
       "        text-align: right;\n",
       "    }\n",
       "</style>\n",
       "<table border=\"1\" class=\"dataframe\">\n",
       "  <thead>\n",
       "    <tr style=\"text-align: right;\">\n",
       "      <th></th>\n",
       "      <th>count</th>\n",
       "      <th>mean</th>\n",
       "      <th>std</th>\n",
       "      <th>min</th>\n",
       "      <th>25%</th>\n",
       "      <th>50%</th>\n",
       "      <th>75%</th>\n",
       "      <th>max</th>\n",
       "    </tr>\n",
       "  </thead>\n",
       "  <tbody>\n",
       "    <tr>\n",
       "      <th>limit_bal</th>\n",
       "      <td>30000.0</td>\n",
       "      <td>167484.322667</td>\n",
       "      <td>129747.661567</td>\n",
       "      <td>10000.0</td>\n",
       "      <td>50000.00</td>\n",
       "      <td>140000.0</td>\n",
       "      <td>240000.00</td>\n",
       "      <td>1000000.0</td>\n",
       "    </tr>\n",
       "    <tr>\n",
       "      <th>age</th>\n",
       "      <td>30000.0</td>\n",
       "      <td>35.485500</td>\n",
       "      <td>9.217904</td>\n",
       "      <td>21.0</td>\n",
       "      <td>28.00</td>\n",
       "      <td>34.0</td>\n",
       "      <td>41.00</td>\n",
       "      <td>79.0</td>\n",
       "    </tr>\n",
       "    <tr>\n",
       "      <th>repay_sept</th>\n",
       "      <td>30000.0</td>\n",
       "      <td>-0.016700</td>\n",
       "      <td>1.123802</td>\n",
       "      <td>-2.0</td>\n",
       "      <td>-1.00</td>\n",
       "      <td>0.0</td>\n",
       "      <td>0.00</td>\n",
       "      <td>8.0</td>\n",
       "    </tr>\n",
       "    <tr>\n",
       "      <th>repay_aug</th>\n",
       "      <td>30000.0</td>\n",
       "      <td>-0.133767</td>\n",
       "      <td>1.197186</td>\n",
       "      <td>-2.0</td>\n",
       "      <td>-1.00</td>\n",
       "      <td>0.0</td>\n",
       "      <td>0.00</td>\n",
       "      <td>8.0</td>\n",
       "    </tr>\n",
       "    <tr>\n",
       "      <th>repay_july</th>\n",
       "      <td>30000.0</td>\n",
       "      <td>-0.166200</td>\n",
       "      <td>1.196868</td>\n",
       "      <td>-2.0</td>\n",
       "      <td>-1.00</td>\n",
       "      <td>0.0</td>\n",
       "      <td>0.00</td>\n",
       "      <td>8.0</td>\n",
       "    </tr>\n",
       "    <tr>\n",
       "      <th>repay_june</th>\n",
       "      <td>30000.0</td>\n",
       "      <td>-0.220667</td>\n",
       "      <td>1.169139</td>\n",
       "      <td>-2.0</td>\n",
       "      <td>-1.00</td>\n",
       "      <td>0.0</td>\n",
       "      <td>0.00</td>\n",
       "      <td>8.0</td>\n",
       "    </tr>\n",
       "    <tr>\n",
       "      <th>repay_may</th>\n",
       "      <td>30000.0</td>\n",
       "      <td>-0.266200</td>\n",
       "      <td>1.133187</td>\n",
       "      <td>-2.0</td>\n",
       "      <td>-1.00</td>\n",
       "      <td>0.0</td>\n",
       "      <td>0.00</td>\n",
       "      <td>8.0</td>\n",
       "    </tr>\n",
       "    <tr>\n",
       "      <th>repay_april</th>\n",
       "      <td>30000.0</td>\n",
       "      <td>-0.291100</td>\n",
       "      <td>1.149988</td>\n",
       "      <td>-2.0</td>\n",
       "      <td>-1.00</td>\n",
       "      <td>0.0</td>\n",
       "      <td>0.00</td>\n",
       "      <td>8.0</td>\n",
       "    </tr>\n",
       "    <tr>\n",
       "      <th>bill_amt_sept</th>\n",
       "      <td>30000.0</td>\n",
       "      <td>51223.330900</td>\n",
       "      <td>73635.860576</td>\n",
       "      <td>-165580.0</td>\n",
       "      <td>3558.75</td>\n",
       "      <td>22381.5</td>\n",
       "      <td>67091.00</td>\n",
       "      <td>964511.0</td>\n",
       "    </tr>\n",
       "    <tr>\n",
       "      <th>bill_amt_aug</th>\n",
       "      <td>30000.0</td>\n",
       "      <td>49179.075167</td>\n",
       "      <td>71173.768783</td>\n",
       "      <td>-69777.0</td>\n",
       "      <td>2984.75</td>\n",
       "      <td>21200.0</td>\n",
       "      <td>64006.25</td>\n",
       "      <td>983931.0</td>\n",
       "    </tr>\n",
       "    <tr>\n",
       "      <th>bill_amt_july</th>\n",
       "      <td>30000.0</td>\n",
       "      <td>47013.154800</td>\n",
       "      <td>69349.387427</td>\n",
       "      <td>-157264.0</td>\n",
       "      <td>2666.25</td>\n",
       "      <td>20088.5</td>\n",
       "      <td>60164.75</td>\n",
       "      <td>1664089.0</td>\n",
       "    </tr>\n",
       "    <tr>\n",
       "      <th>bill_amt_june</th>\n",
       "      <td>30000.0</td>\n",
       "      <td>43262.948967</td>\n",
       "      <td>64332.856134</td>\n",
       "      <td>-170000.0</td>\n",
       "      <td>2326.75</td>\n",
       "      <td>19052.0</td>\n",
       "      <td>54506.00</td>\n",
       "      <td>891586.0</td>\n",
       "    </tr>\n",
       "    <tr>\n",
       "      <th>bill_amt_may</th>\n",
       "      <td>30000.0</td>\n",
       "      <td>40311.400967</td>\n",
       "      <td>60797.155770</td>\n",
       "      <td>-81334.0</td>\n",
       "      <td>1763.00</td>\n",
       "      <td>18104.5</td>\n",
       "      <td>50190.50</td>\n",
       "      <td>927171.0</td>\n",
       "    </tr>\n",
       "    <tr>\n",
       "      <th>bill_amt_april</th>\n",
       "      <td>30000.0</td>\n",
       "      <td>38871.760400</td>\n",
       "      <td>59554.107537</td>\n",
       "      <td>-339603.0</td>\n",
       "      <td>1256.00</td>\n",
       "      <td>17071.0</td>\n",
       "      <td>49198.25</td>\n",
       "      <td>961664.0</td>\n",
       "    </tr>\n",
       "    <tr>\n",
       "      <th>pay_amt_sept</th>\n",
       "      <td>30000.0</td>\n",
       "      <td>5663.580500</td>\n",
       "      <td>16563.280354</td>\n",
       "      <td>0.0</td>\n",
       "      <td>1000.00</td>\n",
       "      <td>2100.0</td>\n",
       "      <td>5006.00</td>\n",
       "      <td>873552.0</td>\n",
       "    </tr>\n",
       "    <tr>\n",
       "      <th>pay_amt_aug</th>\n",
       "      <td>30000.0</td>\n",
       "      <td>5921.163500</td>\n",
       "      <td>23040.870402</td>\n",
       "      <td>0.0</td>\n",
       "      <td>833.00</td>\n",
       "      <td>2009.0</td>\n",
       "      <td>5000.00</td>\n",
       "      <td>1684259.0</td>\n",
       "    </tr>\n",
       "    <tr>\n",
       "      <th>pay_amt_july</th>\n",
       "      <td>30000.0</td>\n",
       "      <td>5225.681500</td>\n",
       "      <td>17606.961470</td>\n",
       "      <td>0.0</td>\n",
       "      <td>390.00</td>\n",
       "      <td>1800.0</td>\n",
       "      <td>4505.00</td>\n",
       "      <td>896040.0</td>\n",
       "    </tr>\n",
       "    <tr>\n",
       "      <th>pay_amt_june</th>\n",
       "      <td>30000.0</td>\n",
       "      <td>4826.076867</td>\n",
       "      <td>15666.159744</td>\n",
       "      <td>0.0</td>\n",
       "      <td>296.00</td>\n",
       "      <td>1500.0</td>\n",
       "      <td>4013.25</td>\n",
       "      <td>621000.0</td>\n",
       "    </tr>\n",
       "    <tr>\n",
       "      <th>pay_amt_may</th>\n",
       "      <td>30000.0</td>\n",
       "      <td>4799.387633</td>\n",
       "      <td>15278.305679</td>\n",
       "      <td>0.0</td>\n",
       "      <td>252.50</td>\n",
       "      <td>1500.0</td>\n",
       "      <td>4031.50</td>\n",
       "      <td>426529.0</td>\n",
       "    </tr>\n",
       "    <tr>\n",
       "      <th>pay_amt_april</th>\n",
       "      <td>30000.0</td>\n",
       "      <td>5215.502567</td>\n",
       "      <td>17777.465775</td>\n",
       "      <td>0.0</td>\n",
       "      <td>117.75</td>\n",
       "      <td>1500.0</td>\n",
       "      <td>4000.00</td>\n",
       "      <td>528666.0</td>\n",
       "    </tr>\n",
       "  </tbody>\n",
       "</table>\n",
       "</div>"
      ],
      "text/plain": [
       "                  count           mean            std       min       25%  \\\n",
       "limit_bal       30000.0  167484.322667  129747.661567   10000.0  50000.00   \n",
       "age             30000.0      35.485500       9.217904      21.0     28.00   \n",
       "repay_sept      30000.0      -0.016700       1.123802      -2.0     -1.00   \n",
       "repay_aug       30000.0      -0.133767       1.197186      -2.0     -1.00   \n",
       "repay_july      30000.0      -0.166200       1.196868      -2.0     -1.00   \n",
       "repay_june      30000.0      -0.220667       1.169139      -2.0     -1.00   \n",
       "repay_may       30000.0      -0.266200       1.133187      -2.0     -1.00   \n",
       "repay_april     30000.0      -0.291100       1.149988      -2.0     -1.00   \n",
       "bill_amt_sept   30000.0   51223.330900   73635.860576 -165580.0   3558.75   \n",
       "bill_amt_aug    30000.0   49179.075167   71173.768783  -69777.0   2984.75   \n",
       "bill_amt_july   30000.0   47013.154800   69349.387427 -157264.0   2666.25   \n",
       "bill_amt_june   30000.0   43262.948967   64332.856134 -170000.0   2326.75   \n",
       "bill_amt_may    30000.0   40311.400967   60797.155770  -81334.0   1763.00   \n",
       "bill_amt_april  30000.0   38871.760400   59554.107537 -339603.0   1256.00   \n",
       "pay_amt_sept    30000.0    5663.580500   16563.280354       0.0   1000.00   \n",
       "pay_amt_aug     30000.0    5921.163500   23040.870402       0.0    833.00   \n",
       "pay_amt_july    30000.0    5225.681500   17606.961470       0.0    390.00   \n",
       "pay_amt_june    30000.0    4826.076867   15666.159744       0.0    296.00   \n",
       "pay_amt_may     30000.0    4799.387633   15278.305679       0.0    252.50   \n",
       "pay_amt_april   30000.0    5215.502567   17777.465775       0.0    117.75   \n",
       "\n",
       "                     50%        75%        max  \n",
       "limit_bal       140000.0  240000.00  1000000.0  \n",
       "age                 34.0      41.00       79.0  \n",
       "repay_sept           0.0       0.00        8.0  \n",
       "repay_aug            0.0       0.00        8.0  \n",
       "repay_july           0.0       0.00        8.0  \n",
       "repay_june           0.0       0.00        8.0  \n",
       "repay_may            0.0       0.00        8.0  \n",
       "repay_april          0.0       0.00        8.0  \n",
       "bill_amt_sept    22381.5   67091.00   964511.0  \n",
       "bill_amt_aug     21200.0   64006.25   983931.0  \n",
       "bill_amt_july    20088.5   60164.75  1664089.0  \n",
       "bill_amt_june    19052.0   54506.00   891586.0  \n",
       "bill_amt_may     18104.5   50190.50   927171.0  \n",
       "bill_amt_april   17071.0   49198.25   961664.0  \n",
       "pay_amt_sept      2100.0    5006.00   873552.0  \n",
       "pay_amt_aug       2009.0    5000.00  1684259.0  \n",
       "pay_amt_july      1800.0    4505.00   896040.0  \n",
       "pay_amt_june      1500.0    4013.25   621000.0  \n",
       "pay_amt_may       1500.0    4031.50   426529.0  \n",
       "pay_amt_april     1500.0    4000.00   528666.0  "
      ]
     },
     "execution_count": 21,
     "metadata": {},
     "output_type": "execute_result"
    }
   ],
   "source": [
    "df_credit.describe().T"
   ]
  },
  {
   "cell_type": "code",
   "execution_count": 22,
   "metadata": {},
   "outputs": [
    {
     "name": "stdout",
     "output_type": "stream",
     "text": [
      "For the bill_amt_april column there are 688 negative values\n",
      "For the bill_amt_may column there are 655 negative values\n",
      "For the bill_amt_june column there are 675 negative values\n",
      "For the bill_amt_july column there are 655 negative values\n",
      "For the bill_amt_aug column there are 669 negative values\n",
      "For the bill_amt_sept column there are 590 negative values\n"
     ]
    }
   ],
   "source": [
    "neg_col=['bill_amt_april','bill_amt_may','bill_amt_june','bill_amt_july','bill_amt_aug','bill_amt_sept']\n",
    "\n",
    "for negs in neg_col:\n",
    "    df_neg_bill = df_credit[df_credit[negs] < 0]\n",
    "    print(\"For the {} column there are {} negative values\".format(negs,df_neg_bill.shape[0]))"
   ]
  },
  {
   "cell_type": "code",
   "execution_count": 23,
   "metadata": {},
   "outputs": [
    {
     "data": {
      "image/png": "[encoded data removed]",
      "text/plain": [
       "<Figure size 432x288 with 1 Axes>"
      ]
     },
     "metadata": {
      "needs_background": "light"
     },
     "output_type": "display_data"
    },
    {
     "data": {
      "image/png": "[encoded data removed]",
      "text/plain": [
       "<Figure size 432x288 with 1 Axes>"
      ]
     },
     "metadata": {
      "needs_background": "light"
     },
     "output_type": "display_data"
    },
    {
     "data": {
      "image/png": "[encoded data removed]",
      "text/plain": [
       "<Figure size 432x288 with 1 Axes>"
      ]
     },
     "metadata": {
      "needs_background": "light"
     },
     "output_type": "display_data"
    },
    {
     "data": {
      "image/png": "[encoded data removed]",
      "text/plain": [
       "<Figure size 432x288 with 1 Axes>"
      ]
     },
     "metadata": {
      "needs_background": "light"
     },
     "output_type": "display_data"
    },
    {
     "data": {
      "image/png": "[encoded data removed]",
      "text/plain": [
       "<Figure size 432x288 with 1 Axes>"
      ]
     },
     "metadata": {
      "needs_background": "light"
     },
     "output_type": "display_data"
    },
    {
     "data": {
      "image/png": "[encoded data removed]",
      "text/plain": [
       "<Figure size 432x288 with 1 Axes>"
      ]
     },
     "metadata": {
      "needs_background": "light"
     },
     "output_type": "display_data"
    },
    {
     "data": {
      "image/png": "[encoded data removed]",
      "text/plain": [
       "<Figure size 432x288 with 1 Axes>"
      ]
     },
     "metadata": {
      "needs_background": "light"
     },
     "output_type": "display_data"
    },
    {
     "data": {
      "image/png": "[encoded data removed]",
      "text/plain": [
       "<Figure size 432x288 with 1 Axes>"
      ]
     },
     "metadata": {
      "needs_background": "light"
     },
     "output_type": "display_data"
    },
    {
     "data": {
      "image/png": "[encoded data removed]",
      "text/plain": [
       "<Figure size 432x288 with 1 Axes>"
      ]
     },
     "metadata": {
      "needs_background": "light"
     },
     "output_type": "display_data"
    },
    {
     "data": {
      "image/png": "[encoded data removed]",
      "text/plain": [
       "<Figure size 432x288 with 1 Axes>"
      ]
     },
     "metadata": {
      "needs_background": "light"
     },
     "output_type": "display_data"
    },
    {
     "data": {
      "image/png": "[encoded data removed]",
      "text/plain": [
       "<Figure size 432x288 with 1 Axes>"
      ]
     },
     "metadata": {
      "needs_background": "light"
     },
     "output_type": "display_data"
    },
    {
     "data": {
      "image/png": "[encoded data removed]",
      "text/plain": [
       "<Figure size 432x288 with 1 Axes>"
      ]
     },
     "metadata": {
      "needs_background": "light"
     },
     "output_type": "display_data"
    },
    {
     "data": {
      "image/png": "[encoded data removed]",
      "text/plain": [
       "<Figure size 432x288 with 1 Axes>"
      ]
     },
     "metadata": {
      "needs_background": "light"
     },
     "output_type": "display_data"
    },
    {
     "data": {
      "image/png": "[encoded data removed]",
      "text/plain": [
       "<Figure size 432x288 with 1 Axes>"
      ]
     },
     "metadata": {
      "needs_background": "light"
     },
     "output_type": "display_data"
    },
    {
     "data": {
      "image/png": "[encoded data removed]",
      "text/plain": [
       "<Figure size 432x288 with 1 Axes>"
      ]
     },
     "metadata": {
      "needs_background": "light"
     },
     "output_type": "display_data"
    },
    {
     "data": {
      "image/png": "[encoded data removed]",
      "text/plain": [
       "<Figure size 432x288 with 1 Axes>"
      ]
     },
     "metadata": {
      "needs_background": "light"
     },
     "output_type": "display_data"
    },
    {
     "data": {
      "image/png": "[encoded data removed]",
      "text/plain": [
       "<Figure size 432x288 with 1 Axes>"
      ]
     },
     "metadata": {
      "needs_background": "light"
     },
     "output_type": "display_data"
    },
    {
     "data": {
      "image/png": "[encoded data removed]",
      "text/plain": [
       "<Figure size 432x288 with 1 Axes>"
      ]
     },
     "metadata": {
      "needs_background": "light"
     },
     "output_type": "display_data"
    },
    {
     "data": {
      "image/png": "[encoded data removed]",
      "text/plain": [
       "<Figure size 432x288 with 1 Axes>"
      ]
     },
     "metadata": {
      "needs_background": "light"
     },
     "output_type": "display_data"
    }
   ],
   "source": [
    "for col in all_col_cont:\n",
    "    sb.distplot(df_credit[col])\n",
    "    plt.show()"
   ]
  },
  {
   "cell_type": "markdown",
   "metadata": {},
   "source": [
    "#### About the distribution plots above:\n",
    "\n",
    "- For the \"limit_bal\" variable we can see that the given credit distribution is right skewed\n",
    "\n",
    "- Regarding the distribution of repayment columns, it is possible to see that they are very similar every month, sepecially from April to August, where the majority of repaymentes correspond to -2 (no consumption), -1 (paid in full), 0 (paid on time) or 2 (payment delay for two months). However, in September the distribution is very similar, there is a significant amount of repayments with one month delay. In general terms, most of the people who have pending paymentes pay duly (zeros) . The most of the people that pay late, pay two months later.\n",
    "\n",
    "- The \"bill_amt\" columns are right skewed as well. The mean values increase every month from April to September and so it does the standard deviation, which indicates that this columns can be influenced by outliers that can bias the data. In addition, **the minimum values of all these six columns are negative, which means that the people paid more than they were supposed to the month before.**\n",
    "\n",
    "- The \"pay_amt\" colums have also a right skewed distribution and a very similar nature and magnitude if we compare them with each other."
   ]
  },
  {
   "cell_type": "code",
   "execution_count": 24,
   "metadata": {},
   "outputs": [],
   "source": [
    "col_list=['sex','education','marriage','age','dpnm','age_cat'] # in order to print the categorical variables"
   ]
  },
  {
   "cell_type": "code",
   "execution_count": 25,
   "metadata": {},
   "outputs": [
    {
     "data": {
      "text/plain": [
       "list"
      ]
     },
     "execution_count": 25,
     "metadata": {},
     "output_type": "execute_result"
    }
   ],
   "source": [
    "type(col_list)"
   ]
  },
  {
   "cell_type": "code",
   "execution_count": 26,
   "metadata": {},
   "outputs": [
    {
     "data": {
      "image/png": "[encoded data removed]",
      "text/plain": [
       "<Figure size 432x288 with 1 Axes>"
      ]
     },
     "metadata": {
      "needs_background": "light"
     },
     "output_type": "display_data"
    },
    {
     "data": {
      "image/png": "[encoded data removed]",
      "text/plain": [
       "<Figure size 720x216 with 1 Axes>"
      ]
     },
     "metadata": {},
     "output_type": "display_data"
    },
    {
     "data": {
      "image/png": "[encoded data removed]",
      "text/plain": [
       "<Figure size 720x216 with 1 Axes>"
      ]
     },
     "metadata": {},
     "output_type": "display_data"
    },
    {
     "data": {
      "image/png": "[encoded data removed]",
      "text/plain": [
       "<Figure size 720x216 with 1 Axes>"
      ]
     },
     "metadata": {},
     "output_type": "display_data"
    },
    {
     "data": {
      "image/png": "[encoded data removed]",
      "text/plain": [
       "<Figure size 720x216 with 1 Axes>"
      ]
     },
     "metadata": {},
     "output_type": "display_data"
    },
    {
     "data": {
      "image/png": "[encoded data removed]",
      "text/plain": [
       "<Figure size 720x216 with 1 Axes>"
      ]
     },
     "metadata": {},
     "output_type": "display_data"
    }
   ],
   "source": [
    "for col in col_list:\n",
    "    g=sb.countplot(data=df_credit, x=col)\n",
    "    sb.set(rc={'figure.figsize':(10,3)})\n",
    "    plt.xticks(rotation=90)\n",
    "    plt.show()\n",
    "\n",
    "    "
   ]
  },
  {
   "cell_type": "markdown",
   "metadata": {},
   "source": [
    "* Looking at the bar plots above, we can see that the most frequent person that is using a credit in this dataset is a univerity female student who will not default the payment the next month."
   ]
  },
  {
   "cell_type": "code",
   "execution_count": 27,
   "metadata": {},
   "outputs": [
    {
     "data": {
      "text/html": [
       "<div>\n",
       "<style scoped>\n",
       "    .dataframe tbody tr th:only-of-type {\n",
       "        vertical-align: middle;\n",
       "    }\n",
       "\n",
       "    .dataframe tbody tr th {\n",
       "        vertical-align: top;\n",
       "    }\n",
       "\n",
       "    .dataframe thead th {\n",
       "        text-align: right;\n",
       "    }\n",
       "</style>\n",
       "<table border=\"1\" class=\"dataframe\">\n",
       "  <thead>\n",
       "    <tr style=\"text-align: right;\">\n",
       "      <th></th>\n",
       "      <th>limit_bal</th>\n",
       "      <th>sex</th>\n",
       "      <th>education</th>\n",
       "      <th>marriage</th>\n",
       "      <th>age</th>\n",
       "      <th>repay_sept</th>\n",
       "      <th>repay_aug</th>\n",
       "      <th>repay_july</th>\n",
       "      <th>repay_june</th>\n",
       "      <th>repay_may</th>\n",
       "      <th>repay_april</th>\n",
       "      <th>bill_amt_sept</th>\n",
       "      <th>bill_amt_aug</th>\n",
       "      <th>bill_amt_july</th>\n",
       "      <th>bill_amt_june</th>\n",
       "      <th>bill_amt_may</th>\n",
       "      <th>bill_amt_april</th>\n",
       "      <th>pay_amt_sept</th>\n",
       "      <th>pay_amt_aug</th>\n",
       "      <th>pay_amt_july</th>\n",
       "      <th>pay_amt_june</th>\n",
       "      <th>pay_amt_may</th>\n",
       "      <th>pay_amt_april</th>\n",
       "      <th>dpnm</th>\n",
       "      <th>age_cat</th>\n",
       "    </tr>\n",
       "    <tr>\n",
       "      <th>id</th>\n",
       "      <th></th>\n",
       "      <th></th>\n",
       "      <th></th>\n",
       "      <th></th>\n",
       "      <th></th>\n",
       "      <th></th>\n",
       "      <th></th>\n",
       "      <th></th>\n",
       "      <th></th>\n",
       "      <th></th>\n",
       "      <th></th>\n",
       "      <th></th>\n",
       "      <th></th>\n",
       "      <th></th>\n",
       "      <th></th>\n",
       "      <th></th>\n",
       "      <th></th>\n",
       "      <th></th>\n",
       "      <th></th>\n",
       "      <th></th>\n",
       "      <th></th>\n",
       "      <th></th>\n",
       "      <th></th>\n",
       "      <th></th>\n",
       "      <th></th>\n",
       "    </tr>\n",
       "  </thead>\n",
       "  <tbody>\n",
       "    <tr>\n",
       "      <th>1</th>\n",
       "      <td>20000</td>\n",
       "      <td>female</td>\n",
       "      <td>university</td>\n",
       "      <td>married</td>\n",
       "      <td>24</td>\n",
       "      <td>2</td>\n",
       "      <td>2</td>\n",
       "      <td>-1</td>\n",
       "      <td>-1</td>\n",
       "      <td>-2</td>\n",
       "      <td>-2</td>\n",
       "      <td>3913</td>\n",
       "      <td>3102</td>\n",
       "      <td>689</td>\n",
       "      <td>0</td>\n",
       "      <td>0</td>\n",
       "      <td>0</td>\n",
       "      <td>0</td>\n",
       "      <td>689</td>\n",
       "      <td>0</td>\n",
       "      <td>0</td>\n",
       "      <td>0</td>\n",
       "      <td>0</td>\n",
       "      <td>yes</td>\n",
       "      <td>junior</td>\n",
       "    </tr>\n",
       "    <tr>\n",
       "      <th>2</th>\n",
       "      <td>120000</td>\n",
       "      <td>female</td>\n",
       "      <td>university</td>\n",
       "      <td>single</td>\n",
       "      <td>26</td>\n",
       "      <td>-1</td>\n",
       "      <td>2</td>\n",
       "      <td>0</td>\n",
       "      <td>0</td>\n",
       "      <td>0</td>\n",
       "      <td>2</td>\n",
       "      <td>2682</td>\n",
       "      <td>1725</td>\n",
       "      <td>2682</td>\n",
       "      <td>3272</td>\n",
       "      <td>3455</td>\n",
       "      <td>3261</td>\n",
       "      <td>0</td>\n",
       "      <td>1000</td>\n",
       "      <td>1000</td>\n",
       "      <td>1000</td>\n",
       "      <td>0</td>\n",
       "      <td>2000</td>\n",
       "      <td>yes</td>\n",
       "      <td>junior</td>\n",
       "    </tr>\n",
       "  </tbody>\n",
       "</table>\n",
       "</div>"
      ],
      "text/plain": [
       "    limit_bal     sex   education marriage  age  repay_sept  repay_aug  \\\n",
       "id                                                                       \n",
       "1       20000  female  university  married   24           2          2   \n",
       "2      120000  female  university   single   26          -1          2   \n",
       "\n",
       "    repay_july  repay_june  repay_may  repay_april  bill_amt_sept  \\\n",
       "id                                                                  \n",
       "1           -1          -1         -2           -2           3913   \n",
       "2            0           0          0            2           2682   \n",
       "\n",
       "    bill_amt_aug  bill_amt_july  bill_amt_june  bill_amt_may  bill_amt_april  \\\n",
       "id                                                                             \n",
       "1           3102            689              0             0               0   \n",
       "2           1725           2682           3272          3455            3261   \n",
       "\n",
       "    pay_amt_sept  pay_amt_aug  pay_amt_july  pay_amt_june  pay_amt_may  \\\n",
       "id                                                                       \n",
       "1              0          689             0             0            0   \n",
       "2              0         1000          1000          1000            0   \n",
       "\n",
       "    pay_amt_april dpnm age_cat  \n",
       "id                              \n",
       "1               0  yes  junior  \n",
       "2            2000  yes  junior  "
      ]
     },
     "execution_count": 27,
     "metadata": {},
     "output_type": "execute_result"
    }
   ],
   "source": [
    "df_credit.head(2)"
   ]
  },
  {
   "cell_type": "code",
   "execution_count": 28,
   "metadata": {},
   "outputs": [],
   "source": [
    "# df_credit.to_excel(\"cleaned_data.xlsx\")"
   ]
  },
  {
   "cell_type": "code",
   "execution_count": 29,
   "metadata": {},
   "outputs": [
    {
     "data": {
      "image/png": "[encoded data removed]",
      "text/plain": [
       "<Figure size 720x216 with 1 Axes>"
      ]
     },
     "metadata": {},
     "output_type": "display_data"
    },
    {
     "data": {
      "image/png": "[encoded data removed]",
      "text/plain": [
       "<Figure size 720x216 with 1 Axes>"
      ]
     },
     "metadata": {},
     "output_type": "display_data"
    },
    {
     "data": {
      "image/png": "[encoded data removed]",
      "text/plain": [
       "<Figure size 720x216 with 1 Axes>"
      ]
     },
     "metadata": {},
     "output_type": "display_data"
    },
    {
     "data": {
      "image/png": "[encoded data removed]",
      "text/plain": [
       "<Figure size 720x216 with 1 Axes>"
      ]
     },
     "metadata": {},
     "output_type": "display_data"
    }
   ],
   "source": [
    "hue_list=['sex','marriage','education', 'age_cat']\n",
    "\n",
    "for hue in hue_list:\n",
    "    sb.countplot(data=df_credit, x='dpnm',hue=hue)\n",
    "    plt.show();"
   ]
  },
  {
   "cell_type": "code",
   "execution_count": 30,
   "metadata": {},
   "outputs": [
    {
     "data": {
      "image/png": "[encoded data removed]",
      "text/plain": [
       "<Figure size 720x216 with 1 Axes>"
      ]
     },
     "metadata": {},
     "output_type": "display_data"
    }
   ],
   "source": [
    "sb.histplot(data=df_credit, x=\"age\", hue=\"dpnm\",binwidth=2);"
   ]
  },
  {
   "cell_type": "markdown",
   "metadata": {},
   "source": [
    "- Next we are going to visualize the distribution of \"limit_bal\" column (amount of given credit) by different categories (gender, marriage, age category and education)."
   ]
  },
  {
   "cell_type": "code",
   "execution_count": 31,
   "metadata": {},
   "outputs": [
    {
     "data": {
      "text/html": [
       "<div>\n",
       "<style scoped>\n",
       "    .dataframe tbody tr th:only-of-type {\n",
       "        vertical-align: middle;\n",
       "    }\n",
       "\n",
       "    .dataframe tbody tr th {\n",
       "        vertical-align: top;\n",
       "    }\n",
       "\n",
       "    .dataframe thead th {\n",
       "        text-align: right;\n",
       "    }\n",
       "</style>\n",
       "<table border=\"1\" class=\"dataframe\">\n",
       "  <thead>\n",
       "    <tr style=\"text-align: right;\">\n",
       "      <th></th>\n",
       "      <th>limit_bal</th>\n",
       "      <th>sex</th>\n",
       "      <th>education</th>\n",
       "      <th>marriage</th>\n",
       "      <th>age</th>\n",
       "      <th>repay_sept</th>\n",
       "      <th>repay_aug</th>\n",
       "      <th>repay_july</th>\n",
       "      <th>repay_june</th>\n",
       "      <th>repay_may</th>\n",
       "      <th>repay_april</th>\n",
       "      <th>bill_amt_sept</th>\n",
       "      <th>bill_amt_aug</th>\n",
       "      <th>bill_amt_july</th>\n",
       "      <th>bill_amt_june</th>\n",
       "      <th>bill_amt_may</th>\n",
       "      <th>bill_amt_april</th>\n",
       "      <th>pay_amt_sept</th>\n",
       "      <th>pay_amt_aug</th>\n",
       "      <th>pay_amt_july</th>\n",
       "      <th>pay_amt_june</th>\n",
       "      <th>pay_amt_may</th>\n",
       "      <th>pay_amt_april</th>\n",
       "      <th>dpnm</th>\n",
       "      <th>age_cat</th>\n",
       "    </tr>\n",
       "    <tr>\n",
       "      <th>id</th>\n",
       "      <th></th>\n",
       "      <th></th>\n",
       "      <th></th>\n",
       "      <th></th>\n",
       "      <th></th>\n",
       "      <th></th>\n",
       "      <th></th>\n",
       "      <th></th>\n",
       "      <th></th>\n",
       "      <th></th>\n",
       "      <th></th>\n",
       "      <th></th>\n",
       "      <th></th>\n",
       "      <th></th>\n",
       "      <th></th>\n",
       "      <th></th>\n",
       "      <th></th>\n",
       "      <th></th>\n",
       "      <th></th>\n",
       "      <th></th>\n",
       "      <th></th>\n",
       "      <th></th>\n",
       "      <th></th>\n",
       "      <th></th>\n",
       "      <th></th>\n",
       "    </tr>\n",
       "  </thead>\n",
       "  <tbody>\n",
       "    <tr>\n",
       "      <th>1</th>\n",
       "      <td>20000</td>\n",
       "      <td>female</td>\n",
       "      <td>university</td>\n",
       "      <td>married</td>\n",
       "      <td>24</td>\n",
       "      <td>2</td>\n",
       "      <td>2</td>\n",
       "      <td>-1</td>\n",
       "      <td>-1</td>\n",
       "      <td>-2</td>\n",
       "      <td>-2</td>\n",
       "      <td>3913</td>\n",
       "      <td>3102</td>\n",
       "      <td>689</td>\n",
       "      <td>0</td>\n",
       "      <td>0</td>\n",
       "      <td>0</td>\n",
       "      <td>0</td>\n",
       "      <td>689</td>\n",
       "      <td>0</td>\n",
       "      <td>0</td>\n",
       "      <td>0</td>\n",
       "      <td>0</td>\n",
       "      <td>yes</td>\n",
       "      <td>junior</td>\n",
       "    </tr>\n",
       "    <tr>\n",
       "      <th>2</th>\n",
       "      <td>120000</td>\n",
       "      <td>female</td>\n",
       "      <td>university</td>\n",
       "      <td>single</td>\n",
       "      <td>26</td>\n",
       "      <td>-1</td>\n",
       "      <td>2</td>\n",
       "      <td>0</td>\n",
       "      <td>0</td>\n",
       "      <td>0</td>\n",
       "      <td>2</td>\n",
       "      <td>2682</td>\n",
       "      <td>1725</td>\n",
       "      <td>2682</td>\n",
       "      <td>3272</td>\n",
       "      <td>3455</td>\n",
       "      <td>3261</td>\n",
       "      <td>0</td>\n",
       "      <td>1000</td>\n",
       "      <td>1000</td>\n",
       "      <td>1000</td>\n",
       "      <td>0</td>\n",
       "      <td>2000</td>\n",
       "      <td>yes</td>\n",
       "      <td>junior</td>\n",
       "    </tr>\n",
       "  </tbody>\n",
       "</table>\n",
       "</div>"
      ],
      "text/plain": [
       "    limit_bal     sex   education marriage  age  repay_sept  repay_aug  \\\n",
       "id                                                                       \n",
       "1       20000  female  university  married   24           2          2   \n",
       "2      120000  female  university   single   26          -1          2   \n",
       "\n",
       "    repay_july  repay_june  repay_may  repay_april  bill_amt_sept  \\\n",
       "id                                                                  \n",
       "1           -1          -1         -2           -2           3913   \n",
       "2            0           0          0            2           2682   \n",
       "\n",
       "    bill_amt_aug  bill_amt_july  bill_amt_june  bill_amt_may  bill_amt_april  \\\n",
       "id                                                                             \n",
       "1           3102            689              0             0               0   \n",
       "2           1725           2682           3272          3455            3261   \n",
       "\n",
       "    pay_amt_sept  pay_amt_aug  pay_amt_july  pay_amt_june  pay_amt_may  \\\n",
       "id                                                                       \n",
       "1              0          689             0             0            0   \n",
       "2              0         1000          1000          1000            0   \n",
       "\n",
       "    pay_amt_april dpnm age_cat  \n",
       "id                              \n",
       "1               0  yes  junior  \n",
       "2            2000  yes  junior  "
      ]
     },
     "execution_count": 31,
     "metadata": {},
     "output_type": "execute_result"
    }
   ],
   "source": [
    "df_credit.head(2)"
   ]
  },
  {
   "cell_type": "code",
   "execution_count": 32,
   "metadata": {},
   "outputs": [
    {
     "data": {
      "image/png": "[encoded data removed]",
      "text/plain": [
       "<Figure size 720x216 with 1 Axes>"
      ]
     },
     "metadata": {},
     "output_type": "display_data"
    },
    {
     "data": {
      "image/png": "[encoded data removed]",
      "text/plain": [
       "<Figure size 1080x576 with 1 Axes>"
      ]
     },
     "metadata": {},
     "output_type": "display_data"
    },
    {
     "data": {
      "image/png": "[encoded data removed]",
      "text/plain": [
       "<Figure size 1080x576 with 1 Axes>"
      ]
     },
     "metadata": {},
     "output_type": "display_data"
    },
    {
     "data": {
      "image/png": "[encoded data removed]",
      "text/plain": [
       "<Figure size 1080x576 with 1 Axes>"
      ]
     },
     "metadata": {},
     "output_type": "display_data"
    }
   ],
   "source": [
    "limit_cols=['sex','marriage','education','age_cat']\n",
    "for col in limit_cols:\n",
    "    \n",
    "    sb.boxplot(data=df_credit , x='limit_bal',y=col , hue='dpnm')\n",
    "    sb.set(rc={'figure.figsize':(15,8)})\n",
    "    plt.show()"
   ]
  },
  {
   "cell_type": "markdown",
   "metadata": {},
   "source": [
    "* Looking at the boxplots we can see that:\n",
    "    - Both for male and female, the given credits are smaller when the default in the next month payment happen.\n",
    "    - Regarding the marital status, we can see that the biggest amount of given credit correspond to married people and, as before, the amount of credit is smaller for default cases.\n",
    "    - Acording to the education, it is suprising to see, how the biggest credit is provided to people that are graduated in school (and not at the university or in high school).\n",
    "    - That the group of age that receives higher amount for the credits are the retired people followed by the \"post-senior\" and the \"senior\".\n",
    "    \n",
    "**We can see that the common trend is that the cases of default payment for the next month are in general smaller amount credits compare to those that are not deafault in the same category.**"
   ]
  },
  {
   "cell_type": "code",
   "execution_count": 33,
   "metadata": {},
   "outputs": [
    {
     "data": {
      "text/plain": [
       "Index(['limit_bal', 'sex', 'education', 'marriage', 'age', 'repay_sept',\n",
       "       'repay_aug', 'repay_july', 'repay_june', 'repay_may', 'repay_april',\n",
       "       'bill_amt_sept', 'bill_amt_aug', 'bill_amt_july', 'bill_amt_june',\n",
       "       'bill_amt_may', 'bill_amt_april', 'pay_amt_sept', 'pay_amt_aug',\n",
       "       'pay_amt_july', 'pay_amt_june', 'pay_amt_may', 'pay_amt_april', 'dpnm',\n",
       "       'age_cat'],\n",
       "      dtype='object')"
      ]
     },
     "execution_count": 33,
     "metadata": {},
     "output_type": "execute_result"
    }
   ],
   "source": [
    "df_credit.columns"
   ]
  },
  {
   "cell_type": "markdown",
   "metadata": {},
   "source": [
    "* Next, we will creat a comparison between billing amount and paying amount by month and demographic group (sex, marriage, eduction and age category)."
   ]
  },
  {
   "cell_type": "code",
   "execution_count": 34,
   "metadata": {},
   "outputs": [],
   "source": [
    "group_cols=['sex','marriage','education','age_cat']\n",
    "bill_cols=['bill_amt_april','bill_amt_may','bill_amt_june','bill_amt_july','bill_amt_aug','bill_amt_sept']\n",
    "pay_cols=['pay_amt_april','pay_amt_may','pay_amt_june','pay_amt_july','pay_amt_aug','pay_amt_sept']"
   ]
  },
  {
   "cell_type": "code",
   "execution_count": 35,
   "metadata": {},
   "outputs": [
    {
     "ename": "TypeError",
     "evalue": "object of type 'generator' has no len()",
     "output_type": "error",
     "traceback": [
      "\u001b[1;31m---------------------------------------------------------------------------\u001b[0m",
      "\u001b[1;31mTypeError\u001b[0m                                 Traceback (most recent call last)",
      "\u001b[1;32md:\\WB\\Ironhack\\Final_Project\\credit\\credit.ipynb Cell 44\u001b[0m in \u001b[0;36m<cell line: 1>\u001b[1;34m()\u001b[0m\n\u001b[0;32m      <a href='vscode-notebook-cell:/d%3A/WB/Ironhack/Final_Project/credit/credit.ipynb#X61sZmlsZQ%3D%3D?line=3'>4</a>\u001b[0m ax \u001b[39m=\u001b[39m df_bill\u001b[39m.\u001b[39mplot()\n\u001b[0;32m      <a href='vscode-notebook-cell:/d%3A/WB/Ironhack/Final_Project/credit/credit.ipynb#X61sZmlsZQ%3D%3D?line=4'>5</a>\u001b[0m l \u001b[39m=\u001b[39m ax\u001b[39m.\u001b[39mget_lines()\n\u001b[1;32m----> <a href='vscode-notebook-cell:/d%3A/WB/Ironhack/Final_Project/credit/credit.ipynb#X61sZmlsZQ%3D%3D?line=5'>6</a>\u001b[0m df_pay\u001b[39m.\u001b[39;49mplot(ax\u001b[39m=\u001b[39;49max, linestyle\u001b[39m=\u001b[39;49m\u001b[39m'\u001b[39;49m\u001b[39m--\u001b[39;49m\u001b[39m'\u001b[39;49m, color\u001b[39m=\u001b[39;49m(i\u001b[39m.\u001b[39;49mget_color() \u001b[39mfor\u001b[39;49;00m i \u001b[39min\u001b[39;49;00m l))\n\u001b[0;32m      <a href='vscode-notebook-cell:/d%3A/WB/Ironhack/Final_Project/credit/credit.ipynb#X61sZmlsZQ%3D%3D?line=6'>7</a>\u001b[0m plt\u001b[39m.\u001b[39mshow()\n",
      "File \u001b[1;32mc:\\Users\\Xabi\\anaconda3\\envs\\py3_env\\lib\\site-packages\\pandas\\plotting\\_core.py:972\u001b[0m, in \u001b[0;36mPlotAccessor.__call__\u001b[1;34m(self, *args, **kwargs)\u001b[0m\n\u001b[0;32m    969\u001b[0m             label_name \u001b[39m=\u001b[39m label_kw \u001b[39mor\u001b[39;00m data\u001b[39m.\u001b[39mcolumns\n\u001b[0;32m    970\u001b[0m             data\u001b[39m.\u001b[39mcolumns \u001b[39m=\u001b[39m label_name\n\u001b[1;32m--> 972\u001b[0m \u001b[39mreturn\u001b[39;00m plot_backend\u001b[39m.\u001b[39;49mplot(data, kind\u001b[39m=\u001b[39;49mkind, \u001b[39m*\u001b[39;49m\u001b[39m*\u001b[39;49mkwargs)\n",
      "File \u001b[1;32mc:\\Users\\Xabi\\anaconda3\\envs\\py3_env\\lib\\site-packages\\pandas\\plotting\\_matplotlib\\__init__.py:71\u001b[0m, in \u001b[0;36mplot\u001b[1;34m(data, kind, **kwargs)\u001b[0m\n\u001b[0;32m     69\u001b[0m         kwargs[\u001b[39m\"\u001b[39m\u001b[39max\u001b[39m\u001b[39m\"\u001b[39m] \u001b[39m=\u001b[39m \u001b[39mgetattr\u001b[39m(ax, \u001b[39m\"\u001b[39m\u001b[39mleft_ax\u001b[39m\u001b[39m\"\u001b[39m, ax)\n\u001b[0;32m     70\u001b[0m plot_obj \u001b[39m=\u001b[39m PLOT_CLASSES[kind](data, \u001b[39m*\u001b[39m\u001b[39m*\u001b[39mkwargs)\n\u001b[1;32m---> 71\u001b[0m plot_obj\u001b[39m.\u001b[39;49mgenerate()\n\u001b[0;32m     72\u001b[0m plot_obj\u001b[39m.\u001b[39mdraw()\n\u001b[0;32m     73\u001b[0m \u001b[39mreturn\u001b[39;00m plot_obj\u001b[39m.\u001b[39mresult\n",
      "File \u001b[1;32mc:\\Users\\Xabi\\anaconda3\\envs\\py3_env\\lib\\site-packages\\pandas\\plotting\\_matplotlib\\core.py:329\u001b[0m, in \u001b[0;36mMPLPlot.generate\u001b[1;34m(self)\u001b[0m\n\u001b[0;32m    327\u001b[0m \u001b[39mself\u001b[39m\u001b[39m.\u001b[39m_compute_plot_data()\n\u001b[0;32m    328\u001b[0m \u001b[39mself\u001b[39m\u001b[39m.\u001b[39m_setup_subplots()\n\u001b[1;32m--> 329\u001b[0m \u001b[39mself\u001b[39;49m\u001b[39m.\u001b[39;49m_make_plot()\n\u001b[0;32m    330\u001b[0m \u001b[39mself\u001b[39m\u001b[39m.\u001b[39m_add_table()\n\u001b[0;32m    331\u001b[0m \u001b[39mself\u001b[39m\u001b[39m.\u001b[39m_make_legend()\n",
      "File \u001b[1;32mc:\\Users\\Xabi\\anaconda3\\envs\\py3_env\\lib\\site-packages\\pandas\\plotting\\_matplotlib\\core.py:1213\u001b[0m, in \u001b[0;36mLinePlot._make_plot\u001b[1;34m(self)\u001b[0m\n\u001b[0;32m   1210\u001b[0m stacking_id \u001b[39m=\u001b[39m \u001b[39mself\u001b[39m\u001b[39m.\u001b[39m_get_stacking_id()\n\u001b[0;32m   1211\u001b[0m is_errorbar \u001b[39m=\u001b[39m com\u001b[39m.\u001b[39many_not_none(\u001b[39m*\u001b[39m\u001b[39mself\u001b[39m\u001b[39m.\u001b[39merrors\u001b[39m.\u001b[39mvalues())\n\u001b[1;32m-> 1213\u001b[0m colors \u001b[39m=\u001b[39m \u001b[39mself\u001b[39;49m\u001b[39m.\u001b[39;49m_get_colors()\n\u001b[0;32m   1214\u001b[0m \u001b[39mfor\u001b[39;00m i, (label, y) \u001b[39min\u001b[39;00m \u001b[39menumerate\u001b[39m(it):\n\u001b[0;32m   1215\u001b[0m     ax \u001b[39m=\u001b[39m \u001b[39mself\u001b[39m\u001b[39m.\u001b[39m_get_ax(i)\n",
      "File \u001b[1;32mc:\\Users\\Xabi\\anaconda3\\envs\\py3_env\\lib\\site-packages\\pandas\\plotting\\_matplotlib\\core.py:842\u001b[0m, in \u001b[0;36mMPLPlot._get_colors\u001b[1;34m(self, num_colors, color_kwds)\u001b[0m\n\u001b[0;32m    839\u001b[0m \u001b[39mif\u001b[39;00m num_colors \u001b[39mis\u001b[39;00m \u001b[39mNone\u001b[39;00m:\n\u001b[0;32m    840\u001b[0m     num_colors \u001b[39m=\u001b[39m \u001b[39mself\u001b[39m\u001b[39m.\u001b[39mnseries\n\u001b[1;32m--> 842\u001b[0m \u001b[39mreturn\u001b[39;00m get_standard_colors(\n\u001b[0;32m    843\u001b[0m     num_colors\u001b[39m=\u001b[39;49mnum_colors,\n\u001b[0;32m    844\u001b[0m     colormap\u001b[39m=\u001b[39;49m\u001b[39mself\u001b[39;49m\u001b[39m.\u001b[39;49mcolormap,\n\u001b[0;32m    845\u001b[0m     color\u001b[39m=\u001b[39;49m\u001b[39mself\u001b[39;49m\u001b[39m.\u001b[39;49mkwds\u001b[39m.\u001b[39;49mget(color_kwds),\n\u001b[0;32m    846\u001b[0m )\n",
      "File \u001b[1;32mc:\\Users\\Xabi\\anaconda3\\envs\\py3_env\\lib\\site-packages\\pandas\\plotting\\_matplotlib\\style.py:70\u001b[0m, in \u001b[0;36mget_standard_colors\u001b[1;34m(num_colors, colormap, color_type, color)\u001b[0m\n\u001b[0;32m     67\u001b[0m \u001b[39mif\u001b[39;00m \u001b[39misinstance\u001b[39m(color, \u001b[39mdict\u001b[39m):\n\u001b[0;32m     68\u001b[0m     \u001b[39mreturn\u001b[39;00m color\n\u001b[1;32m---> 70\u001b[0m colors \u001b[39m=\u001b[39m _derive_colors(\n\u001b[0;32m     71\u001b[0m     color\u001b[39m=\u001b[39;49mcolor,\n\u001b[0;32m     72\u001b[0m     colormap\u001b[39m=\u001b[39;49mcolormap,\n\u001b[0;32m     73\u001b[0m     color_type\u001b[39m=\u001b[39;49mcolor_type,\n\u001b[0;32m     74\u001b[0m     num_colors\u001b[39m=\u001b[39;49mnum_colors,\n\u001b[0;32m     75\u001b[0m )\n\u001b[0;32m     77\u001b[0m \u001b[39mreturn\u001b[39;00m \u001b[39mlist\u001b[39m(_cycle_colors(colors, num_colors\u001b[39m=\u001b[39mnum_colors))\n",
      "File \u001b[1;32mc:\\Users\\Xabi\\anaconda3\\envs\\py3_env\\lib\\site-packages\\pandas\\plotting\\_matplotlib\\style.py:126\u001b[0m, in \u001b[0;36m_derive_colors\u001b[1;34m(color, colormap, color_type, num_colors)\u001b[0m\n\u001b[0;32m    122\u001b[0m     \u001b[39mif\u001b[39;00m colormap \u001b[39mis\u001b[39;00m \u001b[39mnot\u001b[39;00m \u001b[39mNone\u001b[39;00m:\n\u001b[0;32m    123\u001b[0m         warnings\u001b[39m.\u001b[39mwarn(\n\u001b[0;32m    124\u001b[0m             \u001b[39m\"\u001b[39m\u001b[39m'\u001b[39m\u001b[39mcolor\u001b[39m\u001b[39m'\u001b[39m\u001b[39m and \u001b[39m\u001b[39m'\u001b[39m\u001b[39mcolormap\u001b[39m\u001b[39m'\u001b[39m\u001b[39m cannot be used simultaneously. Using \u001b[39m\u001b[39m'\u001b[39m\u001b[39mcolor\u001b[39m\u001b[39m'\u001b[39m\u001b[39m\"\u001b[39m\n\u001b[0;32m    125\u001b[0m         )\n\u001b[1;32m--> 126\u001b[0m     \u001b[39mreturn\u001b[39;00m _get_colors_from_color(color)\n\u001b[0;32m    127\u001b[0m \u001b[39melse\u001b[39;00m:\n\u001b[0;32m    128\u001b[0m     \u001b[39mreturn\u001b[39;00m _get_colors_from_color_type(color_type, num_colors\u001b[39m=\u001b[39mnum_colors)\n",
      "File \u001b[1;32mc:\\Users\\Xabi\\anaconda3\\envs\\py3_env\\lib\\site-packages\\pandas\\plotting\\_matplotlib\\style.py:164\u001b[0m, in \u001b[0;36m_get_colors_from_color\u001b[1;34m(color)\u001b[0m\n\u001b[0;32m    160\u001b[0m \u001b[39mdef\u001b[39;00m \u001b[39m_get_colors_from_color\u001b[39m(\n\u001b[0;32m    161\u001b[0m     color: Color \u001b[39m|\u001b[39m Collection[Color],\n\u001b[0;32m    162\u001b[0m ) \u001b[39m-\u001b[39m\u001b[39m>\u001b[39m \u001b[39mlist\u001b[39m[Color]:\n\u001b[0;32m    163\u001b[0m     \u001b[39m\"\"\"Get colors from user input color.\"\"\"\u001b[39;00m\n\u001b[1;32m--> 164\u001b[0m     \u001b[39mif\u001b[39;00m \u001b[39mlen\u001b[39;49m(color) \u001b[39m==\u001b[39m \u001b[39m0\u001b[39m:\n\u001b[0;32m    165\u001b[0m         \u001b[39mraise\u001b[39;00m \u001b[39mValueError\u001b[39;00m(\u001b[39mf\u001b[39m\u001b[39m\"\u001b[39m\u001b[39mInvalid color argument: \u001b[39m\u001b[39m{\u001b[39;00mcolor\u001b[39m}\u001b[39;00m\u001b[39m\"\u001b[39m)\n\u001b[0;32m    167\u001b[0m     \u001b[39mif\u001b[39;00m _is_single_color(color):\n",
      "\u001b[1;31mTypeError\u001b[0m: object of type 'generator' has no len()"
     ]
    },
    {
     "data": {
      "image/png": "[encoded data removed]",
      "text/plain": [
       "<Figure size 1080x576 with 1 Axes>"
      ]
     },
     "metadata": {},
     "output_type": "display_data"
    }
   ],
   "source": [
    "for colg in group_cols:\n",
    "    df_bill=df_credit.groupby(colg)[bill_cols].mean()\n",
    "    df_pay=df_credit.groupby(colg)[pay_cols].mean()\n",
    "    ax = df_bill.plot()\n",
    "    l = ax.get_lines()\n",
    "    df_pay.plot(ax=ax, linestyle='--', color=(i.get_color() for i in l))\n",
    "    plt.show()"
   ]
  },
  {
   "cell_type": "code",
   "execution_count": null,
   "metadata": {},
   "outputs": [
    {
     "data": {
      "text/html": [
       "<div>\n",
       "<style scoped>\n",
       "    .dataframe tbody tr th:only-of-type {\n",
       "        vertical-align: middle;\n",
       "    }\n",
       "\n",
       "    .dataframe tbody tr th {\n",
       "        vertical-align: top;\n",
       "    }\n",
       "\n",
       "    .dataframe thead th {\n",
       "        text-align: right;\n",
       "    }\n",
       "</style>\n",
       "<table border=\"1\" class=\"dataframe\">\n",
       "  <thead>\n",
       "    <tr style=\"text-align: right;\">\n",
       "      <th></th>\n",
       "      <th>bill_amt_april</th>\n",
       "      <th>bill_amt_may</th>\n",
       "      <th>bill_amt_june</th>\n",
       "      <th>bill_amt_july</th>\n",
       "      <th>bill_amt_aug</th>\n",
       "      <th>bill_amt_sept</th>\n",
       "    </tr>\n",
       "    <tr>\n",
       "      <th>age_cat</th>\n",
       "      <th></th>\n",
       "      <th></th>\n",
       "      <th></th>\n",
       "      <th></th>\n",
       "      <th></th>\n",
       "      <th></th>\n",
       "    </tr>\n",
       "  </thead>\n",
       "  <tbody>\n",
       "    <tr>\n",
       "      <th>junior</th>\n",
       "      <td>37383.580463</td>\n",
       "      <td>38721.292938</td>\n",
       "      <td>41508.159141</td>\n",
       "      <td>44966.869832</td>\n",
       "      <td>46957.724493</td>\n",
       "      <td>48843.063002</td>\n",
       "    </tr>\n",
       "    <tr>\n",
       "      <th>post-senior</th>\n",
       "      <td>38760.803481</td>\n",
       "      <td>40903.335318</td>\n",
       "      <td>44630.071003</td>\n",
       "      <td>48939.778745</td>\n",
       "      <td>50939.190563</td>\n",
       "      <td>53110.830050</td>\n",
       "    </tr>\n",
       "    <tr>\n",
       "      <th>retired</th>\n",
       "      <td>75680.302326</td>\n",
       "      <td>73711.372093</td>\n",
       "      <td>77706.069767</td>\n",
       "      <td>78182.279070</td>\n",
       "      <td>84509.906977</td>\n",
       "      <td>90762.313953</td>\n",
       "    </tr>\n",
       "    <tr>\n",
       "      <th>senior</th>\n",
       "      <td>40894.421168</td>\n",
       "      <td>42377.280443</td>\n",
       "      <td>45419.122413</td>\n",
       "      <td>49531.891229</td>\n",
       "      <td>51967.749405</td>\n",
       "      <td>54197.983886</td>\n",
       "    </tr>\n",
       "  </tbody>\n",
       "</table>\n",
       "</div>"
      ],
      "text/plain": [
       "             bill_amt_april  bill_amt_may  bill_amt_june  bill_amt_july  \\\n",
       "age_cat                                                                   \n",
       "junior         37383.580463  38721.292938   41508.159141   44966.869832   \n",
       "post-senior    38760.803481  40903.335318   44630.071003   48939.778745   \n",
       "retired        75680.302326  73711.372093   77706.069767   78182.279070   \n",
       "senior         40894.421168  42377.280443   45419.122413   49531.891229   \n",
       "\n",
       "             bill_amt_aug  bill_amt_sept  \n",
       "age_cat                                   \n",
       "junior       46957.724493   48843.063002  \n",
       "post-senior  50939.190563   53110.830050  \n",
       "retired      84509.906977   90762.313953  \n",
       "senior       51967.749405   54197.983886  "
      ]
     },
     "execution_count": 36,
     "metadata": {},
     "output_type": "execute_result"
    }
   ],
   "source": [
    "df_bill.head()"
   ]
  },
  {
   "cell_type": "code",
   "execution_count": null,
   "metadata": {},
   "outputs": [],
   "source": [
    "df_bill_sex=df_credit.groupby('sex')[bill_cols].mean()\n",
    "df_pay_sex=df_credit.groupby('sex')[pay_cols].mean()\n",
    "\n",
    "df_bill_mar=df_credit.groupby('marriage')[bill_cols].mean()\n",
    "df_pay_mar=df_credit.groupby('marriage')[pay_cols].mean()\n",
    "\n",
    "df_bill_ed=df_credit.groupby('education')[bill_cols].mean()\n",
    "df_pay_ed=df_credit.groupby('education')[pay_cols].mean()\n",
    "\n",
    "df_bill_age=df_credit.groupby('age')[bill_cols].mean()\n",
    "df_pay_age=df_credit.groupby('age')[pay_cols].mean()"
   ]
  },
  {
   "cell_type": "code",
   "execution_count": null,
   "metadata": {},
   "outputs": [
    {
     "data": {
      "text/html": [
       "<div>\n",
       "<style scoped>\n",
       "    .dataframe tbody tr th:only-of-type {\n",
       "        vertical-align: middle;\n",
       "    }\n",
       "\n",
       "    .dataframe tbody tr th {\n",
       "        vertical-align: top;\n",
       "    }\n",
       "\n",
       "    .dataframe thead th {\n",
       "        text-align: right;\n",
       "    }\n",
       "</style>\n",
       "<table border=\"1\" class=\"dataframe\">\n",
       "  <thead>\n",
       "    <tr style=\"text-align: right;\">\n",
       "      <th></th>\n",
       "      <th>bill_amt_april</th>\n",
       "      <th>bill_amt_may</th>\n",
       "      <th>bill_amt_june</th>\n",
       "      <th>bill_amt_july</th>\n",
       "      <th>bill_amt_aug</th>\n",
       "      <th>bill_amt_sept</th>\n",
       "    </tr>\n",
       "    <tr>\n",
       "      <th>sex</th>\n",
       "      <th></th>\n",
       "      <th></th>\n",
       "      <th></th>\n",
       "      <th></th>\n",
       "      <th></th>\n",
       "      <th></th>\n",
       "    </tr>\n",
       "  </thead>\n",
       "  <tbody>\n",
       "    <tr>\n",
       "      <th>female</th>\n",
       "      <td>38064.427286</td>\n",
       "      <td>39473.816807</td>\n",
       "      <td>42122.600099</td>\n",
       "      <td>45633.108989</td>\n",
       "      <td>47380.997736</td>\n",
       "      <td>49216.395263</td>\n",
       "    </tr>\n",
       "    <tr>\n",
       "      <th>male</th>\n",
       "      <td>40101.775320</td>\n",
       "      <td>41587.504963</td>\n",
       "      <td>45000.331090</td>\n",
       "      <td>49115.727961</td>\n",
       "      <td>51918.541723</td>\n",
       "      <td>54281.004038</td>\n",
       "    </tr>\n",
       "  </tbody>\n",
       "</table>\n",
       "</div>"
      ],
      "text/plain": [
       "        bill_amt_april  bill_amt_may  bill_amt_june  bill_amt_july  \\\n",
       "sex                                                                  \n",
       "female    38064.427286  39473.816807   42122.600099   45633.108989   \n",
       "male      40101.775320  41587.504963   45000.331090   49115.727961   \n",
       "\n",
       "        bill_amt_aug  bill_amt_sept  \n",
       "sex                                  \n",
       "female  47380.997736   49216.395263  \n",
       "male    51918.541723   54281.004038  "
      ]
     },
     "execution_count": 38,
     "metadata": {},
     "output_type": "execute_result"
    }
   ],
   "source": [
    "df_bill_sex.head()"
   ]
  },
  {
   "cell_type": "code",
   "execution_count": null,
   "metadata": {},
   "outputs": [
    {
     "data": {
      "text/html": [
       "<div>\n",
       "<style scoped>\n",
       "    .dataframe tbody tr th:only-of-type {\n",
       "        vertical-align: middle;\n",
       "    }\n",
       "\n",
       "    .dataframe tbody tr th {\n",
       "        vertical-align: top;\n",
       "    }\n",
       "\n",
       "    .dataframe thead th {\n",
       "        text-align: right;\n",
       "    }\n",
       "</style>\n",
       "<table border=\"1\" class=\"dataframe\">\n",
       "  <thead>\n",
       "    <tr style=\"text-align: right;\">\n",
       "      <th></th>\n",
       "      <th>pay_amt_april</th>\n",
       "      <th>pay_amt_may</th>\n",
       "      <th>pay_amt_june</th>\n",
       "      <th>pay_amt_july</th>\n",
       "      <th>pay_amt_aug</th>\n",
       "      <th>pay_amt_sept</th>\n",
       "    </tr>\n",
       "    <tr>\n",
       "      <th>sex</th>\n",
       "      <th></th>\n",
       "      <th></th>\n",
       "      <th></th>\n",
       "      <th></th>\n",
       "      <th></th>\n",
       "      <th></th>\n",
       "    </tr>\n",
       "  </thead>\n",
       "  <tbody>\n",
       "    <tr>\n",
       "      <th>female</th>\n",
       "      <td>5175.665305</td>\n",
       "      <td>4778.752043</td>\n",
       "      <td>4797.786992</td>\n",
       "      <td>5103.057255</td>\n",
       "      <td>5895.200088</td>\n",
       "      <td>5660.327076</td>\n",
       "    </tr>\n",
       "    <tr>\n",
       "      <th>male</th>\n",
       "      <td>5276.196753</td>\n",
       "      <td>4830.827052</td>\n",
       "      <td>4869.177995</td>\n",
       "      <td>5412.506057</td>\n",
       "      <td>5960.720138</td>\n",
       "      <td>5668.537264</td>\n",
       "    </tr>\n",
       "  </tbody>\n",
       "</table>\n",
       "</div>"
      ],
      "text/plain": [
       "        pay_amt_april  pay_amt_may  pay_amt_june  pay_amt_july  pay_amt_aug  \\\n",
       "sex                                                                           \n",
       "female    5175.665305  4778.752043   4797.786992   5103.057255  5895.200088   \n",
       "male      5276.196753  4830.827052   4869.177995   5412.506057  5960.720138   \n",
       "\n",
       "        pay_amt_sept  \n",
       "sex                   \n",
       "female   5660.327076  \n",
       "male     5668.537264  "
      ]
     },
     "execution_count": 39,
     "metadata": {},
     "output_type": "execute_result"
    }
   ],
   "source": [
    "df_pay_sex.head()"
   ]
  },
  {
   "cell_type": "code",
   "execution_count": null,
   "metadata": {},
   "outputs": [
    {
     "data": {
      "text/html": [
       "<div>\n",
       "<style scoped>\n",
       "    .dataframe tbody tr th:only-of-type {\n",
       "        vertical-align: middle;\n",
       "    }\n",
       "\n",
       "    .dataframe tbody tr th {\n",
       "        vertical-align: top;\n",
       "    }\n",
       "\n",
       "    .dataframe thead th {\n",
       "        text-align: right;\n",
       "    }\n",
       "</style>\n",
       "<table border=\"1\" class=\"dataframe\">\n",
       "  <thead>\n",
       "    <tr style=\"text-align: right;\">\n",
       "      <th></th>\n",
       "      <th>bill_amt_april</th>\n",
       "      <th>bill_amt_may</th>\n",
       "      <th>bill_amt_june</th>\n",
       "      <th>bill_amt_july</th>\n",
       "      <th>bill_amt_aug</th>\n",
       "      <th>bill_amt_sept</th>\n",
       "    </tr>\n",
       "    <tr>\n",
       "      <th>marriage</th>\n",
       "      <th></th>\n",
       "      <th></th>\n",
       "      <th></th>\n",
       "      <th></th>\n",
       "      <th></th>\n",
       "      <th></th>\n",
       "    </tr>\n",
       "  </thead>\n",
       "  <tbody>\n",
       "    <tr>\n",
       "      <th>married</th>\n",
       "      <td>40250.686946</td>\n",
       "      <td>41975.121824</td>\n",
       "      <td>44891.819094</td>\n",
       "      <td>48981.229592</td>\n",
       "      <td>50925.088147</td>\n",
       "      <td>53258.129072</td>\n",
       "    </tr>\n",
       "    <tr>\n",
       "      <th>other</th>\n",
       "      <td>28582.696594</td>\n",
       "      <td>28269.250774</td>\n",
       "      <td>31230.300310</td>\n",
       "      <td>37212.554180</td>\n",
       "      <td>40048.777090</td>\n",
       "      <td>43176.012384</td>\n",
       "    </tr>\n",
       "    <tr>\n",
       "      <th>single</th>\n",
       "      <td>37974.720308</td>\n",
       "      <td>39207.970120</td>\n",
       "      <td>42194.771674</td>\n",
       "      <td>45621.441493</td>\n",
       "      <td>47955.188111</td>\n",
       "      <td>49749.414746</td>\n",
       "    </tr>\n",
       "    <tr>\n",
       "      <th>unknown</th>\n",
       "      <td>16815.425926</td>\n",
       "      <td>17719.203704</td>\n",
       "      <td>19007.222222</td>\n",
       "      <td>19253.370370</td>\n",
       "      <td>23964.777778</td>\n",
       "      <td>20400.611111</td>\n",
       "    </tr>\n",
       "  </tbody>\n",
       "</table>\n",
       "</div>"
      ],
      "text/plain": [
       "          bill_amt_april  bill_amt_may  bill_amt_june  bill_amt_july  \\\n",
       "marriage                                                               \n",
       "married     40250.686946  41975.121824   44891.819094   48981.229592   \n",
       "other       28582.696594  28269.250774   31230.300310   37212.554180   \n",
       "single      37974.720308  39207.970120   42194.771674   45621.441493   \n",
       "unknown     16815.425926  17719.203704   19007.222222   19253.370370   \n",
       "\n",
       "          bill_amt_aug  bill_amt_sept  \n",
       "marriage                               \n",
       "married   50925.088147   53258.129072  \n",
       "other     40048.777090   43176.012384  \n",
       "single    47955.188111   49749.414746  \n",
       "unknown   23964.777778   20400.611111  "
      ]
     },
     "execution_count": 40,
     "metadata": {},
     "output_type": "execute_result"
    }
   ],
   "source": [
    "df_bill_mar.head()"
   ]
  },
  {
   "cell_type": "code",
   "execution_count": null,
   "metadata": {},
   "outputs": [
    {
     "data": {
      "text/html": [
       "<div>\n",
       "<style scoped>\n",
       "    .dataframe tbody tr th:only-of-type {\n",
       "        vertical-align: middle;\n",
       "    }\n",
       "\n",
       "    .dataframe tbody tr th {\n",
       "        vertical-align: top;\n",
       "    }\n",
       "\n",
       "    .dataframe thead th {\n",
       "        text-align: right;\n",
       "    }\n",
       "</style>\n",
       "<table border=\"1\" class=\"dataframe\">\n",
       "  <thead>\n",
       "    <tr style=\"text-align: right;\">\n",
       "      <th></th>\n",
       "      <th>pay_amt_april</th>\n",
       "      <th>pay_amt_may</th>\n",
       "      <th>pay_amt_june</th>\n",
       "      <th>pay_amt_july</th>\n",
       "      <th>pay_amt_aug</th>\n",
       "      <th>pay_amt_sept</th>\n",
       "    </tr>\n",
       "    <tr>\n",
       "      <th>marriage</th>\n",
       "      <th></th>\n",
       "      <th></th>\n",
       "      <th></th>\n",
       "      <th></th>\n",
       "      <th></th>\n",
       "      <th></th>\n",
       "    </tr>\n",
       "  </thead>\n",
       "  <tbody>\n",
       "    <tr>\n",
       "      <th>married</th>\n",
       "      <td>5331.664836</td>\n",
       "      <td>4836.070503</td>\n",
       "      <td>5075.922469</td>\n",
       "      <td>5328.491983</td>\n",
       "      <td>6205.714401</td>\n",
       "      <td>5789.741562</td>\n",
       "    </tr>\n",
       "    <tr>\n",
       "      <th>other</th>\n",
       "      <td>3408.987616</td>\n",
       "      <td>4563.919505</td>\n",
       "      <td>5121.179567</td>\n",
       "      <td>6150.086687</td>\n",
       "      <td>7865.136223</td>\n",
       "      <td>6910.461300</td>\n",
       "    </tr>\n",
       "    <tr>\n",
       "      <th>single</th>\n",
       "      <td>5162.734340</td>\n",
       "      <td>4781.813581</td>\n",
       "      <td>4612.971185</td>\n",
       "      <td>5123.063518</td>\n",
       "      <td>5648.984465</td>\n",
       "      <td>5523.197194</td>\n",
       "    </tr>\n",
       "    <tr>\n",
       "      <th>unknown</th>\n",
       "      <td>2238.388889</td>\n",
       "      <td>2124.518519</td>\n",
       "      <td>2864.222222</td>\n",
       "      <td>4027.944444</td>\n",
       "      <td>2781.944444</td>\n",
       "      <td>7795.111111</td>\n",
       "    </tr>\n",
       "  </tbody>\n",
       "</table>\n",
       "</div>"
      ],
      "text/plain": [
       "          pay_amt_april  pay_amt_may  pay_amt_june  pay_amt_july  pay_amt_aug  \\\n",
       "marriage                                                                        \n",
       "married     5331.664836  4836.070503   5075.922469   5328.491983  6205.714401   \n",
       "other       3408.987616  4563.919505   5121.179567   6150.086687  7865.136223   \n",
       "single      5162.734340  4781.813581   4612.971185   5123.063518  5648.984465   \n",
       "unknown     2238.388889  2124.518519   2864.222222   4027.944444  2781.944444   \n",
       "\n",
       "          pay_amt_sept  \n",
       "marriage                \n",
       "married    5789.741562  \n",
       "other      6910.461300  \n",
       "single     5523.197194  \n",
       "unknown    7795.111111  "
      ]
     },
     "execution_count": 41,
     "metadata": {},
     "output_type": "execute_result"
    }
   ],
   "source": [
    "df_pay_mar.head()"
   ]
  },
  {
   "cell_type": "code",
   "execution_count": null,
   "metadata": {},
   "outputs": [
    {
     "data": {
      "text/html": [
       "<div>\n",
       "<style scoped>\n",
       "    .dataframe tbody tr th:only-of-type {\n",
       "        vertical-align: middle;\n",
       "    }\n",
       "\n",
       "    .dataframe tbody tr th {\n",
       "        vertical-align: top;\n",
       "    }\n",
       "\n",
       "    .dataframe thead th {\n",
       "        text-align: right;\n",
       "    }\n",
       "</style>\n",
       "<table border=\"1\" class=\"dataframe\">\n",
       "  <thead>\n",
       "    <tr style=\"text-align: right;\">\n",
       "      <th></th>\n",
       "      <th>bill_amt_april</th>\n",
       "      <th>bill_amt_may</th>\n",
       "      <th>bill_amt_june</th>\n",
       "      <th>bill_amt_july</th>\n",
       "      <th>bill_amt_aug</th>\n",
       "      <th>bill_amt_sept</th>\n",
       "    </tr>\n",
       "    <tr>\n",
       "      <th>education</th>\n",
       "      <th></th>\n",
       "      <th></th>\n",
       "      <th></th>\n",
       "      <th></th>\n",
       "      <th></th>\n",
       "      <th></th>\n",
       "    </tr>\n",
       "  </thead>\n",
       "  <tbody>\n",
       "    <tr>\n",
       "      <th>graduate_school</th>\n",
       "      <td>38668.076051</td>\n",
       "      <td>40388.891261</td>\n",
       "      <td>42931.065187</td>\n",
       "      <td>45781.689183</td>\n",
       "      <td>47219.101181</td>\n",
       "      <td>48825.437506</td>\n",
       "    </tr>\n",
       "    <tr>\n",
       "      <th>high_school</th>\n",
       "      <td>34704.597315</td>\n",
       "      <td>35957.469392</td>\n",
       "      <td>38718.582266</td>\n",
       "      <td>43440.916616</td>\n",
       "      <td>45520.299776</td>\n",
       "      <td>47563.546065</td>\n",
       "    </tr>\n",
       "    <tr>\n",
       "      <th>other</th>\n",
       "      <td>32136.130081</td>\n",
       "      <td>33840.113821</td>\n",
       "      <td>39570.268293</td>\n",
       "      <td>44983.804878</td>\n",
       "      <td>47308.967480</td>\n",
       "      <td>54631.902439</td>\n",
       "    </tr>\n",
       "    <tr>\n",
       "      <th>university</th>\n",
       "      <td>40431.943835</td>\n",
       "      <td>41588.566287</td>\n",
       "      <td>44748.779758</td>\n",
       "      <td>48662.161582</td>\n",
       "      <td>51359.611404</td>\n",
       "      <td>53605.533999</td>\n",
       "    </tr>\n",
       "    <tr>\n",
       "      <th>unknown</th>\n",
       "      <td>43466.104348</td>\n",
       "      <td>50355.997101</td>\n",
       "      <td>59105.368116</td>\n",
       "      <td>69372.005797</td>\n",
       "      <td>73450.446377</td>\n",
       "      <td>78861.881159</td>\n",
       "    </tr>\n",
       "  </tbody>\n",
       "</table>\n",
       "</div>"
      ],
      "text/plain": [
       "                 bill_amt_april  bill_amt_may  bill_amt_june  bill_amt_july  \\\n",
       "education                                                                     \n",
       "graduate_school    38668.076051  40388.891261   42931.065187   45781.689183   \n",
       "high_school        34704.597315  35957.469392   38718.582266   43440.916616   \n",
       "other              32136.130081  33840.113821   39570.268293   44983.804878   \n",
       "university         40431.943835  41588.566287   44748.779758   48662.161582   \n",
       "unknown            43466.104348  50355.997101   59105.368116   69372.005797   \n",
       "\n",
       "                 bill_amt_aug  bill_amt_sept  \n",
       "education                                     \n",
       "graduate_school  47219.101181   48825.437506  \n",
       "high_school      45520.299776   47563.546065  \n",
       "other            47308.967480   54631.902439  \n",
       "university       51359.611404   53605.533999  \n",
       "unknown          73450.446377   78861.881159  "
      ]
     },
     "execution_count": 42,
     "metadata": {},
     "output_type": "execute_result"
    }
   ],
   "source": [
    "df_bill_ed.head()"
   ]
  },
  {
   "cell_type": "code",
   "execution_count": null,
   "metadata": {},
   "outputs": [
    {
     "data": {
      "text/html": [
       "<div>\n",
       "<style scoped>\n",
       "    .dataframe tbody tr th:only-of-type {\n",
       "        vertical-align: middle;\n",
       "    }\n",
       "\n",
       "    .dataframe tbody tr th {\n",
       "        vertical-align: top;\n",
       "    }\n",
       "\n",
       "    .dataframe thead th {\n",
       "        text-align: right;\n",
       "    }\n",
       "</style>\n",
       "<table border=\"1\" class=\"dataframe\">\n",
       "  <thead>\n",
       "    <tr style=\"text-align: right;\">\n",
       "      <th></th>\n",
       "      <th>pay_amt_april</th>\n",
       "      <th>pay_amt_may</th>\n",
       "      <th>pay_amt_june</th>\n",
       "      <th>pay_amt_july</th>\n",
       "      <th>pay_amt_aug</th>\n",
       "      <th>pay_amt_sept</th>\n",
       "    </tr>\n",
       "    <tr>\n",
       "      <th>education</th>\n",
       "      <th></th>\n",
       "      <th></th>\n",
       "      <th></th>\n",
       "      <th></th>\n",
       "      <th></th>\n",
       "      <th></th>\n",
       "    </tr>\n",
       "  </thead>\n",
       "  <tbody>\n",
       "    <tr>\n",
       "      <th>graduate_school</th>\n",
       "      <td>6422.554842</td>\n",
       "      <td>5776.562211</td>\n",
       "      <td>5804.565612</td>\n",
       "      <td>6560.585735</td>\n",
       "      <td>7306.622201</td>\n",
       "      <td>6780.933585</td>\n",
       "    </tr>\n",
       "    <tr>\n",
       "      <th>high_school</th>\n",
       "      <td>3825.749034</td>\n",
       "      <td>3599.658938</td>\n",
       "      <td>3992.658532</td>\n",
       "      <td>3964.056742</td>\n",
       "      <td>5053.454139</td>\n",
       "      <td>4866.397397</td>\n",
       "    </tr>\n",
       "    <tr>\n",
       "      <th>other</th>\n",
       "      <td>4284.967480</td>\n",
       "      <td>5991.642276</td>\n",
       "      <td>5104.861789</td>\n",
       "      <td>9990.626016</td>\n",
       "      <td>6555.008130</td>\n",
       "      <td>5450.512195</td>\n",
       "    </tr>\n",
       "    <tr>\n",
       "      <th>university</th>\n",
       "      <td>4716.487028</td>\n",
       "      <td>4452.678689</td>\n",
       "      <td>4375.387313</td>\n",
       "      <td>4556.800000</td>\n",
       "      <td>5106.711333</td>\n",
       "      <td>5080.463293</td>\n",
       "    </tr>\n",
       "    <tr>\n",
       "      <th>unknown</th>\n",
       "      <td>8613.802899</td>\n",
       "      <td>5591.713043</td>\n",
       "      <td>4911.579710</td>\n",
       "      <td>7752.542029</td>\n",
       "      <td>8675.504348</td>\n",
       "      <td>6532.881159</td>\n",
       "    </tr>\n",
       "  </tbody>\n",
       "</table>\n",
       "</div>"
      ],
      "text/plain": [
       "                 pay_amt_april  pay_amt_may  pay_amt_june  pay_amt_july  \\\n",
       "education                                                                 \n",
       "graduate_school    6422.554842  5776.562211   5804.565612   6560.585735   \n",
       "high_school        3825.749034  3599.658938   3992.658532   3964.056742   \n",
       "other              4284.967480  5991.642276   5104.861789   9990.626016   \n",
       "university         4716.487028  4452.678689   4375.387313   4556.800000   \n",
       "unknown            8613.802899  5591.713043   4911.579710   7752.542029   \n",
       "\n",
       "                 pay_amt_aug  pay_amt_sept  \n",
       "education                                   \n",
       "graduate_school  7306.622201   6780.933585  \n",
       "high_school      5053.454139   4866.397397  \n",
       "other            6555.008130   5450.512195  \n",
       "university       5106.711333   5080.463293  \n",
       "unknown          8675.504348   6532.881159  "
      ]
     },
     "execution_count": 43,
     "metadata": {},
     "output_type": "execute_result"
    }
   ],
   "source": [
    "df_pay_ed.head()"
   ]
  },
  {
   "cell_type": "code",
   "execution_count": null,
   "metadata": {},
   "outputs": [
    {
     "data": {
      "text/html": [
       "<div>\n",
       "<style scoped>\n",
       "    .dataframe tbody tr th:only-of-type {\n",
       "        vertical-align: middle;\n",
       "    }\n",
       "\n",
       "    .dataframe tbody tr th {\n",
       "        vertical-align: top;\n",
       "    }\n",
       "\n",
       "    .dataframe thead th {\n",
       "        text-align: right;\n",
       "    }\n",
       "</style>\n",
       "<table border=\"1\" class=\"dataframe\">\n",
       "  <thead>\n",
       "    <tr style=\"text-align: right;\">\n",
       "      <th></th>\n",
       "      <th>bill_amt_april</th>\n",
       "      <th>bill_amt_may</th>\n",
       "      <th>bill_amt_june</th>\n",
       "      <th>bill_amt_july</th>\n",
       "      <th>bill_amt_aug</th>\n",
       "      <th>bill_amt_sept</th>\n",
       "    </tr>\n",
       "    <tr>\n",
       "      <th>age</th>\n",
       "      <th></th>\n",
       "      <th></th>\n",
       "      <th></th>\n",
       "      <th></th>\n",
       "      <th></th>\n",
       "      <th></th>\n",
       "    </tr>\n",
       "  </thead>\n",
       "  <tbody>\n",
       "    <tr>\n",
       "      <th>21</th>\n",
       "      <td>7790.910448</td>\n",
       "      <td>11055.074627</td>\n",
       "      <td>12768.373134</td>\n",
       "      <td>14515.701493</td>\n",
       "      <td>16066.343284</td>\n",
       "      <td>16961.567164</td>\n",
       "    </tr>\n",
       "    <tr>\n",
       "      <th>22</th>\n",
       "      <td>15539.044643</td>\n",
       "      <td>16932.230357</td>\n",
       "      <td>19718.173214</td>\n",
       "      <td>22515.450000</td>\n",
       "      <td>23766.019643</td>\n",
       "      <td>24176.146429</td>\n",
       "    </tr>\n",
       "    <tr>\n",
       "      <th>23</th>\n",
       "      <td>21363.386681</td>\n",
       "      <td>22221.128894</td>\n",
       "      <td>23830.878625</td>\n",
       "      <td>26876.412460</td>\n",
       "      <td>28782.442535</td>\n",
       "      <td>29910.552095</td>\n",
       "    </tr>\n",
       "    <tr>\n",
       "      <th>24</th>\n",
       "      <td>25660.377107</td>\n",
       "      <td>26043.818101</td>\n",
       "      <td>27955.181899</td>\n",
       "      <td>31003.772848</td>\n",
       "      <td>32483.512866</td>\n",
       "      <td>33747.833185</td>\n",
       "    </tr>\n",
       "    <tr>\n",
       "      <th>25</th>\n",
       "      <td>30657.220067</td>\n",
       "      <td>31979.716695</td>\n",
       "      <td>34916.935919</td>\n",
       "      <td>38327.632378</td>\n",
       "      <td>40695.341484</td>\n",
       "      <td>41777.456998</td>\n",
       "    </tr>\n",
       "  </tbody>\n",
       "</table>\n",
       "</div>"
      ],
      "text/plain": [
       "     bill_amt_april  bill_amt_may  bill_amt_june  bill_amt_july  bill_amt_aug  \\\n",
       "age                                                                             \n",
       "21      7790.910448  11055.074627   12768.373134   14515.701493  16066.343284   \n",
       "22     15539.044643  16932.230357   19718.173214   22515.450000  23766.019643   \n",
       "23     21363.386681  22221.128894   23830.878625   26876.412460  28782.442535   \n",
       "24     25660.377107  26043.818101   27955.181899   31003.772848  32483.512866   \n",
       "25     30657.220067  31979.716695   34916.935919   38327.632378  40695.341484   \n",
       "\n",
       "     bill_amt_sept  \n",
       "age                 \n",
       "21    16961.567164  \n",
       "22    24176.146429  \n",
       "23    29910.552095  \n",
       "24    33747.833185  \n",
       "25    41777.456998  "
      ]
     },
     "execution_count": 44,
     "metadata": {},
     "output_type": "execute_result"
    }
   ],
   "source": [
    "df_bill_age.head()"
   ]
  },
  {
   "cell_type": "code",
   "execution_count": null,
   "metadata": {},
   "outputs": [
    {
     "data": {
      "text/html": [
       "<div>\n",
       "<style scoped>\n",
       "    .dataframe tbody tr th:only-of-type {\n",
       "        vertical-align: middle;\n",
       "    }\n",
       "\n",
       "    .dataframe tbody tr th {\n",
       "        vertical-align: top;\n",
       "    }\n",
       "\n",
       "    .dataframe thead th {\n",
       "        text-align: right;\n",
       "    }\n",
       "</style>\n",
       "<table border=\"1\" class=\"dataframe\">\n",
       "  <thead>\n",
       "    <tr style=\"text-align: right;\">\n",
       "      <th></th>\n",
       "      <th>pay_amt_april</th>\n",
       "      <th>pay_amt_may</th>\n",
       "      <th>pay_amt_june</th>\n",
       "      <th>pay_amt_july</th>\n",
       "      <th>pay_amt_aug</th>\n",
       "      <th>pay_amt_sept</th>\n",
       "    </tr>\n",
       "    <tr>\n",
       "      <th>age</th>\n",
       "      <th></th>\n",
       "      <th></th>\n",
       "      <th></th>\n",
       "      <th></th>\n",
       "      <th></th>\n",
       "      <th></th>\n",
       "    </tr>\n",
       "  </thead>\n",
       "  <tbody>\n",
       "    <tr>\n",
       "      <th>21</th>\n",
       "      <td>568.208955</td>\n",
       "      <td>827.656716</td>\n",
       "      <td>1381.865672</td>\n",
       "      <td>1179.865672</td>\n",
       "      <td>1749.716418</td>\n",
       "      <td>2085.776119</td>\n",
       "    </tr>\n",
       "    <tr>\n",
       "      <th>22</th>\n",
       "      <td>1542.930357</td>\n",
       "      <td>1661.521429</td>\n",
       "      <td>1743.666071</td>\n",
       "      <td>1845.053571</td>\n",
       "      <td>2408.187500</td>\n",
       "      <td>2369.537500</td>\n",
       "    </tr>\n",
       "    <tr>\n",
       "      <th>23</th>\n",
       "      <td>2668.021482</td>\n",
       "      <td>2278.273899</td>\n",
       "      <td>2633.437164</td>\n",
       "      <td>2833.618690</td>\n",
       "      <td>3167.992481</td>\n",
       "      <td>3239.650913</td>\n",
       "    </tr>\n",
       "    <tr>\n",
       "      <th>24</th>\n",
       "      <td>2745.241349</td>\n",
       "      <td>2987.842946</td>\n",
       "      <td>2734.072760</td>\n",
       "      <td>2667.676131</td>\n",
       "      <td>3456.996451</td>\n",
       "      <td>3437.509317</td>\n",
       "    </tr>\n",
       "    <tr>\n",
       "      <th>25</th>\n",
       "      <td>3636.136594</td>\n",
       "      <td>2949.698988</td>\n",
       "      <td>3640.538786</td>\n",
       "      <td>3363.674536</td>\n",
       "      <td>3721.000000</td>\n",
       "      <td>4711.833895</td>\n",
       "    </tr>\n",
       "  </tbody>\n",
       "</table>\n",
       "</div>"
      ],
      "text/plain": [
       "     pay_amt_april  pay_amt_may  pay_amt_june  pay_amt_july  pay_amt_aug  \\\n",
       "age                                                                        \n",
       "21      568.208955   827.656716   1381.865672   1179.865672  1749.716418   \n",
       "22     1542.930357  1661.521429   1743.666071   1845.053571  2408.187500   \n",
       "23     2668.021482  2278.273899   2633.437164   2833.618690  3167.992481   \n",
       "24     2745.241349  2987.842946   2734.072760   2667.676131  3456.996451   \n",
       "25     3636.136594  2949.698988   3640.538786   3363.674536  3721.000000   \n",
       "\n",
       "     pay_amt_sept  \n",
       "age                \n",
       "21    2085.776119  \n",
       "22    2369.537500  \n",
       "23    3239.650913  \n",
       "24    3437.509317  \n",
       "25    4711.833895  "
      ]
     },
     "execution_count": 45,
     "metadata": {},
     "output_type": "execute_result"
    }
   ],
   "source": [
    "df_pay_age.head()"
   ]
  },
  {
   "cell_type": "code",
   "execution_count": null,
   "metadata": {},
   "outputs": [
    {
     "data": {
      "image/png": "[encoded data removed]",
      "text/plain": [
       "<Figure size 1800x1080 with 2 Axes>"
      ]
     },
     "metadata": {},
     "output_type": "display_data"
    }
   ],
   "source": [
    "df_credit_corr=df_credit.corr()\n",
    "fig, ax = plt.subplots(figsize=(25,15))\n",
    "sb.heatmap(df_credit_corr,annot=True,cmap=\"coolwarm\" , ax=ax);"
   ]
  },
  {
   "cell_type": "code",
   "execution_count": null,
   "metadata": {},
   "outputs": [],
   "source": [
    "df_credit_num=df_credit.select_dtypes('number') # to create a dataframe with numeric variables"
   ]
  },
  {
   "cell_type": "code",
   "execution_count": null,
   "metadata": {},
   "outputs": [],
   "source": [
    "threshold=0.75\n",
    "columns = np.full((df_credit_corr.shape[0],), True, dtype=bool)\n",
    "for i in range(df_credit_corr.shape[0]):\n",
    "    for j in range(i+1, df_credit_corr.shape[0]):\n",
    "        if df_credit_corr.iloc[i,j] >= threshold:\n",
    "            if columns[j]:\n",
    "                columns[j] = False\n",
    "selected_columns = df_credit_num.columns[columns]\n",
    "selected_columns\n",
    "df_credit_num = df_credit_num[selected_columns]"
   ]
  },
  {
   "cell_type": "code",
   "execution_count": null,
   "metadata": {},
   "outputs": [
    {
     "data": {
      "text/html": [
       "<div>\n",
       "<style scoped>\n",
       "    .dataframe tbody tr th:only-of-type {\n",
       "        vertical-align: middle;\n",
       "    }\n",
       "\n",
       "    .dataframe tbody tr th {\n",
       "        vertical-align: top;\n",
       "    }\n",
       "\n",
       "    .dataframe thead th {\n",
       "        text-align: right;\n",
       "    }\n",
       "</style>\n",
       "<table border=\"1\" class=\"dataframe\">\n",
       "  <thead>\n",
       "    <tr style=\"text-align: right;\">\n",
       "      <th></th>\n",
       "      <th>limit_bal</th>\n",
       "      <th>age</th>\n",
       "      <th>repay_sept</th>\n",
       "      <th>repay_aug</th>\n",
       "      <th>bill_amt_sept</th>\n",
       "      <th>pay_amt_sept</th>\n",
       "      <th>pay_amt_aug</th>\n",
       "      <th>pay_amt_july</th>\n",
       "      <th>pay_amt_june</th>\n",
       "      <th>pay_amt_may</th>\n",
       "      <th>pay_amt_april</th>\n",
       "    </tr>\n",
       "    <tr>\n",
       "      <th>id</th>\n",
       "      <th></th>\n",
       "      <th></th>\n",
       "      <th></th>\n",
       "      <th></th>\n",
       "      <th></th>\n",
       "      <th></th>\n",
       "      <th></th>\n",
       "      <th></th>\n",
       "      <th></th>\n",
       "      <th></th>\n",
       "      <th></th>\n",
       "    </tr>\n",
       "  </thead>\n",
       "  <tbody>\n",
       "    <tr>\n",
       "      <th>1</th>\n",
       "      <td>20000</td>\n",
       "      <td>24</td>\n",
       "      <td>2</td>\n",
       "      <td>2</td>\n",
       "      <td>3913</td>\n",
       "      <td>0</td>\n",
       "      <td>689</td>\n",
       "      <td>0</td>\n",
       "      <td>0</td>\n",
       "      <td>0</td>\n",
       "      <td>0</td>\n",
       "    </tr>\n",
       "    <tr>\n",
       "      <th>2</th>\n",
       "      <td>120000</td>\n",
       "      <td>26</td>\n",
       "      <td>-1</td>\n",
       "      <td>2</td>\n",
       "      <td>2682</td>\n",
       "      <td>0</td>\n",
       "      <td>1000</td>\n",
       "      <td>1000</td>\n",
       "      <td>1000</td>\n",
       "      <td>0</td>\n",
       "      <td>2000</td>\n",
       "    </tr>\n",
       "    <tr>\n",
       "      <th>3</th>\n",
       "      <td>90000</td>\n",
       "      <td>34</td>\n",
       "      <td>0</td>\n",
       "      <td>0</td>\n",
       "      <td>29239</td>\n",
       "      <td>1518</td>\n",
       "      <td>1500</td>\n",
       "      <td>1000</td>\n",
       "      <td>1000</td>\n",
       "      <td>1000</td>\n",
       "      <td>5000</td>\n",
       "    </tr>\n",
       "    <tr>\n",
       "      <th>4</th>\n",
       "      <td>50000</td>\n",
       "      <td>37</td>\n",
       "      <td>0</td>\n",
       "      <td>0</td>\n",
       "      <td>46990</td>\n",
       "      <td>2000</td>\n",
       "      <td>2019</td>\n",
       "      <td>1200</td>\n",
       "      <td>1100</td>\n",
       "      <td>1069</td>\n",
       "      <td>1000</td>\n",
       "    </tr>\n",
       "    <tr>\n",
       "      <th>5</th>\n",
       "      <td>50000</td>\n",
       "      <td>57</td>\n",
       "      <td>-1</td>\n",
       "      <td>0</td>\n",
       "      <td>8617</td>\n",
       "      <td>2000</td>\n",
       "      <td>36681</td>\n",
       "      <td>10000</td>\n",
       "      <td>9000</td>\n",
       "      <td>689</td>\n",
       "      <td>679</td>\n",
       "    </tr>\n",
       "  </tbody>\n",
       "</table>\n",
       "</div>"
      ],
      "text/plain": [
       "    limit_bal  age  repay_sept  repay_aug  bill_amt_sept  pay_amt_sept  \\\n",
       "id                                                                       \n",
       "1       20000   24           2          2           3913             0   \n",
       "2      120000   26          -1          2           2682             0   \n",
       "3       90000   34           0          0          29239          1518   \n",
       "4       50000   37           0          0          46990          2000   \n",
       "5       50000   57          -1          0           8617          2000   \n",
       "\n",
       "    pay_amt_aug  pay_amt_july  pay_amt_june  pay_amt_may  pay_amt_april  \n",
       "id                                                                       \n",
       "1           689             0             0            0              0  \n",
       "2          1000          1000          1000            0           2000  \n",
       "3          1500          1000          1000         1000           5000  \n",
       "4          2019          1200          1100         1069           1000  \n",
       "5         36681         10000          9000          689            679  "
      ]
     },
     "execution_count": 49,
     "metadata": {},
     "output_type": "execute_result"
    }
   ],
   "source": [
    "df_credit_num.head()"
   ]
  },
  {
   "cell_type": "markdown",
   "metadata": {},
   "source": [
    "In order to be able to calculate the diference between the **bill_amt** columns and the **pay_amt** we are going to create a column with the sum of the for each category (*bill_amt_sum* and *pay_amt_sum*) and then we are going to calculate the difference (*bill_amt_tot-pay_amt_tot*). This way, we will be able to quantify the impact of a bad prediciction when not coceding a credit (that would have been paid) or when conceding a credit (that will not be paid)."
   ]
  },
  {
   "cell_type": "code",
   "execution_count": null,
   "metadata": {},
   "outputs": [],
   "source": [
    "df_credit_bill_pay=pd.DataFrame()\n",
    "df_credit_bill_pay['bill_amt_sum']=df_credit['bill_amt_sept']+df_credit['bill_amt_aug']+df_credit['bill_amt_july']+df_credit['bill_amt_june']+df_credit['bill_amt_may']+df_credit['bill_amt_april']"
   ]
  },
  {
   "cell_type": "code",
   "execution_count": null,
   "metadata": {},
   "outputs": [],
   "source": [
    "df_credit_bill_pay['pay_amt_sum']=df_credit['pay_amt_sept']+df_credit['pay_amt_aug']+df_credit['pay_amt_july']+df_credit['pay_amt_june']+df_credit['pay_amt_may']+df_credit['pay_amt_april']"
   ]
  },
  {
   "cell_type": "code",
   "execution_count": null,
   "metadata": {},
   "outputs": [],
   "source": [
    "df_credit_bill_pay['bill_pay_diff']=df_credit_bill_pay['bill_amt_sum']-df_credit_bill_pay['pay_amt_sum']"
   ]
  },
  {
   "cell_type": "code",
   "execution_count": null,
   "metadata": {},
   "outputs": [],
   "source": [
    "df_credit_bill_pay.drop(columns=['bill_amt_sum', 'pay_amt_sum'],inplace=True)"
   ]
  },
  {
   "cell_type": "code",
   "execution_count": null,
   "metadata": {},
   "outputs": [
    {
     "data": {
      "text/html": [
       "<div>\n",
       "<style scoped>\n",
       "    .dataframe tbody tr th:only-of-type {\n",
       "        vertical-align: middle;\n",
       "    }\n",
       "\n",
       "    .dataframe tbody tr th {\n",
       "        vertical-align: top;\n",
       "    }\n",
       "\n",
       "    .dataframe thead th {\n",
       "        text-align: right;\n",
       "    }\n",
       "</style>\n",
       "<table border=\"1\" class=\"dataframe\">\n",
       "  <thead>\n",
       "    <tr style=\"text-align: right;\">\n",
       "      <th></th>\n",
       "      <th>bill_pay_diff</th>\n",
       "    </tr>\n",
       "    <tr>\n",
       "      <th>id</th>\n",
       "      <th></th>\n",
       "    </tr>\n",
       "  </thead>\n",
       "  <tbody>\n",
       "    <tr>\n",
       "      <th>1</th>\n",
       "      <td>7015</td>\n",
       "    </tr>\n",
       "    <tr>\n",
       "      <th>2</th>\n",
       "      <td>12077</td>\n",
       "    </tr>\n",
       "  </tbody>\n",
       "</table>\n",
       "</div>"
      ],
      "text/plain": [
       "    bill_pay_diff\n",
       "id               \n",
       "1            7015\n",
       "2           12077"
      ]
     },
     "execution_count": 54,
     "metadata": {},
     "output_type": "execute_result"
    }
   ],
   "source": [
    "df_credit_bill_pay.head(2) # With the calculated values, we are going to calculate the impact of the mistakes of the model in\n",
    "# profits of the bank."
   ]
  },
  {
   "cell_type": "code",
   "execution_count": null,
   "metadata": {},
   "outputs": [],
   "source": [
    "df_credit_cat_targ=df_credit.select_dtypes('object') # to build a dataframe with the categoricals\n",
    "df_credit_cat=df_credit_cat_targ.drop(columns=['age_cat','dpnm'])"
   ]
  },
  {
   "cell_type": "markdown",
   "metadata": {},
   "source": [
    "* Next we will have to standarize the numeric variables."
   ]
  },
  {
   "cell_type": "code",
   "execution_count": null,
   "metadata": {},
   "outputs": [],
   "source": [
    "scaler=StandardScaler()\n",
    "scaled=scaler.fit_transform(df_credit_num)\n",
    "df_cred_num_st=pd.DataFrame(scaled,columns=df_credit_num.columns)\n",
    "filename = 'scaled_model.sav'\n",
    "pickle.dump(scaled, open(filename, 'wb'))"
   ]
  },
  {
   "cell_type": "code",
   "execution_count": null,
   "metadata": {},
   "outputs": [
    {
     "data": {
      "text/html": [
       "<div>\n",
       "<style scoped>\n",
       "    .dataframe tbody tr th:only-of-type {\n",
       "        vertical-align: middle;\n",
       "    }\n",
       "\n",
       "    .dataframe tbody tr th {\n",
       "        vertical-align: top;\n",
       "    }\n",
       "\n",
       "    .dataframe thead th {\n",
       "        text-align: right;\n",
       "    }\n",
       "</style>\n",
       "<table border=\"1\" class=\"dataframe\">\n",
       "  <thead>\n",
       "    <tr style=\"text-align: right;\">\n",
       "      <th></th>\n",
       "      <th>limit_bal</th>\n",
       "      <th>age</th>\n",
       "      <th>repay_sept</th>\n",
       "      <th>repay_aug</th>\n",
       "      <th>bill_amt_sept</th>\n",
       "      <th>pay_amt_sept</th>\n",
       "      <th>pay_amt_aug</th>\n",
       "      <th>pay_amt_july</th>\n",
       "      <th>pay_amt_june</th>\n",
       "      <th>pay_amt_may</th>\n",
       "      <th>pay_amt_april</th>\n",
       "    </tr>\n",
       "  </thead>\n",
       "  <tbody>\n",
       "    <tr>\n",
       "      <th>0</th>\n",
       "      <td>-1.136720</td>\n",
       "      <td>-1.246020</td>\n",
       "      <td>1.794564</td>\n",
       "      <td>1.782348</td>\n",
       "      <td>-0.642501</td>\n",
       "      <td>-0.341942</td>\n",
       "      <td>-0.227086</td>\n",
       "      <td>-0.296801</td>\n",
       "      <td>-0.308063</td>\n",
       "      <td>-0.314136</td>\n",
       "      <td>-0.293382</td>\n",
       "    </tr>\n",
       "    <tr>\n",
       "      <th>1</th>\n",
       "      <td>-0.365981</td>\n",
       "      <td>-1.029047</td>\n",
       "      <td>-0.874991</td>\n",
       "      <td>1.782348</td>\n",
       "      <td>-0.659219</td>\n",
       "      <td>-0.341942</td>\n",
       "      <td>-0.213588</td>\n",
       "      <td>-0.240005</td>\n",
       "      <td>-0.244230</td>\n",
       "      <td>-0.314136</td>\n",
       "      <td>-0.180878</td>\n",
       "    </tr>\n",
       "  </tbody>\n",
       "</table>\n",
       "</div>"
      ],
      "text/plain": [
       "   limit_bal       age  repay_sept  repay_aug  bill_amt_sept  pay_amt_sept  \\\n",
       "0  -1.136720 -1.246020    1.794564   1.782348      -0.642501     -0.341942   \n",
       "1  -0.365981 -1.029047   -0.874991   1.782348      -0.659219     -0.341942   \n",
       "\n",
       "   pay_amt_aug  pay_amt_july  pay_amt_june  pay_amt_may  pay_amt_april  \n",
       "0    -0.227086     -0.296801     -0.308063    -0.314136      -0.293382  \n",
       "1    -0.213588     -0.240005     -0.244230    -0.314136      -0.180878  "
      ]
     },
     "execution_count": 57,
     "metadata": {},
     "output_type": "execute_result"
    }
   ],
   "source": [
    "df_cred_num_st.head(2)"
   ]
  },
  {
   "cell_type": "markdown",
   "metadata": {},
   "source": [
    "* Now we are going to encode the categorical variables"
   ]
  },
  {
   "cell_type": "code",
   "execution_count": null,
   "metadata": {},
   "outputs": [],
   "source": [
    "encoder=OneHotEncoder(handle_unknown='error', drop='first')\n",
    "encoder1=encoder.fit(df_credit_cat)\n",
    "encoded = encoder1.transform(df_credit_cat).toarray()\n",
    "\n",
    "filename = 'encoder_model.sav'\n",
    "pickle.dump(encoded, open(filename, 'wb'))"
   ]
  },
  {
   "cell_type": "code",
   "execution_count": null,
   "metadata": {},
   "outputs": [
    {
     "data": {
      "text/html": [
       "<div>\n",
       "<style scoped>\n",
       "    .dataframe tbody tr th:only-of-type {\n",
       "        vertical-align: middle;\n",
       "    }\n",
       "\n",
       "    .dataframe tbody tr th {\n",
       "        vertical-align: top;\n",
       "    }\n",
       "\n",
       "    .dataframe thead th {\n",
       "        text-align: right;\n",
       "    }\n",
       "</style>\n",
       "<table border=\"1\" class=\"dataframe\">\n",
       "  <thead>\n",
       "    <tr style=\"text-align: right;\">\n",
       "      <th></th>\n",
       "      <th>sex</th>\n",
       "      <th>education</th>\n",
       "      <th>marriage</th>\n",
       "    </tr>\n",
       "    <tr>\n",
       "      <th>id</th>\n",
       "      <th></th>\n",
       "      <th></th>\n",
       "      <th></th>\n",
       "    </tr>\n",
       "  </thead>\n",
       "  <tbody>\n",
       "    <tr>\n",
       "      <th>1</th>\n",
       "      <td>female</td>\n",
       "      <td>university</td>\n",
       "      <td>married</td>\n",
       "    </tr>\n",
       "    <tr>\n",
       "      <th>2</th>\n",
       "      <td>female</td>\n",
       "      <td>university</td>\n",
       "      <td>single</td>\n",
       "    </tr>\n",
       "    <tr>\n",
       "      <th>3</th>\n",
       "      <td>female</td>\n",
       "      <td>university</td>\n",
       "      <td>single</td>\n",
       "    </tr>\n",
       "    <tr>\n",
       "      <th>4</th>\n",
       "      <td>female</td>\n",
       "      <td>university</td>\n",
       "      <td>married</td>\n",
       "    </tr>\n",
       "    <tr>\n",
       "      <th>5</th>\n",
       "      <td>male</td>\n",
       "      <td>university</td>\n",
       "      <td>married</td>\n",
       "    </tr>\n",
       "    <tr>\n",
       "      <th>...</th>\n",
       "      <td>...</td>\n",
       "      <td>...</td>\n",
       "      <td>...</td>\n",
       "    </tr>\n",
       "    <tr>\n",
       "      <th>29996</th>\n",
       "      <td>male</td>\n",
       "      <td>high_school</td>\n",
       "      <td>married</td>\n",
       "    </tr>\n",
       "    <tr>\n",
       "      <th>29997</th>\n",
       "      <td>male</td>\n",
       "      <td>high_school</td>\n",
       "      <td>single</td>\n",
       "    </tr>\n",
       "    <tr>\n",
       "      <th>29998</th>\n",
       "      <td>male</td>\n",
       "      <td>university</td>\n",
       "      <td>single</td>\n",
       "    </tr>\n",
       "    <tr>\n",
       "      <th>29999</th>\n",
       "      <td>male</td>\n",
       "      <td>high_school</td>\n",
       "      <td>married</td>\n",
       "    </tr>\n",
       "    <tr>\n",
       "      <th>30000</th>\n",
       "      <td>male</td>\n",
       "      <td>university</td>\n",
       "      <td>married</td>\n",
       "    </tr>\n",
       "  </tbody>\n",
       "</table>\n",
       "<p>30000 rows × 3 columns</p>\n",
       "</div>"
      ],
      "text/plain": [
       "          sex    education marriage\n",
       "id                                 \n",
       "1      female   university  married\n",
       "2      female   university   single\n",
       "3      female   university   single\n",
       "4      female   university  married\n",
       "5        male   university  married\n",
       "...       ...          ...      ...\n",
       "29996    male  high_school  married\n",
       "29997    male  high_school   single\n",
       "29998    male   university   single\n",
       "29999    male  high_school  married\n",
       "30000    male   university  married\n",
       "\n",
       "[30000 rows x 3 columns]"
      ]
     },
     "execution_count": 59,
     "metadata": {},
     "output_type": "execute_result"
    }
   ],
   "source": [
    "df_credit_cat"
   ]
  },
  {
   "cell_type": "code",
   "execution_count": null,
   "metadata": {},
   "outputs": [],
   "source": [
    "X=np.concatenate([df_cred_num_st,encoded], axis=1)\n",
    "y=df_credit['dpnm']"
   ]
  },
  {
   "cell_type": "code",
   "execution_count": null,
   "metadata": {},
   "outputs": [],
   "source": [
    "X_train, X_test, y_train, y_test = train_test_split(X, y, test_size=0.3, random_state=42)"
   ]
  },
  {
   "cell_type": "code",
   "execution_count": null,
   "metadata": {},
   "outputs": [
    {
     "data": {
      "text/html": [
       "<div>\n",
       "<style scoped>\n",
       "    .dataframe tbody tr th:only-of-type {\n",
       "        vertical-align: middle;\n",
       "    }\n",
       "\n",
       "    .dataframe tbody tr th {\n",
       "        vertical-align: top;\n",
       "    }\n",
       "\n",
       "    .dataframe thead th {\n",
       "        text-align: right;\n",
       "    }\n",
       "</style>\n",
       "<table border=\"1\" class=\"dataframe\">\n",
       "  <thead>\n",
       "    <tr style=\"text-align: right;\">\n",
       "      <th></th>\n",
       "      <th>id</th>\n",
       "      <th>dpnm</th>\n",
       "    </tr>\n",
       "  </thead>\n",
       "  <tbody>\n",
       "    <tr>\n",
       "      <th>0</th>\n",
       "      <td>2309</td>\n",
       "      <td>no</td>\n",
       "    </tr>\n",
       "    <tr>\n",
       "      <th>1</th>\n",
       "      <td>22405</td>\n",
       "      <td>no</td>\n",
       "    </tr>\n",
       "    <tr>\n",
       "      <th>2</th>\n",
       "      <td>23398</td>\n",
       "      <td>no</td>\n",
       "    </tr>\n",
       "    <tr>\n",
       "      <th>3</th>\n",
       "      <td>25059</td>\n",
       "      <td>no</td>\n",
       "    </tr>\n",
       "    <tr>\n",
       "      <th>4</th>\n",
       "      <td>2665</td>\n",
       "      <td>yes</td>\n",
       "    </tr>\n",
       "  </tbody>\n",
       "</table>\n",
       "</div>"
      ],
      "text/plain": [
       "      id dpnm\n",
       "0   2309   no\n",
       "1  22405   no\n",
       "2  23398   no\n",
       "3  25059   no\n",
       "4   2665  yes"
      ]
     },
     "execution_count": 62,
     "metadata": {},
     "output_type": "execute_result"
    }
   ],
   "source": [
    "y_test_calculate=y_test.reset_index()\n",
    "y_test_calculate.head() "
   ]
  },
  {
   "cell_type": "code",
   "execution_count": null,
   "metadata": {},
   "outputs": [
    {
     "data": {
      "text/html": [
       "<div>\n",
       "<style scoped>\n",
       "    .dataframe tbody tr th:only-of-type {\n",
       "        vertical-align: middle;\n",
       "    }\n",
       "\n",
       "    .dataframe tbody tr th {\n",
       "        vertical-align: top;\n",
       "    }\n",
       "\n",
       "    .dataframe thead th {\n",
       "        text-align: right;\n",
       "    }\n",
       "</style>\n",
       "<table border=\"1\" class=\"dataframe\">\n",
       "  <thead>\n",
       "    <tr style=\"text-align: right;\">\n",
       "      <th></th>\n",
       "      <th>id</th>\n",
       "      <th>bill_pay_diff</th>\n",
       "    </tr>\n",
       "  </thead>\n",
       "  <tbody>\n",
       "    <tr>\n",
       "      <th>0</th>\n",
       "      <td>1</td>\n",
       "      <td>7015</td>\n",
       "    </tr>\n",
       "    <tr>\n",
       "      <th>1</th>\n",
       "      <td>2</td>\n",
       "      <td>12077</td>\n",
       "    </tr>\n",
       "    <tr>\n",
       "      <th>2</th>\n",
       "      <td>3</td>\n",
       "      <td>90635</td>\n",
       "    </tr>\n",
       "    <tr>\n",
       "      <th>3</th>\n",
       "      <td>4</td>\n",
       "      <td>222946</td>\n",
       "    </tr>\n",
       "    <tr>\n",
       "      <th>4</th>\n",
       "      <td>5</td>\n",
       "      <td>50290</td>\n",
       "    </tr>\n",
       "  </tbody>\n",
       "</table>\n",
       "</div>"
      ],
      "text/plain": [
       "   id  bill_pay_diff\n",
       "0   1           7015\n",
       "1   2          12077\n",
       "2   3          90635\n",
       "3   4         222946\n",
       "4   5          50290"
      ]
     },
     "execution_count": 63,
     "metadata": {},
     "output_type": "execute_result"
    }
   ],
   "source": [
    "keep_cols=['id','bill_pay_diff']\n",
    "df_credit_bill_pay.reset_index(inplace=True)\n",
    "df_credit_bill_pay=df_credit_bill_pay[keep_cols]\n",
    "df_credit_bill_pay.head()"
   ]
  },
  {
   "cell_type": "code",
   "execution_count": null,
   "metadata": {},
   "outputs": [],
   "source": [
    "df_bill_pay_test = pd.merge(df_credit_bill_pay, y_test_calculate, on='id', how='inner') "
   ]
  },
  {
   "cell_type": "code",
   "execution_count": null,
   "metadata": {},
   "outputs": [
    {
     "data": {
      "text/plain": [
       "(9000, 3)"
      ]
     },
     "execution_count": 65,
     "metadata": {},
     "output_type": "execute_result"
    }
   ],
   "source": [
    "df_bill_pay_test.shape"
   ]
  },
  {
   "cell_type": "code",
   "execution_count": null,
   "metadata": {},
   "outputs": [
    {
     "data": {
      "text/html": [
       "<div>\n",
       "<style scoped>\n",
       "    .dataframe tbody tr th:only-of-type {\n",
       "        vertical-align: middle;\n",
       "    }\n",
       "\n",
       "    .dataframe tbody tr th {\n",
       "        vertical-align: top;\n",
       "    }\n",
       "\n",
       "    .dataframe thead th {\n",
       "        text-align: right;\n",
       "    }\n",
       "</style>\n",
       "<table border=\"1\" class=\"dataframe\">\n",
       "  <thead>\n",
       "    <tr style=\"text-align: right;\">\n",
       "      <th></th>\n",
       "      <th>id</th>\n",
       "      <th>bill_pay_diff</th>\n",
       "      <th>dpnm</th>\n",
       "    </tr>\n",
       "  </thead>\n",
       "  <tbody>\n",
       "    <tr>\n",
       "      <th>0</th>\n",
       "      <td>4</td>\n",
       "      <td>222946</td>\n",
       "      <td>no</td>\n",
       "    </tr>\n",
       "    <tr>\n",
       "      <th>1</th>\n",
       "      <td>7</td>\n",
       "      <td>2543836</td>\n",
       "      <td>no</td>\n",
       "    </tr>\n",
       "    <tr>\n",
       "      <th>2</th>\n",
       "      <td>8</td>\n",
       "      <td>8695</td>\n",
       "      <td>no</td>\n",
       "    </tr>\n",
       "    <tr>\n",
       "      <th>3</th>\n",
       "      <td>18</td>\n",
       "      <td>604117</td>\n",
       "      <td>no</td>\n",
       "    </tr>\n",
       "    <tr>\n",
       "      <th>4</th>\n",
       "      <td>24</td>\n",
       "      <td>4376</td>\n",
       "      <td>yes</td>\n",
       "    </tr>\n",
       "  </tbody>\n",
       "</table>\n",
       "</div>"
      ],
      "text/plain": [
       "   id  bill_pay_diff dpnm\n",
       "0   4         222946   no\n",
       "1   7        2543836   no\n",
       "2   8           8695   no\n",
       "3  18         604117   no\n",
       "4  24           4376  yes"
      ]
     },
     "execution_count": 66,
     "metadata": {},
     "output_type": "execute_result"
    }
   ],
   "source": [
    "df_bill_pay_test.head()"
   ]
  },
  {
   "cell_type": "markdown",
   "metadata": {},
   "source": [
    "* **We have created a dataframe with the y_test (target variable) and the amount of money we have assigned to each occurence in order to be able to measure/quantify the consequence of a good and a bad prediction.**\n",
    "\n",
    "Next thing, will be to compare the target variable column (**dpnm**) with the predicted value in every model."
   ]
  },
  {
   "cell_type": "markdown",
   "metadata": {},
   "source": [
    "### Balancing data: SMOTE ant Tomek Links\n",
    "* As the data is imbalanced (22,1% \"yes\" and 77,9% \"no\") we are going to upsample the date by using Synthetic Minority Oversampling Technique (SMOTE), which will add  new points between existing points based on nearest neighbors. Additionally, we are going to use the Tomek Links undersampling method in order to check with which we get better results."
   ]
  },
  {
   "cell_type": "code",
   "execution_count": null,
   "metadata": {},
   "outputs": [],
   "source": [
    "smote=SMOTE()"
   ]
  },
  {
   "cell_type": "code",
   "execution_count": null,
   "metadata": {},
   "outputs": [],
   "source": [
    "def get_true_false(y_true, y_pred):\n",
    "\n",
    "\n",
    "    tp = np.sum(np.logical_and(y_pred == 'yes', y_true == 'yes'))\n",
    "    tn = np.sum(np.logical_and(y_pred == 'no', y_true == 'no'))\n",
    "    fp = np.sum(np.logical_and(y_pred == 'yes', y_true == 'no'))\n",
    "    fn = np.sum(np.logical_and(y_pred == 'no', y_true == 'yes'))\n",
    "    \n",
    "    print (\"The amount of true positives is: {}.\".format(tp))\n",
    "    print (\"The amount of true negatives is: {}.\".format(tn))\n",
    "    print (\"The amount of false positives is: {}.\".format(fp))\n",
    "    print (\"The amount of false negatives is: {}.\".format(fn))\n",
    "           "
   ]
  },
  {
   "cell_type": "code",
   "execution_count": null,
   "metadata": {},
   "outputs": [
    {
     "data": {
      "text/plain": [
       "no     16324\n",
       "yes    16324\n",
       "Name: dpnm, dtype: int64"
      ]
     },
     "execution_count": 69,
     "metadata": {},
     "output_type": "execute_result"
    }
   ],
   "source": [
    "X_train_sm, y_train_sm = smote.fit_resample(X_train, y_train)\n",
    "y_train_sm.value_counts()"
   ]
  },
  {
   "cell_type": "markdown",
   "metadata": {},
   "source": [
    "* The next step will be to calculate the metrics using the Logistic Regression model."
   ]
  },
  {
   "cell_type": "code",
   "execution_count": null,
   "metadata": {},
   "outputs": [
    {
     "name": "stdout",
     "output_type": "stream",
     "text": [
      "              precision    recall  f1-score   support\n",
      "\n",
      "          no       0.88      0.69      0.77      7040\n",
      "         yes       0.37      0.65      0.47      1960\n",
      "\n",
      "    accuracy                           0.68      9000\n",
      "   macro avg       0.62      0.67      0.62      9000\n",
      "weighted avg       0.76      0.68      0.71      9000\n",
      "\n"
     ]
    }
   ],
   "source": [
    "classification = LogisticRegression(random_state=42, max_iter=10000)\n",
    "classification.fit(X_train_sm, y_train_sm)\n",
    "\n",
    "y_sm_pred_lg = classification.predict(X_test)\n",
    "print(classification_report(y_test, y_sm_pred_lg))"
   ]
  },
  {
   "cell_type": "code",
   "execution_count": null,
   "metadata": {},
   "outputs": [
    {
     "name": "stdout",
     "output_type": "stream",
     "text": [
      "The amount of true positives is: 1271.\n",
      "The amount of true negatives is: 4850.\n",
      "The amount of false positives is: 2190.\n",
      "The amount of false negatives is: 689.\n"
     ]
    }
   ],
   "source": [
    "get_true_false(y_test, y_sm_pred_lg) # SMOTE"
   ]
  },
  {
   "cell_type": "code",
   "execution_count": null,
   "metadata": {},
   "outputs": [
    {
     "data": {
      "text/plain": [
       "no     15040\n",
       "yes     4676\n",
       "Name: dpnm, dtype: int64"
      ]
     },
     "execution_count": 72,
     "metadata": {},
     "output_type": "execute_result"
    }
   ],
   "source": [
    "tomek = TomekLinks()\n",
    "X_train_tl, y_train_tl = tomek.fit_resample(X_train, y_train)\n",
    "y_train_tl.value_counts()"
   ]
  },
  {
   "cell_type": "code",
   "execution_count": null,
   "metadata": {},
   "outputs": [
    {
     "name": "stdout",
     "output_type": "stream",
     "text": [
      "              precision    recall  f1-score   support\n",
      "\n",
      "          no       0.83      0.95      0.89      7040\n",
      "         yes       0.64      0.33      0.43      1960\n",
      "\n",
      "    accuracy                           0.81      9000\n",
      "   macro avg       0.74      0.64      0.66      9000\n",
      "weighted avg       0.79      0.81      0.79      9000\n",
      "\n"
     ]
    }
   ],
   "source": [
    "# Tomek links\n",
    "classification = LogisticRegression(random_state=42, max_iter=10000)\n",
    "classification.fit(X_train_tl, y_train_tl)\n",
    "\n",
    "y_tl_pred_lg = classification.predict(X_test)\n",
    "print(classification_report(y_test, y_tl_pred_lg))"
   ]
  },
  {
   "cell_type": "code",
   "execution_count": null,
   "metadata": {},
   "outputs": [
    {
     "name": "stdout",
     "output_type": "stream",
     "text": [
      "The amount of true positives is: 638.\n",
      "The amount of true negatives is: 6682.\n",
      "The amount of false positives is: 358.\n",
      "The amount of false negatives is: 1322.\n"
     ]
    }
   ],
   "source": [
    "get_true_false(y_test, y_tl_pred_lg) # Tomek links"
   ]
  },
  {
   "cell_type": "markdown",
   "metadata": {},
   "source": [
    "* Using Decision Trees:"
   ]
  },
  {
   "cell_type": "code",
   "execution_count": null,
   "metadata": {},
   "outputs": [
    {
     "name": "stdout",
     "output_type": "stream",
     "text": [
      "              precision    recall  f1-score   support\n",
      "\n",
      "          no       0.86      0.85      0.86      7040\n",
      "         yes       0.49      0.52      0.50      1960\n",
      "\n",
      "    accuracy                           0.78      9000\n",
      "   macro avg       0.68      0.68      0.68      9000\n",
      "weighted avg       0.78      0.78      0.78      9000\n",
      "\n"
     ]
    }
   ],
   "source": [
    "#SMOTE\n",
    "class_dt = DecisionTreeClassifier(criterion=\"gini\", random_state=42,max_depth=2, min_samples_leaf=5)   \n",
    "class_dt.fit(X_train_sm,y_train_sm)\n",
    "\n",
    "y_pred_dt = class_dt.predict(X_test)\n",
    "print(classification_report(y_test, y_pred_dt))"
   ]
  },
  {
   "cell_type": "code",
   "execution_count": null,
   "metadata": {},
   "outputs": [
    {
     "name": "stdout",
     "output_type": "stream",
     "text": [
      "The amount of true positives is: 1010.\n",
      "The amount of true negatives is: 6001.\n",
      "The amount of false positives is: 1039.\n",
      "The amount of false negatives is: 950.\n"
     ]
    }
   ],
   "source": [
    "get_true_false(y_test, y_pred_dt) # SMOTE"
   ]
  },
  {
   "cell_type": "code",
   "execution_count": null,
   "metadata": {},
   "outputs": [
    {
     "name": "stdout",
     "output_type": "stream",
     "text": [
      "              precision    recall  f1-score   support\n",
      "\n",
      "          no       0.83      0.96      0.89      7040\n",
      "         yes       0.70      0.31      0.43      1960\n",
      "\n",
      "    accuracy                           0.82      9000\n",
      "   macro avg       0.77      0.64      0.66      9000\n",
      "weighted avg       0.80      0.82      0.79      9000\n",
      "\n"
     ]
    }
   ],
   "source": [
    "# MODEL WE WANT TO EXPORT THROUGH PICKLE\n",
    "classification_best = DecisionTreeClassifier(criterion=\"gini\", random_state=42,max_depth=2, min_samples_leaf=5)\n",
    "classification_best.fit(X_train_tl, y_train_tl)\n",
    "\n",
    "y_tl_pred_dt = classification_best.predict(X_test)\n",
    "\n",
    "filename = 'finalized_model.sav'\n",
    "pickle.dump(classification_best, open(filename, 'wb'))\n",
    "print(classification_report(y_test, y_tl_pred_dt)) # Tomek Links"
   ]
  },
  {
   "cell_type": "code",
   "execution_count": null,
   "metadata": {},
   "outputs": [
    {
     "name": "stdout",
     "output_type": "stream",
     "text": [
      "The amount of true positives is: 609.\n",
      "The amount of true negatives is: 6775.\n",
      "The amount of false positives is: 265.\n",
      "The amount of false negatives is: 1351.\n"
     ]
    }
   ],
   "source": [
    "get_true_false(y_test, y_tl_pred_dt) # Tomek Links"
   ]
  },
  {
   "cell_type": "markdown",
   "metadata": {},
   "source": [
    "* Using Random Forests:"
   ]
  },
  {
   "cell_type": "code",
   "execution_count": null,
   "metadata": {},
   "outputs": [
    {
     "name": "stdout",
     "output_type": "stream",
     "text": [
      "              precision    recall  f1-score   support\n",
      "\n",
      "          no       0.85      0.88      0.87      7040\n",
      "         yes       0.51      0.46      0.48      1960\n",
      "\n",
      "    accuracy                           0.79      9000\n",
      "   macro avg       0.68      0.67      0.67      9000\n",
      "weighted avg       0.78      0.79      0.78      9000\n",
      "\n"
     ]
    }
   ],
   "source": [
    "model = RandomForestClassifier(random_state=42)\n",
    "model.fit(X_train_sm, y_train_sm)\n",
    "\n",
    "y_pred_rf = model.predict(X_test)\n",
    "print(classification_report(y_test, y_pred_rf)) # SMOTE"
   ]
  },
  {
   "cell_type": "code",
   "execution_count": null,
   "metadata": {},
   "outputs": [
    {
     "data": {
      "text/plain": [
       "array([[-1.05964618, -1.13753351,  0.01486052, ...,  0.        ,\n",
       "         1.        ,  0.        ],\n",
       "       [-0.13475861, -1.02904717,  0.01486052, ...,  0.        ,\n",
       "         1.        ,  0.        ],\n",
       "       [-0.75135032, -0.37812914,  0.01486052, ...,  0.        ,\n",
       "         0.        ,  0.        ],\n",
       "       ...,\n",
       "       [-0.59720239, -0.05267012,  0.01486052, ...,  0.        ,\n",
       "         1.        ,  0.        ],\n",
       "       [ 0.40475915,  0.05581622,  0.01486052, ...,  0.        ,\n",
       "         0.        ,  0.        ],\n",
       "       [ 0.63598104,  0.05581622, -1.76484282, ...,  0.        ,\n",
       "         0.        ,  0.        ]])"
      ]
     },
     "execution_count": 80,
     "metadata": {},
     "output_type": "execute_result"
    }
   ],
   "source": [
    "X_test"
   ]
  },
  {
   "cell_type": "code",
   "execution_count": null,
   "metadata": {},
   "outputs": [
    {
     "name": "stdout",
     "output_type": "stream",
     "text": [
      "The amount of true positives is: 902.\n",
      "The amount of true negatives is: 6176.\n",
      "The amount of false positives is: 864.\n",
      "The amount of false negatives is: 1058.\n"
     ]
    }
   ],
   "source": [
    "get_true_false(y_test, y_pred_rf) # SMOTE"
   ]
  },
  {
   "cell_type": "code",
   "execution_count": null,
   "metadata": {},
   "outputs": [
    {
     "name": "stdout",
     "output_type": "stream",
     "text": [
      "              precision    recall  f1-score   support\n",
      "\n",
      "          no       0.85      0.93      0.89      7040\n",
      "         yes       0.61      0.40      0.48      1960\n",
      "\n",
      "    accuracy                           0.81      9000\n",
      "   macro avg       0.73      0.67      0.69      9000\n",
      "weighted avg       0.80      0.81      0.80      9000\n",
      "\n"
     ]
    }
   ],
   "source": [
    "classification = RandomForestClassifier(random_state=42)\n",
    "classification.fit(X_train_tl, y_train_tl)\n",
    "\n",
    "y_tl_pred_rf = classification.predict(X_test)\n",
    "print(classification_report(y_test, y_tl_pred_rf)) # Tomek links"
   ]
  },
  {
   "cell_type": "code",
   "execution_count": null,
   "metadata": {},
   "outputs": [
    {
     "name": "stdout",
     "output_type": "stream",
     "text": [
      "The amount of true positives is: 789.\n",
      "The amount of true negatives is: 6535.\n",
      "The amount of false positives is: 505.\n",
      "The amount of false negatives is: 1171.\n"
     ]
    }
   ],
   "source": [
    "get_true_false(y_test, y_tl_pred_rf) # Tomek links"
   ]
  },
  {
   "cell_type": "markdown",
   "metadata": {},
   "source": [
    "#### - Now we are going to generate a dataframe with all the predictions from the different models and the upsampling and downsampling techniques. This way we are going to quantify which model would maximize the earnings of the bank."
   ]
  },
  {
   "cell_type": "code",
   "execution_count": null,
   "metadata": {},
   "outputs": [
    {
     "data": {
      "text/plain": [
       "(  y_sm_pred_lg y_tl_pred_lg y_pred_dt y_tl_pred_dt y_pred_rf y_tl_pred_rf\n",
       " 0          yes           no        no           no        no           no\n",
       " 1           no           no        no           no        no           no\n",
       " 2           no           no        no           no        no           no\n",
       " 3          yes           no        no           no        no           no\n",
       " 4           no           no        no           no        no           no\n",
       " 5           no           no        no           no        no           no\n",
       " 6          yes           no       yes           no        no          yes\n",
       " 7          yes           no       yes           no        no           no\n",
       " 8           no           no        no           no        no           no\n",
       " 9           no           no        no           no        no           no,\n",
       " (9000, 6))"
      ]
     },
     "execution_count": 84,
     "metadata": {},
     "output_type": "execute_result"
    }
   ],
   "source": [
    "df_pred_mod=pd.DataFrame()\n",
    "predict_list=[y_sm_pred_lg,y_tl_pred_lg,y_pred_dt,y_tl_pred_dt,y_pred_rf,y_tl_pred_rf]\n",
    "pred_columns=['y_sm_pred_lg','y_tl_pred_lg','y_pred_dt','y_tl_pred_dt','y_pred_rf','y_tl_pred_rf']\n",
    "\n",
    "for i in range(len(pred_columns)):\n",
    "    df_pred_mod[pred_columns[i]]=predict_list[i]\n",
    "\n",
    "df_pred_mod.head(10), df_pred_mod.shape"
   ]
  },
  {
   "cell_type": "code",
   "execution_count": null,
   "metadata": {},
   "outputs": [
    {
     "data": {
      "text/plain": [
       "(9000, 3)"
      ]
     },
     "execution_count": 85,
     "metadata": {},
     "output_type": "execute_result"
    }
   ],
   "source": [
    "df_bill_pay_test.shape"
   ]
  },
  {
   "cell_type": "code",
   "execution_count": 125,
   "metadata": {},
   "outputs": [
    {
     "data": {
      "text/html": [
       "<div>\n",
       "<style scoped>\n",
       "    .dataframe tbody tr th:only-of-type {\n",
       "        vertical-align: middle;\n",
       "    }\n",
       "\n",
       "    .dataframe tbody tr th {\n",
       "        vertical-align: top;\n",
       "    }\n",
       "\n",
       "    .dataframe thead th {\n",
       "        text-align: right;\n",
       "    }\n",
       "</style>\n",
       "<table border=\"1\" class=\"dataframe\">\n",
       "  <thead>\n",
       "    <tr style=\"text-align: right;\">\n",
       "      <th></th>\n",
       "      <th>id</th>\n",
       "      <th>bill_pay_diff</th>\n",
       "      <th>dpnm</th>\n",
       "      <th>y_sm_pred_lg</th>\n",
       "      <th>y_tl_pred_lg</th>\n",
       "      <th>y_pred_dt</th>\n",
       "      <th>y_tl_pred_dt</th>\n",
       "      <th>y_pred_rf</th>\n",
       "      <th>y_tl_pred_rf</th>\n",
       "    </tr>\n",
       "  </thead>\n",
       "  <tbody>\n",
       "    <tr>\n",
       "      <th>0</th>\n",
       "      <td>4</td>\n",
       "      <td>222946</td>\n",
       "      <td>no</td>\n",
       "      <td>yes</td>\n",
       "      <td>no</td>\n",
       "      <td>no</td>\n",
       "      <td>no</td>\n",
       "      <td>no</td>\n",
       "      <td>no</td>\n",
       "    </tr>\n",
       "    <tr>\n",
       "      <th>1</th>\n",
       "      <td>7</td>\n",
       "      <td>2543836</td>\n",
       "      <td>no</td>\n",
       "      <td>no</td>\n",
       "      <td>no</td>\n",
       "      <td>no</td>\n",
       "      <td>no</td>\n",
       "      <td>no</td>\n",
       "      <td>no</td>\n",
       "    </tr>\n",
       "    <tr>\n",
       "      <th>2</th>\n",
       "      <td>8</td>\n",
       "      <td>8695</td>\n",
       "      <td>no</td>\n",
       "      <td>no</td>\n",
       "      <td>no</td>\n",
       "      <td>no</td>\n",
       "      <td>no</td>\n",
       "      <td>no</td>\n",
       "      <td>no</td>\n",
       "    </tr>\n",
       "    <tr>\n",
       "      <th>3</th>\n",
       "      <td>18</td>\n",
       "      <td>604117</td>\n",
       "      <td>no</td>\n",
       "      <td>yes</td>\n",
       "      <td>no</td>\n",
       "      <td>no</td>\n",
       "      <td>no</td>\n",
       "      <td>no</td>\n",
       "      <td>no</td>\n",
       "    </tr>\n",
       "    <tr>\n",
       "      <th>4</th>\n",
       "      <td>24</td>\n",
       "      <td>4376</td>\n",
       "      <td>yes</td>\n",
       "      <td>no</td>\n",
       "      <td>no</td>\n",
       "      <td>no</td>\n",
       "      <td>no</td>\n",
       "      <td>no</td>\n",
       "      <td>no</td>\n",
       "    </tr>\n",
       "    <tr>\n",
       "      <th>5</th>\n",
       "      <td>30</td>\n",
       "      <td>90482</td>\n",
       "      <td>no</td>\n",
       "      <td>no</td>\n",
       "      <td>no</td>\n",
       "      <td>no</td>\n",
       "      <td>no</td>\n",
       "      <td>no</td>\n",
       "      <td>no</td>\n",
       "    </tr>\n",
       "    <tr>\n",
       "      <th>6</th>\n",
       "      <td>31</td>\n",
       "      <td>16257</td>\n",
       "      <td>no</td>\n",
       "      <td>yes</td>\n",
       "      <td>no</td>\n",
       "      <td>yes</td>\n",
       "      <td>no</td>\n",
       "      <td>no</td>\n",
       "      <td>yes</td>\n",
       "    </tr>\n",
       "    <tr>\n",
       "      <th>7</th>\n",
       "      <td>35</td>\n",
       "      <td>12893</td>\n",
       "      <td>no</td>\n",
       "      <td>yes</td>\n",
       "      <td>no</td>\n",
       "      <td>yes</td>\n",
       "      <td>no</td>\n",
       "      <td>no</td>\n",
       "      <td>no</td>\n",
       "    </tr>\n",
       "    <tr>\n",
       "      <th>8</th>\n",
       "      <td>36</td>\n",
       "      <td>23032</td>\n",
       "      <td>no</td>\n",
       "      <td>no</td>\n",
       "      <td>no</td>\n",
       "      <td>no</td>\n",
       "      <td>no</td>\n",
       "      <td>no</td>\n",
       "      <td>no</td>\n",
       "    </tr>\n",
       "    <tr>\n",
       "      <th>9</th>\n",
       "      <td>42</td>\n",
       "      <td>373514</td>\n",
       "      <td>no</td>\n",
       "      <td>no</td>\n",
       "      <td>no</td>\n",
       "      <td>no</td>\n",
       "      <td>no</td>\n",
       "      <td>no</td>\n",
       "      <td>no</td>\n",
       "    </tr>\n",
       "    <tr>\n",
       "      <th>10</th>\n",
       "      <td>44</td>\n",
       "      <td>365134</td>\n",
       "      <td>no</td>\n",
       "      <td>yes</td>\n",
       "      <td>yes</td>\n",
       "      <td>yes</td>\n",
       "      <td>yes</td>\n",
       "      <td>yes</td>\n",
       "      <td>yes</td>\n",
       "    </tr>\n",
       "    <tr>\n",
       "      <th>11</th>\n",
       "      <td>45</td>\n",
       "      <td>134185</td>\n",
       "      <td>no</td>\n",
       "      <td>no</td>\n",
       "      <td>no</td>\n",
       "      <td>no</td>\n",
       "      <td>no</td>\n",
       "      <td>no</td>\n",
       "      <td>no</td>\n",
       "    </tr>\n",
       "    <tr>\n",
       "      <th>12</th>\n",
       "      <td>47</td>\n",
       "      <td>59253</td>\n",
       "      <td>yes</td>\n",
       "      <td>no</td>\n",
       "      <td>no</td>\n",
       "      <td>no</td>\n",
       "      <td>no</td>\n",
       "      <td>no</td>\n",
       "      <td>no</td>\n",
       "    </tr>\n",
       "    <tr>\n",
       "      <th>13</th>\n",
       "      <td>53</td>\n",
       "      <td>13457</td>\n",
       "      <td>no</td>\n",
       "      <td>yes</td>\n",
       "      <td>yes</td>\n",
       "      <td>yes</td>\n",
       "      <td>yes</td>\n",
       "      <td>yes</td>\n",
       "      <td>yes</td>\n",
       "    </tr>\n",
       "    <tr>\n",
       "      <th>14</th>\n",
       "      <td>55</td>\n",
       "      <td>163884</td>\n",
       "      <td>no</td>\n",
       "      <td>no</td>\n",
       "      <td>no</td>\n",
       "      <td>no</td>\n",
       "      <td>no</td>\n",
       "      <td>no</td>\n",
       "      <td>no</td>\n",
       "    </tr>\n",
       "    <tr>\n",
       "      <th>15</th>\n",
       "      <td>58</td>\n",
       "      <td>918300</td>\n",
       "      <td>no</td>\n",
       "      <td>no</td>\n",
       "      <td>no</td>\n",
       "      <td>no</td>\n",
       "      <td>no</td>\n",
       "      <td>no</td>\n",
       "      <td>no</td>\n",
       "    </tr>\n",
       "    <tr>\n",
       "      <th>16</th>\n",
       "      <td>60</td>\n",
       "      <td>2175111</td>\n",
       "      <td>no</td>\n",
       "      <td>no</td>\n",
       "      <td>no</td>\n",
       "      <td>no</td>\n",
       "      <td>no</td>\n",
       "      <td>no</td>\n",
       "      <td>no</td>\n",
       "    </tr>\n",
       "    <tr>\n",
       "      <th>17</th>\n",
       "      <td>70</td>\n",
       "      <td>84626</td>\n",
       "      <td>no</td>\n",
       "      <td>yes</td>\n",
       "      <td>no</td>\n",
       "      <td>no</td>\n",
       "      <td>no</td>\n",
       "      <td>no</td>\n",
       "      <td>no</td>\n",
       "    </tr>\n",
       "    <tr>\n",
       "      <th>18</th>\n",
       "      <td>71</td>\n",
       "      <td>390</td>\n",
       "      <td>no</td>\n",
       "      <td>no</td>\n",
       "      <td>no</td>\n",
       "      <td>no</td>\n",
       "      <td>no</td>\n",
       "      <td>yes</td>\n",
       "      <td>no</td>\n",
       "    </tr>\n",
       "    <tr>\n",
       "      <th>19</th>\n",
       "      <td>76</td>\n",
       "      <td>95738</td>\n",
       "      <td>no</td>\n",
       "      <td>yes</td>\n",
       "      <td>yes</td>\n",
       "      <td>yes</td>\n",
       "      <td>yes</td>\n",
       "      <td>yes</td>\n",
       "      <td>yes</td>\n",
       "    </tr>\n",
       "  </tbody>\n",
       "</table>\n",
       "</div>"
      ],
      "text/plain": [
       "    id  bill_pay_diff dpnm y_sm_pred_lg y_tl_pred_lg y_pred_dt y_tl_pred_dt  \\\n",
       "0    4         222946   no          yes           no        no           no   \n",
       "1    7        2543836   no           no           no        no           no   \n",
       "2    8           8695   no           no           no        no           no   \n",
       "3   18         604117   no          yes           no        no           no   \n",
       "4   24           4376  yes           no           no        no           no   \n",
       "5   30          90482   no           no           no        no           no   \n",
       "6   31          16257   no          yes           no       yes           no   \n",
       "7   35          12893   no          yes           no       yes           no   \n",
       "8   36          23032   no           no           no        no           no   \n",
       "9   42         373514   no           no           no        no           no   \n",
       "10  44         365134   no          yes          yes       yes          yes   \n",
       "11  45         134185   no           no           no        no           no   \n",
       "12  47          59253  yes           no           no        no           no   \n",
       "13  53          13457   no          yes          yes       yes          yes   \n",
       "14  55         163884   no           no           no        no           no   \n",
       "15  58         918300   no           no           no        no           no   \n",
       "16  60        2175111   no           no           no        no           no   \n",
       "17  70          84626   no          yes           no        no           no   \n",
       "18  71            390   no           no           no        no           no   \n",
       "19  76          95738   no          yes          yes       yes          yes   \n",
       "\n",
       "   y_pred_rf y_tl_pred_rf  \n",
       "0         no           no  \n",
       "1         no           no  \n",
       "2         no           no  \n",
       "3         no           no  \n",
       "4         no           no  \n",
       "5         no           no  \n",
       "6         no          yes  \n",
       "7         no           no  \n",
       "8         no           no  \n",
       "9         no           no  \n",
       "10       yes          yes  \n",
       "11        no           no  \n",
       "12        no           no  \n",
       "13       yes          yes  \n",
       "14        no           no  \n",
       "15        no           no  \n",
       "16        no           no  \n",
       "17        no           no  \n",
       "18       yes           no  \n",
       "19       yes          yes  "
      ]
     },
     "execution_count": 125,
     "metadata": {},
     "output_type": "execute_result"
    }
   ],
   "source": [
    "df_profit = pd.concat([df_bill_pay_test, df_pred_mod], axis=1, join='inner')\n",
    "df_profit.head(20)"
   ]
  },
  {
   "cell_type": "code",
   "execution_count": null,
   "metadata": {},
   "outputs": [
    {
     "data": {
      "text/plain": [
       "no     798\n",
       "yes    155\n",
       "Name: dpnm, dtype: int64"
      ]
     },
     "execution_count": 87,
     "metadata": {},
     "output_type": "execute_result"
    }
   ],
   "source": [
    "df_profit[df_profit['bill_pay_diff']<0]['dpnm'].value_counts()\n",
    "# As we can see below, about the 84% of the negative values in the \"bill_pay_diff\" column will pay.\n",
    "# In order to handle the negative sign of this value, we are going to convert it to an absolute value."
   ]
  },
  {
   "cell_type": "code",
   "execution_count": null,
   "metadata": {},
   "outputs": [],
   "source": [
    "df_profit['bill_pay_diff']=df_profit['bill_pay_diff'].abs() # convert 'bill_pay_diff' to absolute values"
   ]
  },
  {
   "cell_type": "markdown",
   "metadata": {},
   "source": [
    "*Having this table with the y_test/target variable for testing (\"dpnm\") and the predictions that made the model, we are going to define the weight of each type of mistake, depending on if the mistake is a **false positive** or a **false negative**, since they have a different impact in the earnings and losses. A false positive indicates that the client is going to default the payment but actually he is not, so probably the bank will not concede a credit the next time to a person with these features. This would cause an impact in the earnings because the bank would not earn the money for this potential client. Regarding the false negatives, they would be specially harmful because the model would be predicting that the client will not default the payment but actually he will default, so the bank would give a credit to a person who will not pay and the bank will lose the money for it.* For both of these situations we are going to provide a negative coefficient to take into account a **loss**.\n",
    "On the other hand, for the right predicted situations (**true positives** and **true negatives**), the coefficients will be positive, as they would bring a direct **profit**."
   ]
  },
  {
   "cell_type": "code",
   "execution_count": null,
   "metadata": {},
   "outputs": [],
   "source": [
    "df_profit.to_excel(\"df_profit.xlsx\")"
   ]
  },
  {
   "cell_type": "code",
   "execution_count": null,
   "metadata": {},
   "outputs": [],
   "source": [
    "def calc_prof(y_pred, y_test,profit):\n",
    "    \n",
    "    if ((y_pred=='yes') and (y_test=='yes')): # True Positives. Positive impact in the profit of the bank.\n",
    "        return (profit)\n",
    "\n",
    "    elif ((y_pred=='no') and (y_test=='no')): # True Negatives. Positive impact in the profit of the bank.\n",
    "        return (profit*(0.3))\n",
    "\n",
    "    elif ((y_pred=='no') and (y_test=='yes')): # False Negative. It will generate losses.\n",
    "        return (profit*(-1))\n",
    "\n",
    "    elif ((y_pred=='yes') and (y_test=='no')): # False Positive. It will generate losses.\n",
    "        return (profit*(-0.3))\n",
    "        \n",
    "    "
   ]
  },
  {
   "cell_type": "code",
   "execution_count": null,
   "metadata": {},
   "outputs": [],
   "source": [
    "cal_columns=['y_sm_pred_lg_cal','y_tl_pred_lg_cal','y_pred_dt_cal','y_tl_pred_dt_cal','y_pred_rf_cal','y_tl_pred_rf_cal']\n",
    "pred_columns=['y_sm_pred_lg','y_tl_pred_lg','y_pred_dt','y_tl_pred_dt','y_pred_rf','y_tl_pred_rf']"
   ]
  },
  {
   "cell_type": "code",
   "execution_count": null,
   "metadata": {},
   "outputs": [],
   "source": [
    "for i in range(len(predict_list)):\n",
    "    df_profit[cal_columns[i]]=df_profit.apply(lambda x:calc_prof(x[pred_columns[i]],x['dpnm'],x['bill_pay_diff']),axis=1)"
   ]
  },
  {
   "cell_type": "code",
   "execution_count": null,
   "metadata": {},
   "outputs": [
    {
     "data": {
      "text/html": [
       "<div>\n",
       "<style scoped>\n",
       "    .dataframe tbody tr th:only-of-type {\n",
       "        vertical-align: middle;\n",
       "    }\n",
       "\n",
       "    .dataframe tbody tr th {\n",
       "        vertical-align: top;\n",
       "    }\n",
       "\n",
       "    .dataframe thead th {\n",
       "        text-align: right;\n",
       "    }\n",
       "</style>\n",
       "<table border=\"1\" class=\"dataframe\">\n",
       "  <thead>\n",
       "    <tr style=\"text-align: right;\">\n",
       "      <th></th>\n",
       "      <th>id</th>\n",
       "      <th>bill_pay_diff</th>\n",
       "      <th>dpnm</th>\n",
       "      <th>y_sm_pred_lg</th>\n",
       "      <th>y_tl_pred_lg</th>\n",
       "      <th>y_pred_dt</th>\n",
       "      <th>y_tl_pred_dt</th>\n",
       "      <th>y_pred_rf</th>\n",
       "      <th>y_tl_pred_rf</th>\n",
       "      <th>y_sm_pred_lg_cal</th>\n",
       "      <th>y_tl_pred_lg_cal</th>\n",
       "      <th>y_pred_dt_cal</th>\n",
       "      <th>y_tl_pred_dt_cal</th>\n",
       "      <th>y_pred_rf_cal</th>\n",
       "      <th>y_tl_pred_rf_cal</th>\n",
       "    </tr>\n",
       "  </thead>\n",
       "  <tbody>\n",
       "    <tr>\n",
       "      <th>0</th>\n",
       "      <td>4</td>\n",
       "      <td>222946</td>\n",
       "      <td>no</td>\n",
       "      <td>yes</td>\n",
       "      <td>no</td>\n",
       "      <td>no</td>\n",
       "      <td>no</td>\n",
       "      <td>no</td>\n",
       "      <td>no</td>\n",
       "      <td>-66883.8</td>\n",
       "      <td>66883.8</td>\n",
       "      <td>66883.8</td>\n",
       "      <td>66883.8</td>\n",
       "      <td>66883.8</td>\n",
       "      <td>66883.8</td>\n",
       "    </tr>\n",
       "    <tr>\n",
       "      <th>1</th>\n",
       "      <td>7</td>\n",
       "      <td>2543836</td>\n",
       "      <td>no</td>\n",
       "      <td>no</td>\n",
       "      <td>no</td>\n",
       "      <td>no</td>\n",
       "      <td>no</td>\n",
       "      <td>no</td>\n",
       "      <td>no</td>\n",
       "      <td>763150.8</td>\n",
       "      <td>763150.8</td>\n",
       "      <td>763150.8</td>\n",
       "      <td>763150.8</td>\n",
       "      <td>763150.8</td>\n",
       "      <td>763150.8</td>\n",
       "    </tr>\n",
       "    <tr>\n",
       "      <th>2</th>\n",
       "      <td>8</td>\n",
       "      <td>8695</td>\n",
       "      <td>no</td>\n",
       "      <td>no</td>\n",
       "      <td>no</td>\n",
       "      <td>no</td>\n",
       "      <td>no</td>\n",
       "      <td>no</td>\n",
       "      <td>no</td>\n",
       "      <td>2608.5</td>\n",
       "      <td>2608.5</td>\n",
       "      <td>2608.5</td>\n",
       "      <td>2608.5</td>\n",
       "      <td>2608.5</td>\n",
       "      <td>2608.5</td>\n",
       "    </tr>\n",
       "    <tr>\n",
       "      <th>3</th>\n",
       "      <td>18</td>\n",
       "      <td>604117</td>\n",
       "      <td>no</td>\n",
       "      <td>yes</td>\n",
       "      <td>no</td>\n",
       "      <td>no</td>\n",
       "      <td>no</td>\n",
       "      <td>no</td>\n",
       "      <td>no</td>\n",
       "      <td>-181235.1</td>\n",
       "      <td>181235.1</td>\n",
       "      <td>181235.1</td>\n",
       "      <td>181235.1</td>\n",
       "      <td>181235.1</td>\n",
       "      <td>181235.1</td>\n",
       "    </tr>\n",
       "    <tr>\n",
       "      <th>4</th>\n",
       "      <td>24</td>\n",
       "      <td>4376</td>\n",
       "      <td>yes</td>\n",
       "      <td>no</td>\n",
       "      <td>no</td>\n",
       "      <td>no</td>\n",
       "      <td>no</td>\n",
       "      <td>no</td>\n",
       "      <td>no</td>\n",
       "      <td>-4376.0</td>\n",
       "      <td>-4376.0</td>\n",
       "      <td>-4376.0</td>\n",
       "      <td>-4376.0</td>\n",
       "      <td>-4376.0</td>\n",
       "      <td>-4376.0</td>\n",
       "    </tr>\n",
       "  </tbody>\n",
       "</table>\n",
       "</div>"
      ],
      "text/plain": [
       "   id  bill_pay_diff dpnm y_sm_pred_lg y_tl_pred_lg y_pred_dt y_tl_pred_dt  \\\n",
       "0   4         222946   no          yes           no        no           no   \n",
       "1   7        2543836   no           no           no        no           no   \n",
       "2   8           8695   no           no           no        no           no   \n",
       "3  18         604117   no          yes           no        no           no   \n",
       "4  24           4376  yes           no           no        no           no   \n",
       "\n",
       "  y_pred_rf y_tl_pred_rf  y_sm_pred_lg_cal  y_tl_pred_lg_cal  y_pred_dt_cal  \\\n",
       "0        no           no          -66883.8           66883.8        66883.8   \n",
       "1        no           no          763150.8          763150.8       763150.8   \n",
       "2        no           no            2608.5            2608.5         2608.5   \n",
       "3        no           no         -181235.1          181235.1       181235.1   \n",
       "4        no           no           -4376.0           -4376.0        -4376.0   \n",
       "\n",
       "   y_tl_pred_dt_cal  y_pred_rf_cal  y_tl_pred_rf_cal  \n",
       "0           66883.8        66883.8           66883.8  \n",
       "1          763150.8       763150.8          763150.8  \n",
       "2            2608.5         2608.5            2608.5  \n",
       "3          181235.1       181235.1          181235.1  \n",
       "4           -4376.0        -4376.0           -4376.0  "
      ]
     },
     "execution_count": 93,
     "metadata": {},
     "output_type": "execute_result"
    }
   ],
   "source": [
    "df_profit.head()"
   ]
  },
  {
   "cell_type": "code",
   "execution_count": null,
   "metadata": {},
   "outputs": [
    {
     "name": "stdout",
     "output_type": "stream",
     "text": [
      "The mean profit by customer in the model y_sm_pred_lg_cal is: 1414.48\n",
      "The mean profit by customer in the model y_tl_pred_lg_cal is: 4604.35\n",
      "The mean profit by customer in the model y_pred_dt_cal is: 1606.04\n",
      "The mean profit by customer in the model y_tl_pred_dt_cal is: 5398.33\n",
      "The mean profit by customer in the model y_pred_rf_cal is: 4360.81\n",
      "The mean profit by customer in the model y_tl_pred_rf_cal is: 4381.03\n"
     ]
    }
   ],
   "source": [
    "col_values=[]\n",
    "for col in cal_columns:\n",
    "    print(\"The mean profit by customer in the model {} is: {}\".format(col, round(df_profit[col].mean(),2)))\n",
    "    col_values.append(round(df_profit[col].mean(),2))"
   ]
  },
  {
   "cell_type": "code",
   "execution_count": null,
   "metadata": {},
   "outputs": [
    {
     "data": {
      "text/plain": [
       "5398.33"
      ]
     },
     "execution_count": 95,
     "metadata": {},
     "output_type": "execute_result"
    }
   ],
   "source": [
    "maximum_profit=max(col_values) # The greatest calculated profit amount\n",
    "maximum_profit"
   ]
  },
  {
   "cell_type": "code",
   "execution_count": null,
   "metadata": {},
   "outputs": [
    {
     "data": {
      "text/plain": [
       "3"
      ]
     },
     "execution_count": 96,
     "metadata": {},
     "output_type": "execute_result"
    }
   ],
   "source": [
    "maximum_position=col_values.index(maximum_profit) # The position of the maximum value in the list\n",
    "maximum_position"
   ]
  },
  {
   "cell_type": "code",
   "execution_count": null,
   "metadata": {},
   "outputs": [
    {
     "data": {
      "text/plain": [
       "'y_tl_pred_dt_cal'"
      ]
     },
     "execution_count": 97,
     "metadata": {},
     "output_type": "execute_result"
    }
   ],
   "source": [
    "most_prof_model=cal_columns[maximum_position] # The model that return the greatest profit.\n",
    "most_prof_model"
   ]
  },
  {
   "cell_type": "markdown",
   "metadata": {},
   "source": [
    "## Conclusion\n",
    "\n",
    "* Looking at the results above, it is possible to see that the model that would maximize the profits of the bank would be the one built with Decision Trees and using the Tomek Links downsampling method. In addition, the results show that the Tomek Links method is more effective than SMOTE for balancing the data except for Random Forest´s model, that generates better results with SMOTE. \n",
    "\n",
    "\n",
    "* It is mandatory to highlight, that in terms of metrics the Random Forests and Decision Trees are very similar and also the Logistic Regression when using Tomek Links but there are some differences in which they are able to predict better, since some mistakes or good predictions influence more the final result, hence the bank´s average profit by customer as a metric to compare the effectiveness of the predictions of every model.\n",
    "\n",
    "* As explaind before in this notebook, each type of mistake, depending on if it is a **false positive** or a **false negative**, will have a different impact in the earnings and losses. A false positive indicates that the client is going to default the payment but actually he is not, so probably the bank will not concede a credit the next time to a person with these features. This would cause an impact in the earnings because the bank would not earn the money for this potential client. Regarding the false negatives, they would be specially harmful because the model would be predicting that the client will not default the payment but actually he will default, so the bank would give a credit to a person who will not pay and the bank will lose the money for it.* For both of these situations we are going to provide a negative coefficient to take into account a **loss**.\n",
    "\n",
    "* On the other hand, for the right predicted situations (**true positives** and **true negatives**), the coefficients will be positive, as they would bring a direct **profit**."
   ]
  }
 ],
 "metadata": {
  "kernelspec": {
   "display_name": "Python 3",
   "language": "python",
   "name": "python3"
  },
  "language_info": {
   "codemirror_mode": {
    "name": "ipython",
    "version": 3
   },
   "file_extension": ".py",
   "mimetype": "text/x-python",
   "name": "python",
   "nbconvert_exporter": "python",
   "pygments_lexer": "ipython3",
   "version": "3.8.5"
  },
  "vscode": {
   "interpreter": {
    "hash": "0fbaf57b271a143e972d4a826e99c523fac13375f8e438430398ef5a77d8c18d"
   }
  }
 },
 "nbformat": 4,
 "nbformat_minor": 2
}
